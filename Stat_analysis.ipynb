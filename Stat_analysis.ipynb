{
 "cells": [
  {
   "cell_type": "markdown",
   "id": "deca1636",
   "metadata": {},
   "source": [
    "# Статистический анализ данных"
   ]
  },
  {
   "cell_type": "markdown",
   "id": "d4c5d90f",
   "metadata": {},
   "source": [
    "## Описание проекта"
   ]
  },
  {
   "cell_type": "markdown",
   "id": "a7afd7fd",
   "metadata": {},
   "source": [
    "Имеются данные о некоторых пользователях популярного сервиса аренды самокатов GoFast из нескольких городов, а также об их поездках. <br>\n",
    "Чтобы совершать поездки по городу, пользователи сервиса GoFast пользуются мобильным приложением. <br>\n",
    "Сервисом можно пользоваться с подпиской и без нее.<br>\n",
    "\n",
    "Необходимо проанализировать данные и проверить следующие гипотезы:\n",
    "1. тратят ли пользователи с подпиской больше времени на поездки;\n",
    "2. можно ли сказать, что среднее расстояние, которое проезжают пользователи с подпиской за одну поездку, не превышает 3130 метров;\n",
    "3. будет ли помесячная выручка от пользователей с подпиской по месяцам выше, чем выручка от пользователей без подписки.<br>\n",
    "\n",
    "Выяснить, какое минимальное количество промокодов нужно разослать при проведении акции на один бесплатный месяц подписки, чтобы как минимум 100 существующих клиентов продлили эту подписку.<br>\n",
    "Эта акция уже проводилась ранее и по итогу выяснилось, что после бесплатного пробного периода подписку продлевают 10 % пользователей. <br>\n",
    "Допустимая вероятность не выполнить план примерно 5 %.<br>\n",
    "\n",
    "Оценить вероятность того, что при рассылке 1 млн push-уведомлений клиентам в мобильном приложении, уведомление откроют не более 399,5 тыс. пользователей. Известно, что уведомления открывают около 40 % получивших клиентов.\n"
   ]
  },
  {
   "cell_type": "markdown",
   "id": "0ea61912",
   "metadata": {},
   "source": [
    "<b>Описание данных</b>"
   ]
  },
  {
   "cell_type": "markdown",
   "id": "bd2f9f71",
   "metadata": {},
   "source": [
    "users_go.csv - информация о пользователях <br>\n",
    "user_id\tуникальный идентификатор пользователя<br>\n",
    "name - имя пользователя<br>\n",
    "age - возраст<br>\n",
    "city - город<br>\n",
    "subscription_type - тип подписки (free, ultra)<br>\n",
    "\n",
    "rides_go.csv - информация о поездках<br>\n",
    "user_id\t- уникальный идентификатор пользователя<br>\n",
    "distance - расстояние, которое пользователь проехал в текущей сессии (в метрах)<br>\n",
    "duration - продолжительность сессии (в минутах) — время с того момента, как пользователь нажал кнопку «Начать поездку» до момента, как он нажал кнопку «Завершить поездку»<br>\n",
    "date - дата совершения поездки<br>\n",
    "\n",
    "subscriptions_go.csv - информация о подписках<br>\n",
    "subscription_type - тип подписки<br>\n",
    "minute_price - стоимость одной минуты поездки по данной подписке<br>\n",
    "start_ride_price - стоимость начала поездки<br>\n",
    "subscription_fee - стоимость ежемесячного платежа<br>\n"
   ]
  },
  {
   "cell_type": "markdown",
   "id": "21702c44",
   "metadata": {},
   "source": [
    "## Загрузка данных"
   ]
  },
  {
   "cell_type": "code",
   "execution_count": 1,
   "id": "8335293a",
   "metadata": {},
   "outputs": [],
   "source": [
    "#импортируем библиотеки\n",
    "import pandas as pd\n",
    "import numpy as np\n",
    "import datetime as dt\n",
    "import matplotlib.pyplot as plt\n",
    "from scipy import stats as st"
   ]
  },
  {
   "cell_type": "code",
   "execution_count": 2,
   "id": "92660938",
   "metadata": {
    "scrolled": true
   },
   "outputs": [
    {
     "data": {
      "text/html": [
       "<div>\n",
       "<style scoped>\n",
       "    .dataframe tbody tr th:only-of-type {\n",
       "        vertical-align: middle;\n",
       "    }\n",
       "\n",
       "    .dataframe tbody tr th {\n",
       "        vertical-align: top;\n",
       "    }\n",
       "\n",
       "    .dataframe thead th {\n",
       "        text-align: right;\n",
       "    }\n",
       "</style>\n",
       "<table border=\"1\" class=\"dataframe\">\n",
       "  <thead>\n",
       "    <tr style=\"text-align: right;\">\n",
       "      <th></th>\n",
       "      <th>user_id</th>\n",
       "      <th>name</th>\n",
       "      <th>age</th>\n",
       "      <th>city</th>\n",
       "      <th>subscription_type</th>\n",
       "    </tr>\n",
       "  </thead>\n",
       "  <tbody>\n",
       "    <tr>\n",
       "      <th>0</th>\n",
       "      <td>1</td>\n",
       "      <td>Кира</td>\n",
       "      <td>22</td>\n",
       "      <td>Тюмень</td>\n",
       "      <td>ultra</td>\n",
       "    </tr>\n",
       "    <tr>\n",
       "      <th>1</th>\n",
       "      <td>2</td>\n",
       "      <td>Станислав</td>\n",
       "      <td>31</td>\n",
       "      <td>Омск</td>\n",
       "      <td>ultra</td>\n",
       "    </tr>\n",
       "    <tr>\n",
       "      <th>2</th>\n",
       "      <td>3</td>\n",
       "      <td>Алексей</td>\n",
       "      <td>20</td>\n",
       "      <td>Москва</td>\n",
       "      <td>ultra</td>\n",
       "    </tr>\n",
       "    <tr>\n",
       "      <th>3</th>\n",
       "      <td>4</td>\n",
       "      <td>Константин</td>\n",
       "      <td>26</td>\n",
       "      <td>Ростов-на-Дону</td>\n",
       "      <td>ultra</td>\n",
       "    </tr>\n",
       "    <tr>\n",
       "      <th>4</th>\n",
       "      <td>5</td>\n",
       "      <td>Адель</td>\n",
       "      <td>28</td>\n",
       "      <td>Омск</td>\n",
       "      <td>ultra</td>\n",
       "    </tr>\n",
       "  </tbody>\n",
       "</table>\n",
       "</div>"
      ],
      "text/plain": [
       "   user_id        name  age            city subscription_type\n",
       "0        1        Кира   22          Тюмень             ultra\n",
       "1        2   Станислав   31            Омск             ultra\n",
       "2        3     Алексей   20          Москва             ultra\n",
       "3        4  Константин   26  Ростов-на-Дону             ultra\n",
       "4        5       Адель   28            Омск             ultra"
      ]
     },
     "execution_count": 2,
     "metadata": {},
     "output_type": "execute_result"
    }
   ],
   "source": [
    "#Загружаем данные из csv-файлом в датафреймы \n",
    "df_users = pd.read_csv('/datasets/users_go.csv')\n",
    "df_users.head()"
   ]
  },
  {
   "cell_type": "code",
   "execution_count": 3,
   "id": "383b7a1f",
   "metadata": {},
   "outputs": [
    {
     "name": "stdout",
     "output_type": "stream",
     "text": [
      "<class 'pandas.core.frame.DataFrame'>\n",
      "RangeIndex: 1565 entries, 0 to 1564\n",
      "Data columns (total 5 columns):\n",
      " #   Column             Non-Null Count  Dtype \n",
      "---  ------             --------------  ----- \n",
      " 0   user_id            1565 non-null   int64 \n",
      " 1   name               1565 non-null   object\n",
      " 2   age                1565 non-null   int64 \n",
      " 3   city               1565 non-null   object\n",
      " 4   subscription_type  1565 non-null   object\n",
      "dtypes: int64(2), object(3)\n",
      "memory usage: 61.3+ KB\n"
     ]
    }
   ],
   "source": [
    "df_users.info()"
   ]
  },
  {
   "cell_type": "markdown",
   "id": "282c3d7a",
   "metadata": {},
   "source": [
    "Информация о пользователях содержит 1565 строк. Пропусков нет."
   ]
  },
  {
   "cell_type": "code",
   "execution_count": 4,
   "id": "3855f6bf",
   "metadata": {},
   "outputs": [
    {
     "data": {
      "text/html": [
       "<div>\n",
       "<style scoped>\n",
       "    .dataframe tbody tr th:only-of-type {\n",
       "        vertical-align: middle;\n",
       "    }\n",
       "\n",
       "    .dataframe tbody tr th {\n",
       "        vertical-align: top;\n",
       "    }\n",
       "\n",
       "    .dataframe thead th {\n",
       "        text-align: right;\n",
       "    }\n",
       "</style>\n",
       "<table border=\"1\" class=\"dataframe\">\n",
       "  <thead>\n",
       "    <tr style=\"text-align: right;\">\n",
       "      <th></th>\n",
       "      <th>user_id</th>\n",
       "      <th>distance</th>\n",
       "      <th>duration</th>\n",
       "      <th>date</th>\n",
       "    </tr>\n",
       "  </thead>\n",
       "  <tbody>\n",
       "    <tr>\n",
       "      <th>0</th>\n",
       "      <td>1</td>\n",
       "      <td>4409.919140</td>\n",
       "      <td>25.599769</td>\n",
       "      <td>2021-01-01</td>\n",
       "    </tr>\n",
       "    <tr>\n",
       "      <th>1</th>\n",
       "      <td>1</td>\n",
       "      <td>2617.592153</td>\n",
       "      <td>15.816871</td>\n",
       "      <td>2021-01-18</td>\n",
       "    </tr>\n",
       "    <tr>\n",
       "      <th>2</th>\n",
       "      <td>1</td>\n",
       "      <td>754.159807</td>\n",
       "      <td>6.232113</td>\n",
       "      <td>2021-04-20</td>\n",
       "    </tr>\n",
       "    <tr>\n",
       "      <th>3</th>\n",
       "      <td>1</td>\n",
       "      <td>2694.783254</td>\n",
       "      <td>18.511000</td>\n",
       "      <td>2021-08-11</td>\n",
       "    </tr>\n",
       "    <tr>\n",
       "      <th>4</th>\n",
       "      <td>1</td>\n",
       "      <td>4028.687306</td>\n",
       "      <td>26.265803</td>\n",
       "      <td>2021-08-28</td>\n",
       "    </tr>\n",
       "  </tbody>\n",
       "</table>\n",
       "</div>"
      ],
      "text/plain": [
       "   user_id     distance   duration        date\n",
       "0        1  4409.919140  25.599769  2021-01-01\n",
       "1        1  2617.592153  15.816871  2021-01-18\n",
       "2        1   754.159807   6.232113  2021-04-20\n",
       "3        1  2694.783254  18.511000  2021-08-11\n",
       "4        1  4028.687306  26.265803  2021-08-28"
      ]
     },
     "execution_count": 4,
     "metadata": {},
     "output_type": "execute_result"
    }
   ],
   "source": [
    "#информация о поездках\n",
    "df_rides = pd.read_csv('/datasets/rides_go.csv')\n",
    "df_rides.head()"
   ]
  },
  {
   "cell_type": "code",
   "execution_count": 5,
   "id": "9afd0659",
   "metadata": {},
   "outputs": [
    {
     "name": "stdout",
     "output_type": "stream",
     "text": [
      "<class 'pandas.core.frame.DataFrame'>\n",
      "RangeIndex: 18068 entries, 0 to 18067\n",
      "Data columns (total 4 columns):\n",
      " #   Column    Non-Null Count  Dtype  \n",
      "---  ------    --------------  -----  \n",
      " 0   user_id   18068 non-null  int64  \n",
      " 1   distance  18068 non-null  float64\n",
      " 2   duration  18068 non-null  float64\n",
      " 3   date      18068 non-null  object \n",
      "dtypes: float64(2), int64(1), object(1)\n",
      "memory usage: 564.8+ KB\n"
     ]
    }
   ],
   "source": [
    "df_rides.info()"
   ]
  },
  {
   "cell_type": "markdown",
   "id": "5daa23f1",
   "metadata": {},
   "source": [
    "Информация о поездках содержит 18068 строк. Пропусков нет. Тип данных столбца с информацией о датах необходимо преобразовать в Datetime"
   ]
  },
  {
   "cell_type": "code",
   "execution_count": 6,
   "id": "94c69fc3",
   "metadata": {
    "scrolled": true
   },
   "outputs": [
    {
     "data": {
      "text/html": [
       "<div>\n",
       "<style scoped>\n",
       "    .dataframe tbody tr th:only-of-type {\n",
       "        vertical-align: middle;\n",
       "    }\n",
       "\n",
       "    .dataframe tbody tr th {\n",
       "        vertical-align: top;\n",
       "    }\n",
       "\n",
       "    .dataframe thead th {\n",
       "        text-align: right;\n",
       "    }\n",
       "</style>\n",
       "<table border=\"1\" class=\"dataframe\">\n",
       "  <thead>\n",
       "    <tr style=\"text-align: right;\">\n",
       "      <th></th>\n",
       "      <th>subscription_type</th>\n",
       "      <th>minute_price</th>\n",
       "      <th>start_ride_price</th>\n",
       "      <th>subscription_fee</th>\n",
       "    </tr>\n",
       "  </thead>\n",
       "  <tbody>\n",
       "    <tr>\n",
       "      <th>0</th>\n",
       "      <td>free</td>\n",
       "      <td>8</td>\n",
       "      <td>50</td>\n",
       "      <td>0</td>\n",
       "    </tr>\n",
       "    <tr>\n",
       "      <th>1</th>\n",
       "      <td>ultra</td>\n",
       "      <td>6</td>\n",
       "      <td>0</td>\n",
       "      <td>199</td>\n",
       "    </tr>\n",
       "  </tbody>\n",
       "</table>\n",
       "</div>"
      ],
      "text/plain": [
       "  subscription_type  minute_price  start_ride_price  subscription_fee\n",
       "0              free             8                50                 0\n",
       "1             ultra             6                 0               199"
      ]
     },
     "execution_count": 6,
     "metadata": {},
     "output_type": "execute_result"
    }
   ],
   "source": [
    "#информация о подписках\n",
    "df_subscriptions = pd.read_csv('/datasets/subscriptions_go.csv')\n",
    "df_subscriptions.head()"
   ]
  },
  {
   "cell_type": "markdown",
   "id": "bf7f42bb",
   "metadata": {},
   "source": [
    "## Предобработка данных"
   ]
  },
  {
   "cell_type": "code",
   "execution_count": 7,
   "id": "d8cd0f5a",
   "metadata": {
    "scrolled": true
   },
   "outputs": [
    {
     "data": {
      "text/plain": [
       "0   2021-01-01\n",
       "1   2021-01-18\n",
       "2   2021-04-20\n",
       "3   2021-08-11\n",
       "4   2021-08-28\n",
       "Name: date, dtype: datetime64[ns]"
      ]
     },
     "execution_count": 7,
     "metadata": {},
     "output_type": "execute_result"
    }
   ],
   "source": [
    "#преобразуем тип данных в столобце date      \n",
    "df_rides['date']=pd.to_datetime(df_rides['date'], format='%Y-%m-%d')\n",
    "df_rides['date'].head()"
   ]
  },
  {
   "cell_type": "code",
   "execution_count": 8,
   "id": "59fe75d9",
   "metadata": {},
   "outputs": [
    {
     "name": "stdout",
     "output_type": "stream",
     "text": [
      "Данные о поездках содержат информацию за период с 2021-01-01 00:00:00 по 2021-12-30 00:00:00\n"
     ]
    }
   ],
   "source": [
    "#проверим за какой период у нас имеются данные\n",
    "print('Данные о поездках содержат информацию за период с', df_rides['date'].min(), 'по', df_rides['date'].max())"
   ]
  },
  {
   "cell_type": "code",
   "execution_count": 9,
   "id": "c8606e5a",
   "metadata": {},
   "outputs": [
    {
     "data": {
      "text/html": [
       "<div>\n",
       "<style scoped>\n",
       "    .dataframe tbody tr th:only-of-type {\n",
       "        vertical-align: middle;\n",
       "    }\n",
       "\n",
       "    .dataframe tbody tr th {\n",
       "        vertical-align: top;\n",
       "    }\n",
       "\n",
       "    .dataframe thead th {\n",
       "        text-align: right;\n",
       "    }\n",
       "</style>\n",
       "<table border=\"1\" class=\"dataframe\">\n",
       "  <thead>\n",
       "    <tr style=\"text-align: right;\">\n",
       "      <th></th>\n",
       "      <th>user_id</th>\n",
       "      <th>distance</th>\n",
       "      <th>duration</th>\n",
       "      <th>date</th>\n",
       "      <th>ride_month</th>\n",
       "    </tr>\n",
       "  </thead>\n",
       "  <tbody>\n",
       "    <tr>\n",
       "      <th>0</th>\n",
       "      <td>1</td>\n",
       "      <td>4409.919140</td>\n",
       "      <td>25.599769</td>\n",
       "      <td>2021-01-01</td>\n",
       "      <td>1</td>\n",
       "    </tr>\n",
       "    <tr>\n",
       "      <th>1</th>\n",
       "      <td>1</td>\n",
       "      <td>2617.592153</td>\n",
       "      <td>15.816871</td>\n",
       "      <td>2021-01-18</td>\n",
       "      <td>1</td>\n",
       "    </tr>\n",
       "    <tr>\n",
       "      <th>2</th>\n",
       "      <td>1</td>\n",
       "      <td>754.159807</td>\n",
       "      <td>6.232113</td>\n",
       "      <td>2021-04-20</td>\n",
       "      <td>4</td>\n",
       "    </tr>\n",
       "    <tr>\n",
       "      <th>3</th>\n",
       "      <td>1</td>\n",
       "      <td>2694.783254</td>\n",
       "      <td>18.511000</td>\n",
       "      <td>2021-08-11</td>\n",
       "      <td>8</td>\n",
       "    </tr>\n",
       "    <tr>\n",
       "      <th>4</th>\n",
       "      <td>1</td>\n",
       "      <td>4028.687306</td>\n",
       "      <td>26.265803</td>\n",
       "      <td>2021-08-28</td>\n",
       "      <td>8</td>\n",
       "    </tr>\n",
       "  </tbody>\n",
       "</table>\n",
       "</div>"
      ],
      "text/plain": [
       "   user_id     distance   duration       date  ride_month\n",
       "0        1  4409.919140  25.599769 2021-01-01           1\n",
       "1        1  2617.592153  15.816871 2021-01-18           1\n",
       "2        1   754.159807   6.232113 2021-04-20           4\n",
       "3        1  2694.783254  18.511000 2021-08-11           8\n",
       "4        1  4028.687306  26.265803 2021-08-28           8"
      ]
     },
     "execution_count": 9,
     "metadata": {},
     "output_type": "execute_result"
    }
   ],
   "source": [
    "#создадим новый столбец с месяцем поездки\n",
    "df_rides['ride_month'] = df_rides['date'].dt.month\n",
    "df_rides.head()"
   ]
  },
  {
   "cell_type": "code",
   "execution_count": 10,
   "id": "e5123914",
   "metadata": {},
   "outputs": [
    {
     "name": "stdout",
     "output_type": "stream",
     "text": [
      "<class 'pandas.core.frame.DataFrame'>\n",
      "RangeIndex: 18068 entries, 0 to 18067\n",
      "Data columns (total 5 columns):\n",
      " #   Column      Non-Null Count  Dtype         \n",
      "---  ------      --------------  -----         \n",
      " 0   user_id     18068 non-null  int64         \n",
      " 1   distance    18068 non-null  float64       \n",
      " 2   duration    18068 non-null  float64       \n",
      " 3   date        18068 non-null  datetime64[ns]\n",
      " 4   ride_month  18068 non-null  int64         \n",
      "dtypes: datetime64[ns](1), float64(2), int64(2)\n",
      "memory usage: 705.9 KB\n"
     ]
    }
   ],
   "source": [
    "df_rides.info()"
   ]
  },
  {
   "cell_type": "code",
   "execution_count": 11,
   "id": "4fca6f6f",
   "metadata": {},
   "outputs": [
    {
     "data": {
      "text/plain": [
       "0"
      ]
     },
     "execution_count": 11,
     "metadata": {},
     "output_type": "execute_result"
    }
   ],
   "source": [
    "#проверим данные на наличие дубликатов и удалим их при наличии\n",
    "df_rides.duplicated().sum()"
   ]
  },
  {
   "cell_type": "code",
   "execution_count": 12,
   "id": "4148ad5f",
   "metadata": {},
   "outputs": [
    {
     "data": {
      "text/plain": [
       "0"
      ]
     },
     "execution_count": 12,
     "metadata": {},
     "output_type": "execute_result"
    }
   ],
   "source": [
    "df_subscriptions.duplicated().sum()"
   ]
  },
  {
   "cell_type": "code",
   "execution_count": 13,
   "id": "3b6099d3",
   "metadata": {},
   "outputs": [
    {
     "data": {
      "text/plain": [
       "31"
      ]
     },
     "execution_count": 13,
     "metadata": {},
     "output_type": "execute_result"
    }
   ],
   "source": [
    "df_users.duplicated().sum()"
   ]
  },
  {
   "cell_type": "code",
   "execution_count": 14,
   "id": "a6c4750f",
   "metadata": {},
   "outputs": [
    {
     "data": {
      "text/plain": [
       "0"
      ]
     },
     "execution_count": 14,
     "metadata": {},
     "output_type": "execute_result"
    }
   ],
   "source": [
    "df_users = df_users.drop_duplicates()\n",
    "df_users.duplicated().sum()"
   ]
  },
  {
   "cell_type": "markdown",
   "id": "74a2a473",
   "metadata": {},
   "source": [
    "В полученных данных пропусков не обнаружено. В данных о пользователях удален 31 дубликат.<br> \n",
    "После обработки данные о пользователях содержат информацию о 1534 клиентах.<br>\n",
    "Данные о поездках содержат информацию о 18068 поездках за период с 01.01.2021 по 30.12.2021. <br>\n",
    "Информация о подписках содержит 2 вида оплаты за пользование самокатом: с подпиской (ultra) и без нее (free)."
   ]
  },
  {
   "cell_type": "markdown",
   "id": "ecedf4d9",
   "metadata": {},
   "source": [
    "## Исследовательский анализ данных"
   ]
  },
  {
   "cell_type": "markdown",
   "id": "b84e9fb0",
   "metadata": {},
   "source": [
    "### Частота встречаемости городов"
   ]
  },
  {
   "cell_type": "code",
   "execution_count": 15,
   "id": "37053dfe",
   "metadata": {},
   "outputs": [
    {
     "data": {
      "text/plain": [
       "Пятигорск         219\n",
       "Екатеринбург      204\n",
       "Ростов-на-Дону    198\n",
       "Краснодар         193\n",
       "Сочи              189\n",
       "Омск              183\n",
       "Тюмень            180\n",
       "Москва            168\n",
       "Name: city, dtype: int64"
      ]
     },
     "execution_count": 15,
     "metadata": {},
     "output_type": "execute_result"
    }
   ],
   "source": [
    "#посчитаем кол-во пользователей в каждом городе\n",
    "df_users['city'].value_counts()"
   ]
  },
  {
   "cell_type": "code",
   "execution_count": 16,
   "id": "075d0931",
   "metadata": {
    "scrolled": true
   },
   "outputs": [
    {
     "data": {
      "image/png": "[encoded data removed]",
      "text/plain": [
       "<Figure size 432x288 with 1 Axes>"
      ]
     },
     "metadata": {
      "needs_background": "light"
     },
     "output_type": "display_data"
    }
   ],
   "source": [
    "df_users['city'].value_counts(ascending=True).plot(\n",
    "    kind='barh',\n",
    "    xlabel = 'Город',\n",
    "    ylabel = 'Количество пользователей',\n",
    "    title = 'Частота встречаемости городов');"
   ]
  },
  {
   "cell_type": "code",
   "execution_count": 17,
   "id": "e671eb45",
   "metadata": {},
   "outputs": [
    {
     "data": {
      "text/plain": [
       "Пятигорск         14.3\n",
       "Екатеринбург      13.3\n",
       "Ростов-на-Дону    12.9\n",
       "Краснодар         12.6\n",
       "Сочи              12.3\n",
       "Омск              11.9\n",
       "Тюмень            11.7\n",
       "Москва            11.0\n",
       "Name: city, dtype: float64"
      ]
     },
     "execution_count": 17,
     "metadata": {},
     "output_type": "execute_result"
    }
   ],
   "source": [
    "#посчитаем относительное распределение пользователей по городам\n",
    "df_users['city'].value_counts(normalize=True).round(3)*100"
   ]
  },
  {
   "cell_type": "markdown",
   "id": "1455e31f",
   "metadata": {},
   "source": [
    "Данные содержат информацию о 1534 пользователях из 8 городов.Больше всего пользователей находится в Пятигорске (219 чел. или 14.3%). Меньше всего - в Москве (168 чел. или 11%). "
   ]
  },
  {
   "cell_type": "markdown",
   "id": "d1d2452a",
   "metadata": {},
   "source": [
    "### Анализ информации о возрасте пользователей"
   ]
  },
  {
   "cell_type": "code",
   "execution_count": 18,
   "id": "f78f441c",
   "metadata": {},
   "outputs": [
    {
     "data": {
      "text/plain": [
       "count    1534.000000\n",
       "mean       24.903520\n",
       "std         4.572367\n",
       "min        12.000000\n",
       "25%        22.000000\n",
       "50%        25.000000\n",
       "75%        28.000000\n",
       "max        43.000000\n",
       "Name: age, dtype: float64"
      ]
     },
     "execution_count": 18,
     "metadata": {},
     "output_type": "execute_result"
    }
   ],
   "source": [
    "df_users['age'].describe()"
   ]
  },
  {
   "cell_type": "code",
   "execution_count": 19,
   "id": "2fb8db25",
   "metadata": {},
   "outputs": [
    {
     "data": {
      "image/png": "[encoded data removed]",
      "text/plain": [
       "<Figure size 432x288 with 1 Axes>"
      ]
     },
     "metadata": {
      "needs_background": "light"
     },
     "output_type": "display_data"
    }
   ],
   "source": [
    "df_users['age'].hist(bins=30)\n",
    "plt.title(\"Распределение пользователей по возрастам\")\n",
    "plt.xlabel('Возраст');"
   ]
  },
  {
   "cell_type": "markdown",
   "id": "f7fe154f",
   "metadata": {},
   "source": [
    "Возраст пользователей варьируется от 12 до 43 лет. Основная часть (77%) находится в возрасте от 20 до 30 лет. Средний возраст пользователей - 25 лет."
   ]
  },
  {
   "cell_type": "markdown",
   "id": "76631653",
   "metadata": {},
   "source": [
    "### Cоотношение пользователей с подпиской и без подписки"
   ]
  },
  {
   "cell_type": "code",
   "execution_count": 20,
   "id": "090a41ac",
   "metadata": {},
   "outputs": [
    {
     "data": {
      "text/plain": [
       "1.1945636623748213"
      ]
     },
     "execution_count": 20,
     "metadata": {},
     "output_type": "execute_result"
    }
   ],
   "source": [
    "#посчитаем соотношение пользователей с подпиской и без подписки\n",
    "df_users.loc[df_users['subscription_type']=='free','user_id'].count()/df_users.loc[df_users['subscription_type']=='ultra','user_id'].count()"
   ]
  },
  {
   "cell_type": "code",
   "execution_count": 21,
   "id": "2fd2cc75",
   "metadata": {
    "scrolled": true
   },
   "outputs": [
    {
     "data": {
      "image/png": "[encoded data removed]",
      "text/plain": [
       "<Figure size 432x288 with 1 Axes>"
      ]
     },
     "metadata": {},
     "output_type": "display_data"
    }
   ],
   "source": [
    "df_users.groupby('subscription_type')['user_id'].count().plot(kind='pie', \n",
    "        title='Соотношение пользователей с подпиской и без нее, %',\n",
    "        ylabel='', autopct='%1.0f%%');"
   ]
  },
  {
   "cell_type": "markdown",
   "id": "756c407b",
   "metadata": {},
   "source": [
    "Пользователей без подписки в 1,19 раз больше, чем пользователе1й с подпиской и составляет 54% от общего количества пользователей."
   ]
  },
  {
   "cell_type": "markdown",
   "id": "b4de0ba9",
   "metadata": {},
   "source": [
    "### Анализ данных о расстоянии, которое пользователь преодолел за одну поездку"
   ]
  },
  {
   "cell_type": "code",
   "execution_count": 22,
   "id": "c2e753a9",
   "metadata": {},
   "outputs": [
    {
     "data": {
      "text/plain": [
       "count    18068.000000\n",
       "mean      3070.659976\n",
       "std       1116.831209\n",
       "min          0.855683\n",
       "25%       2543.226360\n",
       "50%       3133.609994\n",
       "75%       3776.222735\n",
       "max       7211.007745\n",
       "Name: distance, dtype: float64"
      ]
     },
     "execution_count": 22,
     "metadata": {},
     "output_type": "execute_result"
    }
   ],
   "source": [
    "#расстояние, которое пользователь преодолел за одну поездку\n",
    "df_rides['distance'].describe()"
   ]
  },
  {
   "cell_type": "code",
   "execution_count": 23,
   "id": "fc4cf772",
   "metadata": {},
   "outputs": [
    {
     "data": {
      "image/png": "[encoded data removed]",
      "text/plain": [
       "<Figure size 432x288 with 1 Axes>"
      ]
     },
     "metadata": {
      "needs_background": "light"
     },
     "output_type": "display_data"
    }
   ],
   "source": [
    "df_rides['distance'].hist(bins=50)\n",
    "plt.title(\"Распределение по дальности поездки\")\n",
    "plt.xlabel('Преодоленное расстояние');"
   ]
  },
  {
   "cell_type": "code",
   "execution_count": 24,
   "id": "c1299522",
   "metadata": {
    "scrolled": false
   },
   "outputs": [
    {
     "data": {
      "image/png": "[encoded data removed]",
      "text/plain": [
       "<Figure size 432x288 with 1 Axes>"
      ]
     },
     "metadata": {
      "needs_background": "light"
     },
     "output_type": "display_data"
    }
   ],
   "source": [
    "#посмотрим отдельно на распределение по времени коротких поездок\n",
    "df_rides.query('distance<1500').hist('duration', bins=20)\n",
    "plt.title('Распределение по времени коротких поездок')\n",
    "plt.xlabel('Время поездки');"
   ]
  },
  {
   "cell_type": "markdown",
   "id": "e67f1000",
   "metadata": {},
   "source": [
    "Основная часть пользователей проезжает от 2,5 до 3,8 км за одну поездку. Среднее расстояние составляет около 3,1 км. <br>\n",
    "Однако на гистограмме есть еще небольшой пик при значении около 800 м, соответствующий небольшим поездкам, что может быть связано с использованием самоката для быстрого передвижения на небольшие расстояния (например, быстро добраться до ж/д станции или магазина) или \"пробами\" новичков (поездки с низкой скоростью на небольшие расстояния)."
   ]
  },
  {
   "cell_type": "markdown",
   "id": "250d05bb",
   "metadata": {},
   "source": [
    "### Анализ данных о продолжительнотси поездок"
   ]
  },
  {
   "cell_type": "code",
   "execution_count": 25,
   "id": "8e95107b",
   "metadata": {},
   "outputs": [
    {
     "data": {
      "text/plain": [
       "count    18068.000000\n",
       "mean        17.805011\n",
       "std          6.091051\n",
       "min          0.500000\n",
       "25%         13.597563\n",
       "50%         17.678395\n",
       "75%         21.724800\n",
       "max         40.823963\n",
       "Name: duration, dtype: float64"
      ]
     },
     "execution_count": 25,
     "metadata": {},
     "output_type": "execute_result"
    }
   ],
   "source": [
    "df_rides['duration'].describe()"
   ]
  },
  {
   "cell_type": "code",
   "execution_count": 26,
   "id": "2c6936b5",
   "metadata": {},
   "outputs": [
    {
     "data": {
      "image/png": "[encoded data removed]",
      "text/plain": [
       "<Figure size 432x288 with 1 Axes>"
      ]
     },
     "metadata": {
      "needs_background": "light"
     },
     "output_type": "display_data"
    }
   ],
   "source": [
    "df_rides['duration'].plot(kind='hist',bins=30, title ='Распределение поездок по их продолжительности')\n",
    "plt.xlabel('продолжительность поездки, мин.');"
   ]
  },
  {
   "cell_type": "markdown",
   "id": "2bebc75c",
   "metadata": {},
   "source": [
    "Длительность одной поездки варьируется от 0,5 до 41 минуты. Минимальное знаечние в 0.5 минуты слишком мало для поездки. Проверим, какое расстояние указано для поездок меньше минуты."
   ]
  },
  {
   "cell_type": "code",
   "execution_count": 27,
   "id": "e543c975",
   "metadata": {},
   "outputs": [
    {
     "data": {
      "text/html": [
       "<div>\n",
       "<style scoped>\n",
       "    .dataframe tbody tr th:only-of-type {\n",
       "        vertical-align: middle;\n",
       "    }\n",
       "\n",
       "    .dataframe tbody tr th {\n",
       "        vertical-align: top;\n",
       "    }\n",
       "\n",
       "    .dataframe thead th {\n",
       "        text-align: right;\n",
       "    }\n",
       "</style>\n",
       "<table border=\"1\" class=\"dataframe\">\n",
       "  <thead>\n",
       "    <tr style=\"text-align: right;\">\n",
       "      <th></th>\n",
       "      <th>user_id</th>\n",
       "      <th>distance</th>\n",
       "      <th>duration</th>\n",
       "      <th>date</th>\n",
       "      <th>ride_month</th>\n",
       "    </tr>\n",
       "  </thead>\n",
       "  <tbody>\n",
       "    <tr>\n",
       "      <th>15132</th>\n",
       "      <td>1325</td>\n",
       "      <td>4030.308008</td>\n",
       "      <td>0.5</td>\n",
       "      <td>2021-12-22</td>\n",
       "      <td>12</td>\n",
       "    </tr>\n",
       "    <tr>\n",
       "      <th>17909</th>\n",
       "      <td>1524</td>\n",
       "      <td>4103.998874</td>\n",
       "      <td>0.5</td>\n",
       "      <td>2021-06-18</td>\n",
       "      <td>6</td>\n",
       "    </tr>\n",
       "    <tr>\n",
       "      <th>10692</th>\n",
       "      <td>1006</td>\n",
       "      <td>4106.278268</td>\n",
       "      <td>0.5</td>\n",
       "      <td>2021-10-31</td>\n",
       "      <td>10</td>\n",
       "    </tr>\n",
       "    <tr>\n",
       "      <th>9698</th>\n",
       "      <td>937</td>\n",
       "      <td>4169.066800</td>\n",
       "      <td>0.5</td>\n",
       "      <td>2021-12-12</td>\n",
       "      <td>12</td>\n",
       "    </tr>\n",
       "    <tr>\n",
       "      <th>14342</th>\n",
       "      <td>1268</td>\n",
       "      <td>4177.139336</td>\n",
       "      <td>0.5</td>\n",
       "      <td>2021-06-09</td>\n",
       "      <td>6</td>\n",
       "    </tr>\n",
       "    <tr>\n",
       "      <th>...</th>\n",
       "      <td>...</td>\n",
       "      <td>...</td>\n",
       "      <td>...</td>\n",
       "      <td>...</td>\n",
       "      <td>...</td>\n",
       "    </tr>\n",
       "    <tr>\n",
       "      <th>14574</th>\n",
       "      <td>1285</td>\n",
       "      <td>6316.574814</td>\n",
       "      <td>0.5</td>\n",
       "      <td>2021-09-25</td>\n",
       "      <td>9</td>\n",
       "    </tr>\n",
       "    <tr>\n",
       "      <th>13701</th>\n",
       "      <td>1224</td>\n",
       "      <td>6414.516026</td>\n",
       "      <td>0.5</td>\n",
       "      <td>2021-07-15</td>\n",
       "      <td>7</td>\n",
       "    </tr>\n",
       "    <tr>\n",
       "      <th>11385</th>\n",
       "      <td>1057</td>\n",
       "      <td>6601.197575</td>\n",
       "      <td>0.5</td>\n",
       "      <td>2021-02-07</td>\n",
       "      <td>2</td>\n",
       "    </tr>\n",
       "    <tr>\n",
       "      <th>17242</th>\n",
       "      <td>1477</td>\n",
       "      <td>6724.932981</td>\n",
       "      <td>0.5</td>\n",
       "      <td>2021-01-12</td>\n",
       "      <td>1</td>\n",
       "    </tr>\n",
       "    <tr>\n",
       "      <th>16309</th>\n",
       "      <td>1411</td>\n",
       "      <td>7211.007745</td>\n",
       "      <td>0.5</td>\n",
       "      <td>2021-04-15</td>\n",
       "      <td>4</td>\n",
       "    </tr>\n",
       "  </tbody>\n",
       "</table>\n",
       "<p>95 rows × 5 columns</p>\n",
       "</div>"
      ],
      "text/plain": [
       "       user_id     distance  duration       date  ride_month\n",
       "15132     1325  4030.308008       0.5 2021-12-22          12\n",
       "17909     1524  4103.998874       0.5 2021-06-18           6\n",
       "10692     1006  4106.278268       0.5 2021-10-31          10\n",
       "9698       937  4169.066800       0.5 2021-12-12          12\n",
       "14342     1268  4177.139336       0.5 2021-06-09           6\n",
       "...        ...          ...       ...        ...         ...\n",
       "14574     1285  6316.574814       0.5 2021-09-25           9\n",
       "13701     1224  6414.516026       0.5 2021-07-15           7\n",
       "11385     1057  6601.197575       0.5 2021-02-07           2\n",
       "17242     1477  6724.932981       0.5 2021-01-12           1\n",
       "16309     1411  7211.007745       0.5 2021-04-15           4\n",
       "\n",
       "[95 rows x 5 columns]"
      ]
     },
     "execution_count": 27,
     "metadata": {},
     "output_type": "execute_result"
    }
   ],
   "source": [
    "df_rides.query('duration<1').sort_values(by='distance')"
   ]
  },
  {
   "cell_type": "code",
   "execution_count": 28,
   "id": "b5bfd542",
   "metadata": {},
   "outputs": [
    {
     "data": {
      "text/plain": [
       "array([0.5])"
      ]
     },
     "execution_count": 28,
     "metadata": {},
     "output_type": "execute_result"
    }
   ],
   "source": [
    "df_rides.query('duration<1').duration.unique()"
   ]
  },
  {
   "cell_type": "markdown",
   "id": "6728154f",
   "metadata": {},
   "source": [
    "В целом длительность поездки лежит в диапазоне от 2 до 40 минут. Основная часть пользователей тратит на одну поездку от 13 до 22 минут. Однако в данных присутствует 95 поездок длительностью 0,5 минуты и преодоленным расстоянием более 4 км.Необходимо уточнение:возможно таким образом была реализована акция с бесплатными минутами или это ошибка выгрузки данных."
   ]
  },
  {
   "cell_type": "markdown",
   "id": "71901eb7",
   "metadata": {},
   "source": [
    "### Объединение данных"
   ]
  },
  {
   "cell_type": "code",
   "execution_count": 29,
   "id": "8790cef6",
   "metadata": {
    "scrolled": true
   },
   "outputs": [
    {
     "data": {
      "text/html": [
       "<div>\n",
       "<style scoped>\n",
       "    .dataframe tbody tr th:only-of-type {\n",
       "        vertical-align: middle;\n",
       "    }\n",
       "\n",
       "    .dataframe tbody tr th {\n",
       "        vertical-align: top;\n",
       "    }\n",
       "\n",
       "    .dataframe thead th {\n",
       "        text-align: right;\n",
       "    }\n",
       "</style>\n",
       "<table border=\"1\" class=\"dataframe\">\n",
       "  <thead>\n",
       "    <tr style=\"text-align: right;\">\n",
       "      <th></th>\n",
       "      <th>user_id</th>\n",
       "      <th>name</th>\n",
       "      <th>age</th>\n",
       "      <th>city</th>\n",
       "      <th>subscription_type</th>\n",
       "      <th>distance</th>\n",
       "      <th>duration</th>\n",
       "      <th>date</th>\n",
       "      <th>ride_month</th>\n",
       "    </tr>\n",
       "  </thead>\n",
       "  <tbody>\n",
       "    <tr>\n",
       "      <th>0</th>\n",
       "      <td>1</td>\n",
       "      <td>Кира</td>\n",
       "      <td>22</td>\n",
       "      <td>Тюмень</td>\n",
       "      <td>ultra</td>\n",
       "      <td>4409.919140</td>\n",
       "      <td>25.599769</td>\n",
       "      <td>2021-01-01</td>\n",
       "      <td>1</td>\n",
       "    </tr>\n",
       "    <tr>\n",
       "      <th>1</th>\n",
       "      <td>1</td>\n",
       "      <td>Кира</td>\n",
       "      <td>22</td>\n",
       "      <td>Тюмень</td>\n",
       "      <td>ultra</td>\n",
       "      <td>2617.592153</td>\n",
       "      <td>15.816871</td>\n",
       "      <td>2021-01-18</td>\n",
       "      <td>1</td>\n",
       "    </tr>\n",
       "    <tr>\n",
       "      <th>2</th>\n",
       "      <td>1</td>\n",
       "      <td>Кира</td>\n",
       "      <td>22</td>\n",
       "      <td>Тюмень</td>\n",
       "      <td>ultra</td>\n",
       "      <td>754.159807</td>\n",
       "      <td>6.232113</td>\n",
       "      <td>2021-04-20</td>\n",
       "      <td>4</td>\n",
       "    </tr>\n",
       "    <tr>\n",
       "      <th>3</th>\n",
       "      <td>1</td>\n",
       "      <td>Кира</td>\n",
       "      <td>22</td>\n",
       "      <td>Тюмень</td>\n",
       "      <td>ultra</td>\n",
       "      <td>2694.783254</td>\n",
       "      <td>18.511000</td>\n",
       "      <td>2021-08-11</td>\n",
       "      <td>8</td>\n",
       "    </tr>\n",
       "    <tr>\n",
       "      <th>4</th>\n",
       "      <td>1</td>\n",
       "      <td>Кира</td>\n",
       "      <td>22</td>\n",
       "      <td>Тюмень</td>\n",
       "      <td>ultra</td>\n",
       "      <td>4028.687306</td>\n",
       "      <td>26.265803</td>\n",
       "      <td>2021-08-28</td>\n",
       "      <td>8</td>\n",
       "    </tr>\n",
       "    <tr>\n",
       "      <th>...</th>\n",
       "      <td>...</td>\n",
       "      <td>...</td>\n",
       "      <td>...</td>\n",
       "      <td>...</td>\n",
       "      <td>...</td>\n",
       "      <td>...</td>\n",
       "      <td>...</td>\n",
       "      <td>...</td>\n",
       "      <td>...</td>\n",
       "    </tr>\n",
       "    <tr>\n",
       "      <th>18063</th>\n",
       "      <td>1534</td>\n",
       "      <td>Альберт</td>\n",
       "      <td>25</td>\n",
       "      <td>Краснодар</td>\n",
       "      <td>free</td>\n",
       "      <td>3781.098080</td>\n",
       "      <td>19.822962</td>\n",
       "      <td>2021-11-04</td>\n",
       "      <td>11</td>\n",
       "    </tr>\n",
       "    <tr>\n",
       "      <th>18064</th>\n",
       "      <td>1534</td>\n",
       "      <td>Альберт</td>\n",
       "      <td>25</td>\n",
       "      <td>Краснодар</td>\n",
       "      <td>free</td>\n",
       "      <td>2840.423057</td>\n",
       "      <td>21.409799</td>\n",
       "      <td>2021-11-16</td>\n",
       "      <td>11</td>\n",
       "    </tr>\n",
       "    <tr>\n",
       "      <th>18065</th>\n",
       "      <td>1534</td>\n",
       "      <td>Альберт</td>\n",
       "      <td>25</td>\n",
       "      <td>Краснодар</td>\n",
       "      <td>free</td>\n",
       "      <td>3826.185507</td>\n",
       "      <td>18.435051</td>\n",
       "      <td>2021-11-18</td>\n",
       "      <td>11</td>\n",
       "    </tr>\n",
       "    <tr>\n",
       "      <th>18066</th>\n",
       "      <td>1534</td>\n",
       "      <td>Альберт</td>\n",
       "      <td>25</td>\n",
       "      <td>Краснодар</td>\n",
       "      <td>free</td>\n",
       "      <td>2902.308661</td>\n",
       "      <td>16.674362</td>\n",
       "      <td>2021-11-27</td>\n",
       "      <td>11</td>\n",
       "    </tr>\n",
       "    <tr>\n",
       "      <th>18067</th>\n",
       "      <td>1534</td>\n",
       "      <td>Альберт</td>\n",
       "      <td>25</td>\n",
       "      <td>Краснодар</td>\n",
       "      <td>free</td>\n",
       "      <td>2371.711192</td>\n",
       "      <td>15.893917</td>\n",
       "      <td>2021-12-29</td>\n",
       "      <td>12</td>\n",
       "    </tr>\n",
       "  </tbody>\n",
       "</table>\n",
       "<p>18068 rows × 9 columns</p>\n",
       "</div>"
      ],
      "text/plain": [
       "       user_id     name  age       city subscription_type     distance  \\\n",
       "0            1     Кира   22     Тюмень             ultra  4409.919140   \n",
       "1            1     Кира   22     Тюмень             ultra  2617.592153   \n",
       "2            1     Кира   22     Тюмень             ultra   754.159807   \n",
       "3            1     Кира   22     Тюмень             ultra  2694.783254   \n",
       "4            1     Кира   22     Тюмень             ultra  4028.687306   \n",
       "...        ...      ...  ...        ...               ...          ...   \n",
       "18063     1534  Альберт   25  Краснодар              free  3781.098080   \n",
       "18064     1534  Альберт   25  Краснодар              free  2840.423057   \n",
       "18065     1534  Альберт   25  Краснодар              free  3826.185507   \n",
       "18066     1534  Альберт   25  Краснодар              free  2902.308661   \n",
       "18067     1534  Альберт   25  Краснодар              free  2371.711192   \n",
       "\n",
       "        duration       date  ride_month  \n",
       "0      25.599769 2021-01-01           1  \n",
       "1      15.816871 2021-01-18           1  \n",
       "2       6.232113 2021-04-20           4  \n",
       "3      18.511000 2021-08-11           8  \n",
       "4      26.265803 2021-08-28           8  \n",
       "...          ...        ...         ...  \n",
       "18063  19.822962 2021-11-04          11  \n",
       "18064  21.409799 2021-11-16          11  \n",
       "18065  18.435051 2021-11-18          11  \n",
       "18066  16.674362 2021-11-27          11  \n",
       "18067  15.893917 2021-12-29          12  \n",
       "\n",
       "[18068 rows x 9 columns]"
      ]
     },
     "execution_count": 29,
     "metadata": {},
     "output_type": "execute_result"
    }
   ],
   "source": [
    "#Объединим данные о пользователях, поездках и подписках в один датафрейм\n",
    "df = df_users.merge(df_rides, on='user_id')\n",
    "df"
   ]
  },
  {
   "cell_type": "code",
   "execution_count": 30,
   "id": "5f125bb5",
   "metadata": {},
   "outputs": [
    {
     "data": {
      "text/html": [
       "<div>\n",
       "<style scoped>\n",
       "    .dataframe tbody tr th:only-of-type {\n",
       "        vertical-align: middle;\n",
       "    }\n",
       "\n",
       "    .dataframe tbody tr th {\n",
       "        vertical-align: top;\n",
       "    }\n",
       "\n",
       "    .dataframe thead th {\n",
       "        text-align: right;\n",
       "    }\n",
       "</style>\n",
       "<table border=\"1\" class=\"dataframe\">\n",
       "  <thead>\n",
       "    <tr style=\"text-align: right;\">\n",
       "      <th></th>\n",
       "      <th>user_id</th>\n",
       "      <th>name</th>\n",
       "      <th>age</th>\n",
       "      <th>city</th>\n",
       "      <th>subscription_type</th>\n",
       "      <th>distance</th>\n",
       "      <th>duration</th>\n",
       "      <th>date</th>\n",
       "      <th>ride_month</th>\n",
       "      <th>minute_price</th>\n",
       "      <th>start_ride_price</th>\n",
       "      <th>subscription_fee</th>\n",
       "    </tr>\n",
       "  </thead>\n",
       "  <tbody>\n",
       "    <tr>\n",
       "      <th>0</th>\n",
       "      <td>1</td>\n",
       "      <td>Кира</td>\n",
       "      <td>22</td>\n",
       "      <td>Тюмень</td>\n",
       "      <td>ultra</td>\n",
       "      <td>4409.919140</td>\n",
       "      <td>25.599769</td>\n",
       "      <td>2021-01-01</td>\n",
       "      <td>1</td>\n",
       "      <td>6</td>\n",
       "      <td>0</td>\n",
       "      <td>199</td>\n",
       "    </tr>\n",
       "    <tr>\n",
       "      <th>1</th>\n",
       "      <td>1</td>\n",
       "      <td>Кира</td>\n",
       "      <td>22</td>\n",
       "      <td>Тюмень</td>\n",
       "      <td>ultra</td>\n",
       "      <td>2617.592153</td>\n",
       "      <td>15.816871</td>\n",
       "      <td>2021-01-18</td>\n",
       "      <td>1</td>\n",
       "      <td>6</td>\n",
       "      <td>0</td>\n",
       "      <td>199</td>\n",
       "    </tr>\n",
       "    <tr>\n",
       "      <th>2</th>\n",
       "      <td>1</td>\n",
       "      <td>Кира</td>\n",
       "      <td>22</td>\n",
       "      <td>Тюмень</td>\n",
       "      <td>ultra</td>\n",
       "      <td>754.159807</td>\n",
       "      <td>6.232113</td>\n",
       "      <td>2021-04-20</td>\n",
       "      <td>4</td>\n",
       "      <td>6</td>\n",
       "      <td>0</td>\n",
       "      <td>199</td>\n",
       "    </tr>\n",
       "    <tr>\n",
       "      <th>3</th>\n",
       "      <td>1</td>\n",
       "      <td>Кира</td>\n",
       "      <td>22</td>\n",
       "      <td>Тюмень</td>\n",
       "      <td>ultra</td>\n",
       "      <td>2694.783254</td>\n",
       "      <td>18.511000</td>\n",
       "      <td>2021-08-11</td>\n",
       "      <td>8</td>\n",
       "      <td>6</td>\n",
       "      <td>0</td>\n",
       "      <td>199</td>\n",
       "    </tr>\n",
       "    <tr>\n",
       "      <th>4</th>\n",
       "      <td>1</td>\n",
       "      <td>Кира</td>\n",
       "      <td>22</td>\n",
       "      <td>Тюмень</td>\n",
       "      <td>ultra</td>\n",
       "      <td>4028.687306</td>\n",
       "      <td>26.265803</td>\n",
       "      <td>2021-08-28</td>\n",
       "      <td>8</td>\n",
       "      <td>6</td>\n",
       "      <td>0</td>\n",
       "      <td>199</td>\n",
       "    </tr>\n",
       "    <tr>\n",
       "      <th>...</th>\n",
       "      <td>...</td>\n",
       "      <td>...</td>\n",
       "      <td>...</td>\n",
       "      <td>...</td>\n",
       "      <td>...</td>\n",
       "      <td>...</td>\n",
       "      <td>...</td>\n",
       "      <td>...</td>\n",
       "      <td>...</td>\n",
       "      <td>...</td>\n",
       "      <td>...</td>\n",
       "      <td>...</td>\n",
       "    </tr>\n",
       "    <tr>\n",
       "      <th>18063</th>\n",
       "      <td>1534</td>\n",
       "      <td>Альберт</td>\n",
       "      <td>25</td>\n",
       "      <td>Краснодар</td>\n",
       "      <td>free</td>\n",
       "      <td>3781.098080</td>\n",
       "      <td>19.822962</td>\n",
       "      <td>2021-11-04</td>\n",
       "      <td>11</td>\n",
       "      <td>8</td>\n",
       "      <td>50</td>\n",
       "      <td>0</td>\n",
       "    </tr>\n",
       "    <tr>\n",
       "      <th>18064</th>\n",
       "      <td>1534</td>\n",
       "      <td>Альберт</td>\n",
       "      <td>25</td>\n",
       "      <td>Краснодар</td>\n",
       "      <td>free</td>\n",
       "      <td>2840.423057</td>\n",
       "      <td>21.409799</td>\n",
       "      <td>2021-11-16</td>\n",
       "      <td>11</td>\n",
       "      <td>8</td>\n",
       "      <td>50</td>\n",
       "      <td>0</td>\n",
       "    </tr>\n",
       "    <tr>\n",
       "      <th>18065</th>\n",
       "      <td>1534</td>\n",
       "      <td>Альберт</td>\n",
       "      <td>25</td>\n",
       "      <td>Краснодар</td>\n",
       "      <td>free</td>\n",
       "      <td>3826.185507</td>\n",
       "      <td>18.435051</td>\n",
       "      <td>2021-11-18</td>\n",
       "      <td>11</td>\n",
       "      <td>8</td>\n",
       "      <td>50</td>\n",
       "      <td>0</td>\n",
       "    </tr>\n",
       "    <tr>\n",
       "      <th>18066</th>\n",
       "      <td>1534</td>\n",
       "      <td>Альберт</td>\n",
       "      <td>25</td>\n",
       "      <td>Краснодар</td>\n",
       "      <td>free</td>\n",
       "      <td>2902.308661</td>\n",
       "      <td>16.674362</td>\n",
       "      <td>2021-11-27</td>\n",
       "      <td>11</td>\n",
       "      <td>8</td>\n",
       "      <td>50</td>\n",
       "      <td>0</td>\n",
       "    </tr>\n",
       "    <tr>\n",
       "      <th>18067</th>\n",
       "      <td>1534</td>\n",
       "      <td>Альберт</td>\n",
       "      <td>25</td>\n",
       "      <td>Краснодар</td>\n",
       "      <td>free</td>\n",
       "      <td>2371.711192</td>\n",
       "      <td>15.893917</td>\n",
       "      <td>2021-12-29</td>\n",
       "      <td>12</td>\n",
       "      <td>8</td>\n",
       "      <td>50</td>\n",
       "      <td>0</td>\n",
       "    </tr>\n",
       "  </tbody>\n",
       "</table>\n",
       "<p>18068 rows × 12 columns</p>\n",
       "</div>"
      ],
      "text/plain": [
       "       user_id     name  age       city subscription_type     distance  \\\n",
       "0            1     Кира   22     Тюмень             ultra  4409.919140   \n",
       "1            1     Кира   22     Тюмень             ultra  2617.592153   \n",
       "2            1     Кира   22     Тюмень             ultra   754.159807   \n",
       "3            1     Кира   22     Тюмень             ultra  2694.783254   \n",
       "4            1     Кира   22     Тюмень             ultra  4028.687306   \n",
       "...        ...      ...  ...        ...               ...          ...   \n",
       "18063     1534  Альберт   25  Краснодар              free  3781.098080   \n",
       "18064     1534  Альберт   25  Краснодар              free  2840.423057   \n",
       "18065     1534  Альберт   25  Краснодар              free  3826.185507   \n",
       "18066     1534  Альберт   25  Краснодар              free  2902.308661   \n",
       "18067     1534  Альберт   25  Краснодар              free  2371.711192   \n",
       "\n",
       "        duration       date  ride_month  minute_price  start_ride_price  \\\n",
       "0      25.599769 2021-01-01           1             6                 0   \n",
       "1      15.816871 2021-01-18           1             6                 0   \n",
       "2       6.232113 2021-04-20           4             6                 0   \n",
       "3      18.511000 2021-08-11           8             6                 0   \n",
       "4      26.265803 2021-08-28           8             6                 0   \n",
       "...          ...        ...         ...           ...               ...   \n",
       "18063  19.822962 2021-11-04          11             8                50   \n",
       "18064  21.409799 2021-11-16          11             8                50   \n",
       "18065  18.435051 2021-11-18          11             8                50   \n",
       "18066  16.674362 2021-11-27          11             8                50   \n",
       "18067  15.893917 2021-12-29          12             8                50   \n",
       "\n",
       "       subscription_fee  \n",
       "0                   199  \n",
       "1                   199  \n",
       "2                   199  \n",
       "3                   199  \n",
       "4                   199  \n",
       "...                 ...  \n",
       "18063                 0  \n",
       "18064                 0  \n",
       "18065                 0  \n",
       "18066                 0  \n",
       "18067                 0  \n",
       "\n",
       "[18068 rows x 12 columns]"
      ]
     },
     "execution_count": 30,
     "metadata": {},
     "output_type": "execute_result"
    }
   ],
   "source": [
    "df = df.merge(df_subscriptions, on='subscription_type')\n",
    "df"
   ]
  },
  {
   "cell_type": "code",
   "execution_count": 31,
   "id": "186a78d5",
   "metadata": {},
   "outputs": [
    {
     "data": {
      "text/html": [
       "<div>\n",
       "<style scoped>\n",
       "    .dataframe tbody tr th:only-of-type {\n",
       "        vertical-align: middle;\n",
       "    }\n",
       "\n",
       "    .dataframe tbody tr th {\n",
       "        vertical-align: top;\n",
       "    }\n",
       "\n",
       "    .dataframe thead th {\n",
       "        text-align: right;\n",
       "    }\n",
       "</style>\n",
       "<table border=\"1\" class=\"dataframe\">\n",
       "  <thead>\n",
       "    <tr style=\"text-align: right;\">\n",
       "      <th></th>\n",
       "      <th>user_id</th>\n",
       "      <th>name</th>\n",
       "      <th>age</th>\n",
       "      <th>city</th>\n",
       "      <th>subscription_type</th>\n",
       "      <th>distance</th>\n",
       "      <th>duration</th>\n",
       "      <th>date</th>\n",
       "      <th>ride_month</th>\n",
       "      <th>minute_price</th>\n",
       "      <th>start_ride_price</th>\n",
       "      <th>subscription_fee</th>\n",
       "    </tr>\n",
       "  </thead>\n",
       "  <tbody>\n",
       "    <tr>\n",
       "      <th>0</th>\n",
       "      <td>1</td>\n",
       "      <td>Кира</td>\n",
       "      <td>22</td>\n",
       "      <td>Тюмень</td>\n",
       "      <td>ultra</td>\n",
       "      <td>4409.919140</td>\n",
       "      <td>26.0</td>\n",
       "      <td>2021-01-01</td>\n",
       "      <td>1</td>\n",
       "      <td>6</td>\n",
       "      <td>0</td>\n",
       "      <td>199</td>\n",
       "    </tr>\n",
       "    <tr>\n",
       "      <th>1</th>\n",
       "      <td>1</td>\n",
       "      <td>Кира</td>\n",
       "      <td>22</td>\n",
       "      <td>Тюмень</td>\n",
       "      <td>ultra</td>\n",
       "      <td>2617.592153</td>\n",
       "      <td>16.0</td>\n",
       "      <td>2021-01-18</td>\n",
       "      <td>1</td>\n",
       "      <td>6</td>\n",
       "      <td>0</td>\n",
       "      <td>199</td>\n",
       "    </tr>\n",
       "    <tr>\n",
       "      <th>2</th>\n",
       "      <td>1</td>\n",
       "      <td>Кира</td>\n",
       "      <td>22</td>\n",
       "      <td>Тюмень</td>\n",
       "      <td>ultra</td>\n",
       "      <td>754.159807</td>\n",
       "      <td>7.0</td>\n",
       "      <td>2021-04-20</td>\n",
       "      <td>4</td>\n",
       "      <td>6</td>\n",
       "      <td>0</td>\n",
       "      <td>199</td>\n",
       "    </tr>\n",
       "    <tr>\n",
       "      <th>3</th>\n",
       "      <td>1</td>\n",
       "      <td>Кира</td>\n",
       "      <td>22</td>\n",
       "      <td>Тюмень</td>\n",
       "      <td>ultra</td>\n",
       "      <td>2694.783254</td>\n",
       "      <td>19.0</td>\n",
       "      <td>2021-08-11</td>\n",
       "      <td>8</td>\n",
       "      <td>6</td>\n",
       "      <td>0</td>\n",
       "      <td>199</td>\n",
       "    </tr>\n",
       "    <tr>\n",
       "      <th>4</th>\n",
       "      <td>1</td>\n",
       "      <td>Кира</td>\n",
       "      <td>22</td>\n",
       "      <td>Тюмень</td>\n",
       "      <td>ultra</td>\n",
       "      <td>4028.687306</td>\n",
       "      <td>27.0</td>\n",
       "      <td>2021-08-28</td>\n",
       "      <td>8</td>\n",
       "      <td>6</td>\n",
       "      <td>0</td>\n",
       "      <td>199</td>\n",
       "    </tr>\n",
       "  </tbody>\n",
       "</table>\n",
       "</div>"
      ],
      "text/plain": [
       "   user_id  name  age    city subscription_type     distance  duration  \\\n",
       "0        1  Кира   22  Тюмень             ultra  4409.919140      26.0   \n",
       "1        1  Кира   22  Тюмень             ultra  2617.592153      16.0   \n",
       "2        1  Кира   22  Тюмень             ultra   754.159807       7.0   \n",
       "3        1  Кира   22  Тюмень             ultra  2694.783254      19.0   \n",
       "4        1  Кира   22  Тюмень             ultra  4028.687306      27.0   \n",
       "\n",
       "        date  ride_month  minute_price  start_ride_price  subscription_fee  \n",
       "0 2021-01-01           1             6                 0               199  \n",
       "1 2021-01-18           1             6                 0               199  \n",
       "2 2021-04-20           4             6                 0               199  \n",
       "3 2021-08-11           8             6                 0               199  \n",
       "4 2021-08-28           8             6                 0               199  "
      ]
     },
     "execution_count": 31,
     "metadata": {},
     "output_type": "execute_result"
    }
   ],
   "source": [
    "#Округляем данные о продолжительности поездок\n",
    "df['duration'] = np.ceil(df['duration'])\n",
    "df.head()"
   ]
  },
  {
   "cell_type": "code",
   "execution_count": 32,
   "id": "04bc6015",
   "metadata": {},
   "outputs": [],
   "source": [
    "#создадим 2 датафрейма отдельно c данными о пользователях с подпиской и без нее\n",
    "df_free = df.query('subscription_type==\"free\"')\n",
    "df_ultra = df.query('subscription_type==\"ultra\"')"
   ]
  },
  {
   "cell_type": "code",
   "execution_count": 33,
   "id": "d892841f",
   "metadata": {},
   "outputs": [
    {
     "data": {
      "image/png": "[encoded data removed]",
      "text/plain": [
       "<Figure size 432x288 with 1 Axes>"
      ]
     },
     "metadata": {
      "needs_background": "light"
     },
     "output_type": "display_data"
    }
   ],
   "source": [
    "#визуализируем информацию о расстоянии по категориям\n",
    "ax=df_free.plot(kind='hist', histtype='step', y='distance', bins=50, linewidth=5, alpha=0.7, label='Расстояние free')\n",
    "ax=df_ultra.plot(kind='hist', histtype='step', y='distance', bins=50, linewidth=5, alpha=0.7, label='Расстояние ultra', ax=ax)\n",
    "plt.title('Распределение по расстоянию поездки для пользователей с подпиской и без нее')\n",
    "plt.xlabel('Растояние поездки, м');"
   ]
  },
  {
   "cell_type": "code",
   "execution_count": 34,
   "id": "576f1905",
   "metadata": {
    "scrolled": true
   },
   "outputs": [
    {
     "data": {
      "text/plain": [
       "count    11568.000000\n",
       "mean      3045.495282\n",
       "std       1246.173806\n",
       "min          0.855683\n",
       "25%       2366.562689\n",
       "50%       3114.648465\n",
       "75%       3905.697894\n",
       "max       7211.007745\n",
       "Name: distance, dtype: float64"
      ]
     },
     "execution_count": 34,
     "metadata": {},
     "output_type": "execute_result"
    }
   ],
   "source": [
    "df_free['distance'].describe()"
   ]
  },
  {
   "cell_type": "code",
   "execution_count": 35,
   "id": "3d13065f",
   "metadata": {},
   "outputs": [
    {
     "data": {
      "text/plain": [
       "count    6500.000000\n",
       "mean     3115.445388\n",
       "std       836.895330\n",
       "min       244.210438\n",
       "25%      2785.444017\n",
       "50%      3148.637229\n",
       "75%      3560.574425\n",
       "max      5699.769662\n",
       "Name: distance, dtype: float64"
      ]
     },
     "execution_count": 35,
     "metadata": {},
     "output_type": "execute_result"
    }
   ],
   "source": [
    "df_ultra['distance'].describe()"
   ]
  },
  {
   "cell_type": "markdown",
   "id": "0efd99bf",
   "metadata": {},
   "source": [
    "Расстояние, преодоленное за одну поездку для обеих категорий пользователей распределено примерно одинаково. Однако, разброс значений для расстояния, преодалеваемого пользователями без подписки больше, чем для пользователей с подпиской. "
   ]
  },
  {
   "cell_type": "code",
   "execution_count": 36,
   "id": "c708a3de",
   "metadata": {},
   "outputs": [
    {
     "data": {
      "image/png": "[encoded data removed]",
      "text/plain": [
       "<Figure size 432x288 with 1 Axes>"
      ]
     },
     "metadata": {
      "needs_background": "light"
     },
     "output_type": "display_data"
    }
   ],
   "source": [
    "#визуализируем информацию о времени поездок по категориям\n",
    "ax=df_free.plot(kind='hist', histtype='step', y='duration', bins=30, linewidth=5, label='Время поездки free')\n",
    "ax=df_ultra.plot(kind='hist',y='duration', histtype='step', bins=30, linewidth=5, alpha=0.5,label='Время поездки ultra',ax=ax)\n",
    "plt.title('Распределение по продолжительности поездки для пользователей с подпиской и без нее')\n",
    "plt.xlabel('Продолжительность поездки, мин');"
   ]
  },
  {
   "cell_type": "markdown",
   "id": "9b1b350b",
   "metadata": {},
   "source": [
    "Время поездки для обеих категорий пользователей распределено примерно одинаково. Однако, максимальное время поездки у пользователей с подпиской больше, чем у пользователей без нее."
   ]
  },
  {
   "cell_type": "code",
   "execution_count": 37,
   "id": "da01b39a",
   "metadata": {},
   "outputs": [
    {
     "data": {
      "text/plain": [
       "count    11568.000000\n",
       "mean        17.890992\n",
       "std          6.330250\n",
       "min          1.000000\n",
       "25%         13.000000\n",
       "50%         18.000000\n",
       "75%         22.000000\n",
       "max         35.000000\n",
       "Name: duration, dtype: float64"
      ]
     },
     "execution_count": 37,
     "metadata": {},
     "output_type": "execute_result"
    }
   ],
   "source": [
    "df_free['duration'].describe()"
   ]
  },
  {
   "cell_type": "code",
   "execution_count": 38,
   "id": "46e383cd",
   "metadata": {
    "scrolled": true
   },
   "outputs": [
    {
     "data": {
      "text/plain": [
       "count    6500.000000\n",
       "mean       19.037692\n",
       "std         5.577439\n",
       "min         4.000000\n",
       "25%        15.000000\n",
       "50%        19.000000\n",
       "75%        22.000000\n",
       "max        41.000000\n",
       "Name: duration, dtype: float64"
      ]
     },
     "execution_count": 38,
     "metadata": {},
     "output_type": "execute_result"
    }
   ],
   "source": [
    "df_ultra['duration'].describe()"
   ]
  },
  {
   "cell_type": "markdown",
   "id": "1debd87c",
   "metadata": {},
   "source": [
    "### Подсчёт выручки"
   ]
  },
  {
   "cell_type": "markdown",
   "id": "5571c63a",
   "metadata": {},
   "source": [
    "Создадим датафрейм с агрегированными данными о поездках для каждого пользователя: \n",
    "найдем суммарное расстояние, количество поездок, суммарное время за каждый месяц, месячную выручка по каждому пользователю."
   ]
  },
  {
   "cell_type": "code",
   "execution_count": 39,
   "id": "8d8fb016",
   "metadata": {},
   "outputs": [
    {
     "data": {
      "text/html": [
       "<div>\n",
       "<style scoped>\n",
       "    .dataframe tbody tr th:only-of-type {\n",
       "        vertical-align: middle;\n",
       "    }\n",
       "\n",
       "    .dataframe tbody tr th {\n",
       "        vertical-align: top;\n",
       "    }\n",
       "\n",
       "    .dataframe thead th {\n",
       "        text-align: right;\n",
       "    }\n",
       "</style>\n",
       "<table border=\"1\" class=\"dataframe\">\n",
       "  <thead>\n",
       "    <tr style=\"text-align: right;\">\n",
       "      <th></th>\n",
       "      <th>user_id</th>\n",
       "      <th>ride_month</th>\n",
       "      <th>minute_price</th>\n",
       "      <th>start_ride_price</th>\n",
       "      <th>subscription_fee</th>\n",
       "      <th>subscription_type</th>\n",
       "      <th>dist_sum</th>\n",
       "      <th>duration_sum</th>\n",
       "      <th>rides_quantity</th>\n",
       "      <th>earning</th>\n",
       "    </tr>\n",
       "  </thead>\n",
       "  <tbody>\n",
       "    <tr>\n",
       "      <th>0</th>\n",
       "      <td>1</td>\n",
       "      <td>1</td>\n",
       "      <td>6</td>\n",
       "      <td>0</td>\n",
       "      <td>199</td>\n",
       "      <td>ultra</td>\n",
       "      <td>7027.511294</td>\n",
       "      <td>42.0</td>\n",
       "      <td>2</td>\n",
       "      <td>451.0</td>\n",
       "    </tr>\n",
       "    <tr>\n",
       "      <th>1</th>\n",
       "      <td>1</td>\n",
       "      <td>4</td>\n",
       "      <td>6</td>\n",
       "      <td>0</td>\n",
       "      <td>199</td>\n",
       "      <td>ultra</td>\n",
       "      <td>754.159807</td>\n",
       "      <td>7.0</td>\n",
       "      <td>1</td>\n",
       "      <td>241.0</td>\n",
       "    </tr>\n",
       "    <tr>\n",
       "      <th>2</th>\n",
       "      <td>1</td>\n",
       "      <td>8</td>\n",
       "      <td>6</td>\n",
       "      <td>0</td>\n",
       "      <td>199</td>\n",
       "      <td>ultra</td>\n",
       "      <td>6723.470560</td>\n",
       "      <td>46.0</td>\n",
       "      <td>2</td>\n",
       "      <td>475.0</td>\n",
       "    </tr>\n",
       "    <tr>\n",
       "      <th>3</th>\n",
       "      <td>1</td>\n",
       "      <td>10</td>\n",
       "      <td>6</td>\n",
       "      <td>0</td>\n",
       "      <td>199</td>\n",
       "      <td>ultra</td>\n",
       "      <td>5809.911100</td>\n",
       "      <td>32.0</td>\n",
       "      <td>2</td>\n",
       "      <td>391.0</td>\n",
       "    </tr>\n",
       "    <tr>\n",
       "      <th>4</th>\n",
       "      <td>1</td>\n",
       "      <td>11</td>\n",
       "      <td>6</td>\n",
       "      <td>0</td>\n",
       "      <td>199</td>\n",
       "      <td>ultra</td>\n",
       "      <td>7003.499363</td>\n",
       "      <td>56.0</td>\n",
       "      <td>3</td>\n",
       "      <td>535.0</td>\n",
       "    </tr>\n",
       "    <tr>\n",
       "      <th>5</th>\n",
       "      <td>1</td>\n",
       "      <td>12</td>\n",
       "      <td>6</td>\n",
       "      <td>0</td>\n",
       "      <td>199</td>\n",
       "      <td>ultra</td>\n",
       "      <td>6751.629942</td>\n",
       "      <td>28.0</td>\n",
       "      <td>2</td>\n",
       "      <td>367.0</td>\n",
       "    </tr>\n",
       "    <tr>\n",
       "      <th>6</th>\n",
       "      <td>2</td>\n",
       "      <td>3</td>\n",
       "      <td>6</td>\n",
       "      <td>0</td>\n",
       "      <td>199</td>\n",
       "      <td>ultra</td>\n",
       "      <td>10187.723006</td>\n",
       "      <td>63.0</td>\n",
       "      <td>3</td>\n",
       "      <td>577.0</td>\n",
       "    </tr>\n",
       "    <tr>\n",
       "      <th>7</th>\n",
       "      <td>2</td>\n",
       "      <td>4</td>\n",
       "      <td>6</td>\n",
       "      <td>0</td>\n",
       "      <td>199</td>\n",
       "      <td>ultra</td>\n",
       "      <td>6164.381824</td>\n",
       "      <td>40.0</td>\n",
       "      <td>2</td>\n",
       "      <td>439.0</td>\n",
       "    </tr>\n",
       "    <tr>\n",
       "      <th>8</th>\n",
       "      <td>2</td>\n",
       "      <td>6</td>\n",
       "      <td>6</td>\n",
       "      <td>0</td>\n",
       "      <td>199</td>\n",
       "      <td>ultra</td>\n",
       "      <td>3255.338202</td>\n",
       "      <td>14.0</td>\n",
       "      <td>1</td>\n",
       "      <td>283.0</td>\n",
       "    </tr>\n",
       "    <tr>\n",
       "      <th>9</th>\n",
       "      <td>2</td>\n",
       "      <td>7</td>\n",
       "      <td>6</td>\n",
       "      <td>0</td>\n",
       "      <td>199</td>\n",
       "      <td>ultra</td>\n",
       "      <td>6780.722964</td>\n",
       "      <td>48.0</td>\n",
       "      <td>2</td>\n",
       "      <td>487.0</td>\n",
       "    </tr>\n",
       "  </tbody>\n",
       "</table>\n",
       "</div>"
      ],
      "text/plain": [
       "   user_id  ride_month  minute_price  start_ride_price  subscription_fee  \\\n",
       "0        1           1             6                 0               199   \n",
       "1        1           4             6                 0               199   \n",
       "2        1           8             6                 0               199   \n",
       "3        1          10             6                 0               199   \n",
       "4        1          11             6                 0               199   \n",
       "5        1          12             6                 0               199   \n",
       "6        2           3             6                 0               199   \n",
       "7        2           4             6                 0               199   \n",
       "8        2           6             6                 0               199   \n",
       "9        2           7             6                 0               199   \n",
       "\n",
       "  subscription_type      dist_sum  duration_sum  rides_quantity  earning  \n",
       "0             ultra   7027.511294          42.0               2    451.0  \n",
       "1             ultra    754.159807           7.0               1    241.0  \n",
       "2             ultra   6723.470560          46.0               2    475.0  \n",
       "3             ultra   5809.911100          32.0               2    391.0  \n",
       "4             ultra   7003.499363          56.0               3    535.0  \n",
       "5             ultra   6751.629942          28.0               2    367.0  \n",
       "6             ultra  10187.723006          63.0               3    577.0  \n",
       "7             ultra   6164.381824          40.0               2    439.0  \n",
       "8             ultra   3255.338202          14.0               1    283.0  \n",
       "9             ultra   6780.722964          48.0               2    487.0  "
      ]
     },
     "execution_count": 39,
     "metadata": {},
     "output_type": "execute_result"
    }
   ],
   "source": [
    "#агрегируем данные и рассчитываем доход\n",
    "df_sum = (df.groupby(['user_id','ride_month','minute_price','start_ride_price','subscription_fee','subscription_type'])\n",
    "            .agg({'distance':'sum','duration':'sum','date':'count'}).reset_index())\n",
    "df_sum = df_sum.rename(columns={'date':'rides_quantity','distance':'dist_sum','duration':'duration_sum'})\n",
    "df_sum['earning'] = df_sum['duration_sum']*df_sum['minute_price']\\\n",
    "                          +df_sum['start_ride_price']*df_sum['rides_quantity']\\\n",
    "                          +df_sum['subscription_fee']\n",
    "df_sum.head(10)"
   ]
  },
  {
   "cell_type": "code",
   "execution_count": 40,
   "id": "ac4d4dac",
   "metadata": {},
   "outputs": [],
   "source": [
    "#делим данные на 2 части по наличию подписки\n",
    "df_free_sum = df_sum.query('subscription_type==\"free\"')\n",
    "df_ultra_sum = df_sum.query('subscription_type==\"ultra\"')"
   ]
  },
  {
   "cell_type": "markdown",
   "id": "51af4398",
   "metadata": {},
   "source": [
    "## Проверка гипотез"
   ]
  },
  {
   "cell_type": "markdown",
   "id": "bca0385d",
   "metadata": {},
   "source": [
    "### Гипотеза 1"
   ]
  },
  {
   "cell_type": "markdown",
   "id": "235b85b7",
   "metadata": {},
   "source": [
    "Проверим тратят ли пользователи с подпиской больше времени на поездки.<br>\n",
    "H0: пользователи с подпиской и без нее тратят одинаковое время на поездки.<br>\n",
    "H1: пользователи с подпиской тратят больше времени на поездки, чем пользователи без подписки.<br>\n",
    "Уровень статистической значимости 5%."
   ]
  },
  {
   "cell_type": "code",
   "execution_count": 41,
   "id": "7e4b7646",
   "metadata": {},
   "outputs": [
    {
     "name": "stdout",
     "output_type": "stream",
     "text": [
      "p-значение: 2.4959453720736625e-34\n",
      "Отвергаем нулевую гипотезу\n"
     ]
    }
   ],
   "source": [
    "alpha = 0.05\n",
    "results = st.ttest_ind(df_ultra['duration'], df_free['duration'],alternative='greater') \n",
    "print('p-значение:', results.pvalue)\n",
    "if (results.pvalue < alpha):\n",
    "    print('Отвергаем нулевую гипотезу')\n",
    "else:\n",
    "    print('Не отвергаем нулевую гипотезу') "
   ]
  },
  {
   "cell_type": "markdown",
   "id": "65d3cd9b",
   "metadata": {},
   "source": [
    "Получаем, что пользователи с подпиской действительно тратят больше времени на поездки."
   ]
  },
  {
   "cell_type": "code",
   "execution_count": 42,
   "id": "1fc03e41",
   "metadata": {},
   "outputs": [
    {
     "name": "stdout",
     "output_type": "stream",
     "text": [
      "Cредняя продолжительность поездок пользователей с подпиской 19.0 минут\n",
      "Cредняя продолжительность поездок пользователей без подписки 18.0 минут\n"
     ]
    }
   ],
   "source": [
    "print('Cредняя продолжительность поездок пользователей с подпиской', df_ultra['duration'].mean().round(),'минут')\n",
    "print('Cредняя продолжительность поездок пользователей без подписки', df_free['duration'].mean().round(),'минут')"
   ]
  },
  {
   "cell_type": "markdown",
   "id": "4db180a7",
   "metadata": {},
   "source": [
    "### Гипотеза 2"
   ]
  },
  {
   "cell_type": "markdown",
   "id": "e3bbe448",
   "metadata": {},
   "source": [
    "Проверим правильно ли предположение, что пользователи с подпиской в среднем проезжают за одну поездку не более 3130 метров.<br>\n",
    "H0: пользователи с подпиской проезжают в среднем 3130 метров за одну поездку. <br>\n",
    "H1: пользователи с подпиской проезжают в среднем более 3130 метров за одну поездку. <br>\n",
    "Уровень статистической значимости 5%."
   ]
  },
  {
   "cell_type": "code",
   "execution_count": 43,
   "id": "b56ecef6",
   "metadata": {},
   "outputs": [
    {
     "data": {
      "text/plain": [
       "count    6500.000000\n",
       "mean     3115.445388\n",
       "std       836.895330\n",
       "min       244.210438\n",
       "25%      2785.444017\n",
       "50%      3148.637229\n",
       "75%      3560.574425\n",
       "max      5699.769662\n",
       "Name: distance, dtype: float64"
      ]
     },
     "execution_count": 43,
     "metadata": {},
     "output_type": "execute_result"
    }
   ],
   "source": [
    "df_ultra['distance'].describe()"
   ]
  },
  {
   "cell_type": "code",
   "execution_count": 44,
   "id": "670d0451",
   "metadata": {},
   "outputs": [
    {
     "name": "stdout",
     "output_type": "stream",
     "text": [
      "p-значение: 0.9195368847849785\n",
      "Не получилось отвергнуть нулевую гипотезу: расстояние не превышает 3130 метров\n"
     ]
    }
   ],
   "source": [
    "alpha = 0.05\n",
    "dist = 3130\n",
    "results = st.ttest_1samp(df_ultra['distance'], dist, alternative='greater') \n",
    "print('p-значение:', results.pvalue)\n",
    "if (results.pvalue<alpha):\n",
    "    print('Отвергаем нулевую гипотезу: расстояние превышает 3130 метров')\n",
    "else:\n",
    "    print('Не получилось отвергнуть нулевую гипотезу: расстояние не превышает 3130 метров')"
   ]
  },
  {
   "cell_type": "markdown",
   "id": "efb7f058",
   "metadata": {},
   "source": [
    "Мы не можем отвергнуть нулевую гипотезу в сторону альтернативной гипотезы о том, что пользователи проезжают больше 3130 метров за одну поездку. Следовательно, предположение, что в среднем они проезжают не более 3130 метров можно считать верным."
   ]
  },
  {
   "cell_type": "markdown",
   "id": "3fb41358",
   "metadata": {},
   "source": [
    "### Гипотеза 3"
   ]
  },
  {
   "cell_type": "markdown",
   "id": "e72b38f2",
   "metadata": {},
   "source": [
    "Проверим,будет ли помесячная выручка от пользователей с подпиской выше, чем выручка от пользователей без подписки.<br>\n",
    "H0: выручки равны<br>\n",
    "H1: выручка от пользователей с подпиской больше, чем выручка от пользователей без подписки<br>\n",
    "Уровень статистической значимости 5%."
   ]
  },
  {
   "cell_type": "code",
   "execution_count": 45,
   "id": "5786993b",
   "metadata": {},
   "outputs": [
    {
     "name": "stdout",
     "output_type": "stream",
     "text": [
      "p-значение: 1.8850394384715216e-31\n",
      "Отвергаем нулевую гипотезу. Ежемесячная выручка от пользователей с подпиской выше\n"
     ]
    }
   ],
   "source": [
    "alpha = 0.05\n",
    "results = st.ttest_ind(df_ultra_sum['earning'],df_free_sum['earning'],alternative='greater') \n",
    "print('p-значение:', results.pvalue)\n",
    "if (results.pvalue < alpha):\n",
    "    print('Отвергаем нулевую гипотезу. Ежемесячная выручка от пользователей с подпиской выше')\n",
    "else:\n",
    "    print('Не отвергаем нулевую гипотезу') "
   ]
  },
  {
   "cell_type": "code",
   "execution_count": 46,
   "id": "fe8936d6",
   "metadata": {},
   "outputs": [
    {
     "name": "stdout",
     "output_type": "stream",
     "text": [
      "Cреднемесячная выручка от пользователей с подпиской 363.0 руб.\n",
      "Cреднемесячная выручка от пользователей без подписки 329.0 руб.\n"
     ]
    }
   ],
   "source": [
    "print('Cреднемесячная выручка от пользователей с подпиской', df_ultra_sum['earning'].mean().round(),'руб.')\n",
    "print('Cреднемесячная выручка от пользователей без подписки', df_free_sum['earning'].mean().round(),'руб.')"
   ]
  },
  {
   "cell_type": "markdown",
   "id": "55da809d",
   "metadata": {},
   "source": [
    "## Распределения"
   ]
  },
  {
   "cell_type": "markdown",
   "id": "aec3add9",
   "metadata": {},
   "source": [
    "<b>Задача 1</b>"
   ]
  },
  {
   "cell_type": "markdown",
   "id": "9bf42b02",
   "metadata": {},
   "source": [
    "Отделу маркетинга нужно провести акцию с раздачей промокодов на один бесплатный месяц подписки, в рамках которой как минимум 100 существующих клиентов должны продлить эту подписку. То есть по завершении периода действия подписки пользователь может либо отказаться от неё, либо продлить, совершив соответствующий платёж. \n",
    "Эта акция уже проводилась ранее и по итогу выяснилось, что после бесплатного пробного периода подписку продлевают \n",
    "10 % пользователей. \n",
    "Необходимо выяснить, какое минимальное количество промокодов нужно разослать, чтобы вероятность не выполнить план была примерно 5 %."
   ]
  },
  {
   "cell_type": "markdown",
   "id": "94b86e81",
   "metadata": {},
   "source": [
    "Для данного эксперименте проводятся независимые испытания с двумя исходами - продлить подписку или отказаться от нее, что соответствует биноминальному распределению. Чтобы при верояности успеха 10% получить 100 подписок необходим расолать не менее 1000 промокодов.\n",
    "Количество испытаний n=1000, вероятность успеха = 0,1."
   ]
  },
  {
   "cell_type": "code",
   "execution_count": 47,
   "id": "04d3080e",
   "metadata": {},
   "outputs": [
    {
     "name": "stderr",
     "output_type": "stream",
     "text": [
      "/opt/conda/lib/python3.9/site-packages/scipy/stats/_discrete_distns.py:78: RuntimeWarning: divide by zero encountered in _binom_pdf\n",
      "  return _boost._binom_pdf(x, n, p)\n"
     ]
    },
    {
     "data": {
      "image/png": "[encoded data removed]",
      "text/plain": [
       "<Figure size 432x288 with 1 Axes>"
      ]
     },
     "metadata": {
      "needs_background": "light"
     },
     "output_type": "display_data"
    }
   ],
   "source": [
    "n=1000\n",
    "p=0.1\n",
    "\n",
    "distr = []\n",
    "\n",
    "for k in range(0, n + 1):\n",
    "    current_value = st.binom.pmf(k, n, p)\n",
    "    distr.append(current_value)\n",
    "   \n",
    "plt.bar(range(0, n + 1), distr)\n",
    "plt.title ('Биномиальное распределение')\n",
    "plt.xlabel('Количество подписок')\n",
    "plt.ylabel('Вероятность');\n",
    "plt.show()\n"
   ]
  },
  {
   "cell_type": "markdown",
   "id": "0e8a2168",
   "metadata": {},
   "source": [
    "Распределение близко к номральному. Проверим, что его можно аппроксимировать нормальным распределением."
   ]
  },
  {
   "cell_type": "code",
   "execution_count": 48,
   "id": "f871aa75",
   "metadata": {},
   "outputs": [
    {
     "name": "stdout",
     "output_type": "stream",
     "text": [
      "Леваяграница 71\n",
      "Праваяграница 128\n"
     ]
    }
   ],
   "source": [
    "mu = n*p\n",
    "sigma = (n*p*(1-p))**0.5\n",
    "# границы промежутка, в котором будем строить аппроксимацию -\n",
    "# от n*p минус 3 ст.отклонения бином.распределения\n",
    "# до n*p плюс 3 ст.отклонения бином.распределения\n",
    "left = int(n * p - 3 * (n * p * (1 - p))**0.5)\n",
    "right = int(n * p + 3 * (n * p * (1 - p))**0.5)\n",
    "print('Леваяграница',left)\n",
    "print('Праваяграница', right)\n"
   ]
  },
  {
   "cell_type": "markdown",
   "id": "aae5c801",
   "metadata": {},
   "source": [
    "Отрезок аппроксимации лежит внутри отрезка, на котором определено биноминальное распределение. "
   ]
  },
  {
   "cell_type": "code",
   "execution_count": 49,
   "id": "6c0387a2",
   "metadata": {},
   "outputs": [
    {
     "data": {
      "text/plain": [
       "0.5"
      ]
     },
     "execution_count": 49,
     "metadata": {},
     "output_type": "execute_result"
    }
   ],
   "source": [
    "distr_app = st.norm(mu, sigma)\n",
    "xmin=100\n",
    "result=1-distr_app.cdf(xmin)\n",
    "result"
   ]
  },
  {
   "cell_type": "markdown",
   "id": "688a2ee2",
   "metadata": {},
   "source": [
    "При рассылке 1000 промокодов вероятность получить 100 подписок равна 50%. Будем увеличивать количество промокодов с шагом в 20 шт. для поиска необходимого количества промокодов."
   ]
  },
  {
   "cell_type": "code",
   "execution_count": 50,
   "id": "c663b5a2",
   "metadata": {},
   "outputs": [
    {
     "name": "stdout",
     "output_type": "stream",
     "text": [
      "1010 0.541766917246966\n",
      "1020 0.5826749521227874\n",
      "1030 0.622323353484773\n",
      "1040 0.660361201893336\n",
      "1050 0.6964944226198999\n",
      "1060 0.7304898355979456\n",
      "1070 0.7621763696429296\n",
      "1080 0.7914437190269021\n",
      "1090 0.8182388308211437\n",
      "1100 0.84256067933179\n",
      "1110 0.8644538113916442\n",
      "1120 0.884001138185633\n",
      "1130 0.9013164126003091\n",
      "1140 0.916536773681788\n",
      "1150 0.9298156696141634\n",
      "1160 0.9413163950131069\n",
      "1170 0.9512064034722397\n",
      "1180 0.9596524870212627\n",
      "1190 0.966816853804489\n"
     ]
    }
   ],
   "source": [
    "for i in range(1,20):\n",
    "    n = 1000+i*10\n",
    "    mu = n*p\n",
    "    sigma = (n*p*(1-p))**0.5\n",
    "    distr_app = st.norm(mu, sigma)\n",
    "    xmin=100\n",
    "    result=1-distr_app.cdf(xmin)\n",
    "    print (n, result)\n"
   ]
  },
  {
   "cell_type": "markdown",
   "id": "96faaa87",
   "metadata": {},
   "source": [
    "При количестве промокодов, равным 1170 шт., вероятность получить менее 100 подписок составляет 95.1%, что соответствует условию. "
   ]
  },
  {
   "cell_type": "markdown",
   "id": "5243d3d6",
   "metadata": {},
   "source": [
    "<b>Задача 2</b>"
   ]
  },
  {
   "cell_type": "markdown",
   "id": "e19ecf85",
   "metadata": {},
   "source": [
    "Отдел маркетинга планирует разослать клиентам 1 млн push-уведомлений в мобильном приложении. Известно, что уведомления открывают около 40 % получивших клиентов.  \n",
    "Необходимо оценить вероятность того, что уведомление откроют не более 399,5 тыс. пользователей."
   ]
  },
  {
   "cell_type": "markdown",
   "id": "9536da7d",
   "metadata": {},
   "source": [
    "Для данного эксперименте проводятся независимые испытания с двумя исходами - открыть уведомление или нет, что соответствует биноминальному распределению.\n",
    "Количество испытаний =1000000, вероятность успеха = 0,4."
   ]
  },
  {
   "cell_type": "code",
   "execution_count": 51,
   "id": "b4bd0785",
   "metadata": {},
   "outputs": [
    {
     "name": "stdout",
     "output_type": "stream",
     "text": [
      "Леваяграница 398040\n",
      "Праваяграница 401959\n"
     ]
    }
   ],
   "source": [
    "#проверим возможность аппроксмации нормальным распределением\n",
    "#параметры биномиального распределения\n",
    "n1 = 1000000\n",
    "p1 = 0.4\n",
    "#параметры нормального распределения\n",
    "mu1 = n1*p1\n",
    "sigma1 = (n1*p1*(1-p1))**0.5\n",
    "# границы промежутка, в котором будем строить аппроксимацию -\n",
    "# от n*p минус 3 ст.отклонения бином.распределения\n",
    "# до n*p плюс 3 ст.отклонения бином.распределения\n",
    "left1 = int(n1 * p1 - 4 * (n1 * p1 * (1 - p1))**0.5)\n",
    "right1 = int(n1 * p1 + 4 * (n1 * p1 * (1 - p1))**0.5)\n",
    "print('Леваяграница',left1)\n",
    "print('Праваяграница', right1)"
   ]
  },
  {
   "cell_type": "markdown",
   "id": "da9f3c9f",
   "metadata": {},
   "source": [
    "Отрезок аппрокисмации лежит внутри отрезка, на котором определено распределение"
   ]
  },
  {
   "cell_type": "code",
   "execution_count": 52,
   "id": "ed001565",
   "metadata": {},
   "outputs": [],
   "source": [
    "# для визуализации нормального распределения\n",
    "# зададим функцию, которая выдаёт <num> чисел,\n",
    "# равномерно распределённых от <start> до <stop>\n",
    "\n",
    "def linspace(start, stop, num):\n",
    "    step = (stop - start) / (num - 1)\n",
    "    res = []\n",
    "    for i in range(num):\n",
    "        res.append(start + step * i)\n",
    "    return res"
   ]
  },
  {
   "cell_type": "code",
   "execution_count": 53,
   "id": "394ce57e",
   "metadata": {},
   "outputs": [
    {
     "data": {
      "image/png": "[encoded data removed]",
      "text/plain": [
       "<Figure size 432x288 with 1 Axes>"
      ]
     },
     "metadata": {
      "needs_background": "light"
     },
     "output_type": "display_data"
    }
   ],
   "source": [
    "# зададим набор значений биномиальной величины на выбранном промежутке\n",
    "x = list(range(max(0, left1), right1))\n",
    "ax = plt.subplot()\n",
    "ax.plot(x, st.binom.pmf(x, n1, p1), 'bo', ms=1, alpha=0.3, label='вероятности биномиального распределения')\n",
    "# рисуем график нормального распределения\n",
    "x = linspace(left1, right1, 50)\n",
    "\n",
    "ax.plot(x, st.norm.pdf(x, mu1, sigma1),'r-', lw=3, alpha=0.5,label='плотность вероятности нормального распределения')\n",
    "x_ticks = list(range(int(left1), int(right1), 500))\n",
    "ax.set_xticks(x_ticks)\n",
    "ax.legend(loc='best')\n",
    "ax.set_title('Аппроксимация биномиального распределения нормальным')\n",
    "ax.set_xlabel('Количество открытых уведомлений')\n",
    "ax.set_ylabel('Вероятность открытия')\n",
    "plt.show()"
   ]
  },
  {
   "cell_type": "code",
   "execution_count": 54,
   "id": "932a0679",
   "metadata": {},
   "outputs": [
    {
     "data": {
      "text/plain": [
       "0.15371708296369768"
      ]
     },
     "execution_count": 54,
     "metadata": {},
     "output_type": "execute_result"
    }
   ],
   "source": [
    "distr_app1 = st.norm(mu1, sigma1)\n",
    "xmin1=399500\n",
    "result1=distr_app1.cdf(xmin1)\n",
    "result1"
   ]
  },
  {
   "cell_type": "markdown",
   "id": "2024b1aa",
   "metadata": {},
   "source": [
    "Вероятность того, что письма откроют не более 399,5 тыс. пользователей составляет 15.4%"
   ]
  },
  {
   "cell_type": "markdown",
   "id": "14daae4b",
   "metadata": {},
   "source": [
    "# Вывод"
   ]
  },
  {
   "cell_type": "markdown",
   "id": "01568dc2",
   "metadata": {},
   "source": [
    "Полученные данные содержат информацию о 1534 пользователях из 8 городов (Пятигорск, Екатеринбург, Ростов-на-Дону, Краснодар, Сочи, Омск, Тюмень, Москва). Больше всего пользователей находится в Пятигорске (219 чел. или 14.3%). Меньше всего - в Москве (168 чел. или 11%). <br>\n",
    "Основная часть клиентов (77%) находится в возрасте от 20 до 30 лет. В целом возраст пользователей варьируется от 12 до 43 лет. \n",
    "Пользователей без подписки в 1,19 раз больше, чем с подпиской. <br>\n",
    "Основная часть пользователей проезжает от 2,5 до 3,8 км за одну поездку. Среднее расстояние составляет около 3,1 км. <br>\n",
    "Средняя продолжительность поездки составляет 18 минут. Основная часть пользователей тратит на одну поездку от 13 до 22 минут. В целом длительность поездки лежит в диапазоне от 2 до 40 минут, однако в данных присутствует 95 поездок длительностью 0,5 минуты и преодоленным расстоянием более 4 км(возможно результат проведенной акции или ошибка выгрузки данных).<br>\n",
    "Сравнение длительности и дальности поездок для пользователей с подпиской и без нее показало, что расстояние, преодоленное за одну поездку  и их длительность для обеих категорий пользователей распределено примерно одинаково. Однако, разброс значений дальности поездок для пользователей без подписки больше, чем для пользователей с подпиской. Длительность поездки, наоборот, имеет больший размах у пользователей с подпиской.<br>\n",
    "Проверка гипотез установила, что с вероятностью 95%\n",
    "1. Пользователи с подпиской тратят больше времени на поездки. Средняя продолжительность поездок пользователей с подпиской 19.0 минут, без подписки - 18 минут.\n",
    "2. В среднем они проезжают не более 3130 метров за одну поездку,\n",
    "3. Ежемесячная выручка от пользователей с подпиской выше. Среднемесячная выручка от пользователей с подпиской 363.0 руб., без подписки - 329.0 руб.<br>.\n",
    "\n",
    "Также установлено:\n",
    "1. Для проведения акции по рассылки промокодов с бесплатной подпиской с целью получить 100 подписчиков необходимо разослать 1180 промокодов (при условии, что каждый десятый пользователь продлевает подписку, а риск не выполнить план не должен превышать 5%).\n",
    "2. вероятность того, что при рассылке клиентам 1 млн push-уведомлений в мобильном приложении, уведомление откроют не более 399,5 тыс. пользователей составляет 15,4% (при условии, что уведомления открывают около 40 % получивших клиентов)."
   ]
  }
 ],
 "metadata": {
  "ExecuteTimeLog": [
   {
    "duration": 858,
    "start_time": "2024-02-07T06:59:11.814Z"
   },
   {
    "duration": 85,
    "start_time": "2024-02-07T07:11:24.601Z"
   },
   {
    "duration": 13,
    "start_time": "2024-02-07T07:11:40.075Z"
   },
   {
    "duration": 79,
    "start_time": "2024-02-07T07:12:08.393Z"
   },
   {
    "duration": 12,
    "start_time": "2024-02-07T07:12:40.997Z"
   },
   {
    "duration": 66,
    "start_time": "2024-02-07T07:13:14.618Z"
   },
   {
    "duration": 13,
    "start_time": "2024-02-07T07:13:42.761Z"
   },
   {
    "duration": 14,
    "start_time": "2024-02-07T07:14:23.116Z"
   },
   {
    "duration": 10,
    "start_time": "2024-02-07T07:15:09.304Z"
   },
   {
    "duration": 8,
    "start_time": "2024-02-07T07:15:46.203Z"
   },
   {
    "duration": 4,
    "start_time": "2024-02-07T07:15:57.273Z"
   },
   {
    "duration": 6,
    "start_time": "2024-02-07T07:16:06.203Z"
   },
   {
    "duration": 8,
    "start_time": "2024-02-07T07:16:32.531Z"
   },
   {
    "duration": 136,
    "start_time": "2024-02-07T07:17:31.619Z"
   },
   {
    "duration": 6,
    "start_time": "2024-02-07T07:18:52.342Z"
   },
   {
    "duration": 4,
    "start_time": "2024-02-07T07:19:20.036Z"
   },
   {
    "duration": 5,
    "start_time": "2024-02-07T07:20:47.321Z"
   },
   {
    "duration": 8,
    "start_time": "2024-02-07T07:22:54.309Z"
   },
   {
    "duration": 133,
    "start_time": "2024-02-07T07:23:05.996Z"
   },
   {
    "duration": 5,
    "start_time": "2024-02-07T07:24:59.276Z"
   },
   {
    "duration": 151,
    "start_time": "2024-02-07T07:26:43.965Z"
   },
   {
    "duration": 6,
    "start_time": "2024-02-07T07:46:06.935Z"
   },
   {
    "duration": 97,
    "start_time": "2024-02-07T07:46:22.429Z"
   },
   {
    "duration": 5,
    "start_time": "2024-02-07T07:47:55.871Z"
   },
   {
    "duration": 4,
    "start_time": "2024-02-07T07:48:04.429Z"
   },
   {
    "duration": 7,
    "start_time": "2024-02-07T07:48:09.504Z"
   },
   {
    "duration": 6,
    "start_time": "2024-02-07T07:48:25.808Z"
   },
   {
    "duration": 8,
    "start_time": "2024-02-07T07:48:34.912Z"
   },
   {
    "duration": 7,
    "start_time": "2024-02-07T07:50:35.816Z"
   },
   {
    "duration": 10,
    "start_time": "2024-02-07T07:54:14.335Z"
   },
   {
    "duration": 223,
    "start_time": "2024-02-07T07:54:23.554Z"
   },
   {
    "duration": 10,
    "start_time": "2024-02-07T07:58:42.617Z"
   },
   {
    "duration": 192,
    "start_time": "2024-02-07T07:58:52.680Z"
   },
   {
    "duration": 23,
    "start_time": "2024-02-07T08:01:52.505Z"
   },
   {
    "duration": 24,
    "start_time": "2024-02-07T08:02:29.118Z"
   },
   {
    "duration": 13,
    "start_time": "2024-02-07T08:05:26.630Z"
   },
   {
    "duration": 164,
    "start_time": "2024-02-07T08:06:13.889Z"
   },
   {
    "duration": 146,
    "start_time": "2024-02-07T08:06:38.589Z"
   },
   {
    "duration": 244,
    "start_time": "2024-02-07T08:09:11.822Z"
   },
   {
    "duration": 152,
    "start_time": "2024-02-07T08:09:21.899Z"
   },
   {
    "duration": 150,
    "start_time": "2024-02-07T08:12:47.110Z"
   },
   {
    "duration": 245,
    "start_time": "2024-02-07T08:13:04.790Z"
   },
   {
    "duration": 307,
    "start_time": "2024-02-07T08:13:12.868Z"
   },
   {
    "duration": 153,
    "start_time": "2024-02-07T08:13:45.510Z"
   },
   {
    "duration": 253,
    "start_time": "2024-02-07T08:14:00.028Z"
   },
   {
    "duration": 151,
    "start_time": "2024-02-07T08:14:19.388Z"
   },
   {
    "duration": 225,
    "start_time": "2024-02-07T08:14:50.675Z"
   },
   {
    "duration": 15,
    "start_time": "2024-02-07T08:17:40.544Z"
   },
   {
    "duration": 16,
    "start_time": "2024-02-07T08:19:04.161Z"
   },
   {
    "duration": 36,
    "start_time": "2024-02-07T08:20:43.705Z"
   },
   {
    "duration": 82,
    "start_time": "2024-02-07T08:26:49.661Z"
   },
   {
    "duration": 17,
    "start_time": "2024-02-07T08:26:54.875Z"
   },
   {
    "duration": 14,
    "start_time": "2024-02-07T08:27:02.309Z"
   },
   {
    "duration": 1143,
    "start_time": "2024-02-07T08:27:17.219Z"
   },
   {
    "duration": 36,
    "start_time": "2024-02-07T08:27:18.364Z"
   },
   {
    "duration": 12,
    "start_time": "2024-02-07T08:27:18.402Z"
   },
   {
    "duration": 44,
    "start_time": "2024-02-07T08:27:18.416Z"
   },
   {
    "duration": 11,
    "start_time": "2024-02-07T08:27:18.462Z"
   },
   {
    "duration": 21,
    "start_time": "2024-02-07T08:27:18.475Z"
   },
   {
    "duration": 9,
    "start_time": "2024-02-07T08:27:18.497Z"
   },
   {
    "duration": 9,
    "start_time": "2024-02-07T08:27:18.507Z"
   },
   {
    "duration": 19,
    "start_time": "2024-02-07T08:27:18.518Z"
   },
   {
    "duration": 5,
    "start_time": "2024-02-07T08:27:18.539Z"
   },
   {
    "duration": 6,
    "start_time": "2024-02-07T08:27:18.545Z"
   },
   {
    "duration": 15,
    "start_time": "2024-02-07T08:27:18.552Z"
   },
   {
    "duration": 142,
    "start_time": "2024-02-07T08:27:18.568Z"
   },
   {
    "duration": 6,
    "start_time": "2024-02-07T08:27:18.711Z"
   },
   {
    "duration": 18,
    "start_time": "2024-02-07T08:27:18.718Z"
   },
   {
    "duration": 155,
    "start_time": "2024-02-07T08:27:18.738Z"
   },
   {
    "duration": 7,
    "start_time": "2024-02-07T08:27:18.895Z"
   },
   {
    "duration": 7,
    "start_time": "2024-02-07T08:27:18.903Z"
   },
   {
    "duration": 28,
    "start_time": "2024-02-07T08:27:18.911Z"
   },
   {
    "duration": 177,
    "start_time": "2024-02-07T08:27:18.941Z"
   },
   {
    "duration": 17,
    "start_time": "2024-02-07T08:27:19.119Z"
   },
   {
    "duration": 177,
    "start_time": "2024-02-07T08:27:19.138Z"
   },
   {
    "duration": 32,
    "start_time": "2024-02-07T08:27:19.316Z"
   },
   {
    "duration": 25,
    "start_time": "2024-02-07T08:27:19.349Z"
   },
   {
    "duration": 13,
    "start_time": "2024-02-07T08:27:19.376Z"
   },
   {
    "duration": 178,
    "start_time": "2024-02-07T08:27:19.390Z"
   },
   {
    "duration": 174,
    "start_time": "2024-02-07T08:27:19.570Z"
   },
   {
    "duration": 20,
    "start_time": "2024-02-07T08:27:19.747Z"
   },
   {
    "duration": 28,
    "start_time": "2024-02-07T08:27:19.769Z"
   },
   {
    "duration": 6,
    "start_time": "2024-02-07T11:15:23.274Z"
   },
   {
    "duration": 7,
    "start_time": "2024-02-07T11:17:34.514Z"
   },
   {
    "duration": 5,
    "start_time": "2024-02-07T11:18:27.737Z"
   },
   {
    "duration": 5,
    "start_time": "2024-02-07T11:19:01.330Z"
   },
   {
    "duration": 5,
    "start_time": "2024-02-07T11:19:22.658Z"
   },
   {
    "duration": 5,
    "start_time": "2024-02-07T11:26:21.024Z"
   },
   {
    "duration": 4,
    "start_time": "2024-02-07T11:26:38.269Z"
   },
   {
    "duration": 8,
    "start_time": "2024-02-07T11:28:06.611Z"
   },
   {
    "duration": 7,
    "start_time": "2024-02-07T11:28:17.712Z"
   },
   {
    "duration": 196,
    "start_time": "2024-02-07T11:46:54.486Z"
   },
   {
    "duration": 108,
    "start_time": "2024-02-07T11:47:09.139Z"
   },
   {
    "duration": 311,
    "start_time": "2024-02-07T11:47:21.722Z"
   },
   {
    "duration": 5,
    "start_time": "2024-02-07T12:00:20.370Z"
   },
   {
    "duration": 5,
    "start_time": "2024-02-07T12:01:16.292Z"
   },
   {
    "duration": 5,
    "start_time": "2024-02-07T12:03:37.954Z"
   },
   {
    "duration": 6,
    "start_time": "2024-02-07T12:13:23.791Z"
   },
   {
    "duration": 5,
    "start_time": "2024-02-07T12:13:32.570Z"
   },
   {
    "duration": 5,
    "start_time": "2024-02-07T12:13:42.871Z"
   },
   {
    "duration": 4,
    "start_time": "2024-02-07T12:14:26.788Z"
   },
   {
    "duration": 8,
    "start_time": "2024-02-07T12:17:36.745Z"
   },
   {
    "duration": 4,
    "start_time": "2024-02-07T12:18:12.312Z"
   },
   {
    "duration": 4,
    "start_time": "2024-02-07T12:18:26.456Z"
   },
   {
    "duration": 5,
    "start_time": "2024-02-07T12:18:31.658Z"
   },
   {
    "duration": 4,
    "start_time": "2024-02-07T12:18:50.014Z"
   },
   {
    "duration": 5,
    "start_time": "2024-02-07T12:20:59.140Z"
   },
   {
    "duration": 5,
    "start_time": "2024-02-07T12:21:52.044Z"
   },
   {
    "duration": 5,
    "start_time": "2024-02-07T12:26:17.534Z"
   },
   {
    "duration": 1290,
    "start_time": "2024-02-08T06:23:45.233Z"
   },
   {
    "duration": 83,
    "start_time": "2024-02-08T06:23:46.524Z"
   },
   {
    "duration": 11,
    "start_time": "2024-02-08T06:23:46.608Z"
   },
   {
    "duration": 78,
    "start_time": "2024-02-08T06:23:46.621Z"
   },
   {
    "duration": 15,
    "start_time": "2024-02-08T06:23:46.702Z"
   },
   {
    "duration": 59,
    "start_time": "2024-02-08T06:23:46.719Z"
   },
   {
    "duration": 10,
    "start_time": "2024-02-08T06:23:46.780Z"
   },
   {
    "duration": 11,
    "start_time": "2024-02-08T06:23:46.792Z"
   },
   {
    "duration": 9,
    "start_time": "2024-02-08T06:23:46.805Z"
   },
   {
    "duration": 5,
    "start_time": "2024-02-08T06:23:46.816Z"
   },
   {
    "duration": 6,
    "start_time": "2024-02-08T06:23:46.823Z"
   },
   {
    "duration": 23,
    "start_time": "2024-02-08T06:23:46.831Z"
   },
   {
    "duration": 158,
    "start_time": "2024-02-08T06:23:46.855Z"
   },
   {
    "duration": 5,
    "start_time": "2024-02-08T06:23:47.016Z"
   },
   {
    "duration": 7,
    "start_time": "2024-02-08T06:23:47.023Z"
   },
   {
    "duration": 171,
    "start_time": "2024-02-08T06:23:47.031Z"
   },
   {
    "duration": 7,
    "start_time": "2024-02-08T06:23:47.203Z"
   },
   {
    "duration": 7,
    "start_time": "2024-02-08T06:23:47.211Z"
   },
   {
    "duration": 11,
    "start_time": "2024-02-08T06:23:47.220Z"
   },
   {
    "duration": 221,
    "start_time": "2024-02-08T06:23:47.232Z"
   },
   {
    "duration": 8,
    "start_time": "2024-02-08T06:23:47.455Z"
   },
   {
    "duration": 229,
    "start_time": "2024-02-08T06:23:47.464Z"
   },
   {
    "duration": 21,
    "start_time": "2024-02-08T06:23:47.695Z"
   },
   {
    "duration": 35,
    "start_time": "2024-02-08T06:23:47.718Z"
   },
   {
    "duration": 16,
    "start_time": "2024-02-08T06:23:47.754Z"
   },
   {
    "duration": 16,
    "start_time": "2024-02-08T06:23:47.771Z"
   },
   {
    "duration": 175,
    "start_time": "2024-02-08T06:23:47.789Z"
   },
   {
    "duration": 158,
    "start_time": "2024-02-08T06:23:47.966Z"
   },
   {
    "duration": 34,
    "start_time": "2024-02-08T06:23:48.126Z"
   },
   {
    "duration": 39,
    "start_time": "2024-02-08T06:23:48.162Z"
   },
   {
    "duration": 7,
    "start_time": "2024-02-08T06:23:48.203Z"
   },
   {
    "duration": 9,
    "start_time": "2024-02-08T06:23:48.211Z"
   },
   {
    "duration": 34,
    "start_time": "2024-02-08T06:23:48.222Z"
   },
   {
    "duration": 9,
    "start_time": "2024-02-08T06:23:48.258Z"
   },
   {
    "duration": 20,
    "start_time": "2024-02-08T06:23:48.269Z"
   },
   {
    "duration": 6,
    "start_time": "2024-02-08T06:27:19.684Z"
   },
   {
    "duration": 94,
    "start_time": "2024-02-08T06:29:31.821Z"
   },
   {
    "duration": 1582,
    "start_time": "2024-02-08T06:30:03.346Z"
   },
   {
    "duration": 78,
    "start_time": "2024-02-08T06:32:36.248Z"
   },
   {
    "duration": 91,
    "start_time": "2024-02-08T06:32:42.905Z"
   },
   {
    "duration": 88,
    "start_time": "2024-02-08T06:32:57.069Z"
   },
   {
    "duration": 96,
    "start_time": "2024-02-08T06:33:03.995Z"
   },
   {
    "duration": 10,
    "start_time": "2024-02-08T06:33:17.903Z"
   },
   {
    "duration": 11,
    "start_time": "2024-02-08T06:33:30.323Z"
   },
   {
    "duration": 135,
    "start_time": "2024-02-08T06:33:38.795Z"
   },
   {
    "duration": 157,
    "start_time": "2024-02-08T06:35:54.960Z"
   },
   {
    "duration": 156,
    "start_time": "2024-02-08T06:37:08.756Z"
   },
   {
    "duration": 179,
    "start_time": "2024-02-08T06:37:27.917Z"
   },
   {
    "duration": 172,
    "start_time": "2024-02-08T06:37:34.247Z"
   },
   {
    "duration": 146,
    "start_time": "2024-02-08T06:40:24.726Z"
   },
   {
    "duration": 6,
    "start_time": "2024-02-08T06:47:18.665Z"
   },
   {
    "duration": 5,
    "start_time": "2024-02-08T06:49:00.414Z"
   },
   {
    "duration": 5,
    "start_time": "2024-02-08T06:49:56.623Z"
   },
   {
    "duration": 10,
    "start_time": "2024-02-08T06:50:00.650Z"
   },
   {
    "duration": 5,
    "start_time": "2024-02-08T06:50:56.011Z"
   },
   {
    "duration": 6,
    "start_time": "2024-02-08T07:15:54.434Z"
   },
   {
    "duration": 1439,
    "start_time": "2024-02-08T18:26:35.885Z"
   },
   {
    "duration": 94,
    "start_time": "2024-02-08T18:26:37.327Z"
   },
   {
    "duration": 15,
    "start_time": "2024-02-08T18:26:37.423Z"
   },
   {
    "duration": 82,
    "start_time": "2024-02-08T18:26:37.440Z"
   },
   {
    "duration": 10,
    "start_time": "2024-02-08T18:26:37.525Z"
   },
   {
    "duration": 57,
    "start_time": "2024-02-08T18:26:37.536Z"
   },
   {
    "duration": 11,
    "start_time": "2024-02-08T18:26:37.595Z"
   },
   {
    "duration": 13,
    "start_time": "2024-02-08T18:26:37.607Z"
   },
   {
    "duration": 9,
    "start_time": "2024-02-08T18:26:37.621Z"
   },
   {
    "duration": 6,
    "start_time": "2024-02-08T18:26:37.634Z"
   },
   {
    "duration": 6,
    "start_time": "2024-02-08T18:26:37.642Z"
   },
   {
    "duration": 40,
    "start_time": "2024-02-08T18:26:37.650Z"
   },
   {
    "duration": 201,
    "start_time": "2024-02-08T18:26:37.692Z"
   },
   {
    "duration": 10,
    "start_time": "2024-02-08T18:26:37.898Z"
   },
   {
    "duration": 10,
    "start_time": "2024-02-08T18:26:37.909Z"
   },
   {
    "duration": 203,
    "start_time": "2024-02-08T18:26:37.920Z"
   },
   {
    "duration": 7,
    "start_time": "2024-02-08T18:26:38.124Z"
   },
   {
    "duration": 6,
    "start_time": "2024-02-08T18:26:38.133Z"
   },
   {
    "duration": 10,
    "start_time": "2024-02-08T18:26:38.140Z"
   },
   {
    "duration": 249,
    "start_time": "2024-02-08T18:26:38.151Z"
   },
   {
    "duration": 9,
    "start_time": "2024-02-08T18:26:38.402Z"
   },
   {
    "duration": 237,
    "start_time": "2024-02-08T18:26:38.412Z"
   },
   {
    "duration": 32,
    "start_time": "2024-02-08T18:26:38.651Z"
   },
   {
    "duration": 39,
    "start_time": "2024-02-08T18:26:38.685Z"
   },
   {
    "duration": 20,
    "start_time": "2024-02-08T18:26:38.726Z"
   },
   {
    "duration": 43,
    "start_time": "2024-02-08T18:26:38.748Z"
   },
   {
    "duration": 192,
    "start_time": "2024-02-08T18:26:38.794Z"
   },
   {
    "duration": 218,
    "start_time": "2024-02-08T18:26:38.988Z"
   },
   {
    "duration": 197,
    "start_time": "2024-02-08T18:26:39.207Z"
   },
   {
    "duration": 17,
    "start_time": "2024-02-08T18:26:39.406Z"
   },
   {
    "duration": 39,
    "start_time": "2024-02-08T18:26:39.425Z"
   },
   {
    "duration": 16,
    "start_time": "2024-02-08T18:26:39.466Z"
   },
   {
    "duration": 12,
    "start_time": "2024-02-08T18:26:39.484Z"
   },
   {
    "duration": 11,
    "start_time": "2024-02-08T18:26:39.499Z"
   },
   {
    "duration": 9,
    "start_time": "2024-02-08T18:26:39.512Z"
   },
   {
    "duration": 6,
    "start_time": "2024-02-08T18:26:39.522Z"
   },
   {
    "duration": 6,
    "start_time": "2024-02-08T18:26:39.530Z"
   },
   {
    "duration": 11,
    "start_time": "2024-02-08T18:26:39.582Z"
   },
   {
    "duration": 4,
    "start_time": "2024-02-10T15:03:43.960Z"
   },
   {
    "duration": 1381,
    "start_time": "2024-02-10T15:04:46.915Z"
   },
   {
    "duration": 97,
    "start_time": "2024-02-10T15:04:48.299Z"
   },
   {
    "duration": 15,
    "start_time": "2024-02-10T15:04:48.398Z"
   },
   {
    "duration": 194,
    "start_time": "2024-02-10T15:04:48.415Z"
   },
   {
    "duration": 13,
    "start_time": "2024-02-10T15:04:48.611Z"
   },
   {
    "duration": 82,
    "start_time": "2024-02-10T15:04:48.626Z"
   },
   {
    "duration": 13,
    "start_time": "2024-02-10T15:04:48.711Z"
   },
   {
    "duration": 32,
    "start_time": "2024-02-10T15:04:48.725Z"
   },
   {
    "duration": 27,
    "start_time": "2024-02-10T15:04:48.759Z"
   },
   {
    "duration": 7,
    "start_time": "2024-02-10T15:04:48.790Z"
   },
   {
    "duration": 11,
    "start_time": "2024-02-10T15:04:48.799Z"
   },
   {
    "duration": 11,
    "start_time": "2024-02-10T15:04:48.812Z"
   },
   {
    "duration": 212,
    "start_time": "2024-02-10T15:04:48.825Z"
   },
   {
    "duration": 5,
    "start_time": "2024-02-10T15:04:49.039Z"
   },
   {
    "duration": 13,
    "start_time": "2024-02-10T15:04:49.046Z"
   },
   {
    "duration": 206,
    "start_time": "2024-02-10T15:04:49.061Z"
   },
   {
    "duration": 8,
    "start_time": "2024-02-10T15:04:49.269Z"
   },
   {
    "duration": 18,
    "start_time": "2024-02-10T15:04:49.279Z"
   },
   {
    "duration": 27,
    "start_time": "2024-02-10T15:04:49.299Z"
   },
   {
    "duration": 217,
    "start_time": "2024-02-10T15:04:49.329Z"
   },
   {
    "duration": 11,
    "start_time": "2024-02-10T15:04:49.547Z"
   },
   {
    "duration": 223,
    "start_time": "2024-02-10T15:04:49.560Z"
   },
   {
    "duration": 38,
    "start_time": "2024-02-10T15:04:49.784Z"
   },
   {
    "duration": 3,
    "start_time": "2024-02-10T15:04:49.824Z"
   },
   {
    "duration": 19,
    "start_time": "2024-02-10T15:04:49.829Z"
   },
   {
    "duration": 213,
    "start_time": "2024-02-10T15:04:49.851Z"
   },
   {
    "duration": 197,
    "start_time": "2024-02-10T15:04:50.067Z"
   },
   {
    "duration": 120,
    "start_time": "2024-02-10T15:04:50.267Z"
   },
   {
    "duration": 0,
    "start_time": "2024-02-10T15:04:50.392Z"
   },
   {
    "duration": 0,
    "start_time": "2024-02-10T15:04:50.393Z"
   },
   {
    "duration": 0,
    "start_time": "2024-02-10T15:04:50.394Z"
   },
   {
    "duration": 0,
    "start_time": "2024-02-10T15:04:50.395Z"
   },
   {
    "duration": 0,
    "start_time": "2024-02-10T15:04:50.397Z"
   },
   {
    "duration": 0,
    "start_time": "2024-02-10T15:04:50.398Z"
   },
   {
    "duration": 0,
    "start_time": "2024-02-10T15:04:50.399Z"
   },
   {
    "duration": 0,
    "start_time": "2024-02-10T15:04:50.400Z"
   },
   {
    "duration": 0,
    "start_time": "2024-02-10T15:04:50.401Z"
   },
   {
    "duration": 31,
    "start_time": "2024-02-10T15:08:17.345Z"
   },
   {
    "duration": 25,
    "start_time": "2024-02-10T15:11:09.701Z"
   },
   {
    "duration": 1096,
    "start_time": "2024-02-10T15:13:54.361Z"
   },
   {
    "duration": 1188,
    "start_time": "2024-02-10T15:15:50.677Z"
   },
   {
    "duration": 39,
    "start_time": "2024-02-10T15:15:51.867Z"
   },
   {
    "duration": 11,
    "start_time": "2024-02-10T15:15:51.908Z"
   },
   {
    "duration": 40,
    "start_time": "2024-02-10T15:15:51.921Z"
   },
   {
    "duration": 11,
    "start_time": "2024-02-10T15:15:51.963Z"
   },
   {
    "duration": 41,
    "start_time": "2024-02-10T15:15:51.976Z"
   },
   {
    "duration": 10,
    "start_time": "2024-02-10T15:15:52.019Z"
   },
   {
    "duration": 14,
    "start_time": "2024-02-10T15:15:52.030Z"
   },
   {
    "duration": 8,
    "start_time": "2024-02-10T15:15:52.046Z"
   },
   {
    "duration": 11,
    "start_time": "2024-02-10T15:15:52.057Z"
   },
   {
    "duration": 25,
    "start_time": "2024-02-10T15:15:52.069Z"
   },
   {
    "duration": 11,
    "start_time": "2024-02-10T15:15:52.096Z"
   },
   {
    "duration": 203,
    "start_time": "2024-02-10T15:15:52.109Z"
   },
   {
    "duration": 6,
    "start_time": "2024-02-10T15:15:52.314Z"
   },
   {
    "duration": 22,
    "start_time": "2024-02-10T15:15:52.322Z"
   },
   {
    "duration": 180,
    "start_time": "2024-02-10T15:15:52.346Z"
   },
   {
    "duration": 9,
    "start_time": "2024-02-10T15:15:52.528Z"
   },
   {
    "duration": 21,
    "start_time": "2024-02-10T15:15:52.539Z"
   },
   {
    "duration": 18,
    "start_time": "2024-02-10T15:15:52.562Z"
   },
   {
    "duration": 205,
    "start_time": "2024-02-10T15:15:52.581Z"
   },
   {
    "duration": 11,
    "start_time": "2024-02-10T15:15:52.788Z"
   },
   {
    "duration": 201,
    "start_time": "2024-02-10T15:15:52.801Z"
   },
   {
    "duration": 26,
    "start_time": "2024-02-10T15:15:53.003Z"
   },
   {
    "duration": 26,
    "start_time": "2024-02-10T15:15:53.031Z"
   },
   {
    "duration": 37,
    "start_time": "2024-02-10T15:15:53.058Z"
   },
   {
    "duration": 186,
    "start_time": "2024-02-10T15:15:53.097Z"
   },
   {
    "duration": 212,
    "start_time": "2024-02-10T15:15:53.285Z"
   },
   {
    "duration": 27,
    "start_time": "2024-02-10T15:15:53.501Z"
   },
   {
    "duration": 78,
    "start_time": "2024-02-10T15:15:53.529Z"
   },
   {
    "duration": 32,
    "start_time": "2024-02-10T15:15:53.608Z"
   },
   {
    "duration": 37,
    "start_time": "2024-02-10T15:15:53.642Z"
   },
   {
    "duration": 15,
    "start_time": "2024-02-10T15:15:53.680Z"
   },
   {
    "duration": 20,
    "start_time": "2024-02-10T15:15:53.697Z"
   },
   {
    "duration": 6,
    "start_time": "2024-02-10T15:15:53.718Z"
   },
   {
    "duration": 1184,
    "start_time": "2024-02-10T15:15:53.726Z"
   },
   {
    "duration": 0,
    "start_time": "2024-02-10T15:15:54.912Z"
   },
   {
    "duration": 19,
    "start_time": "2024-02-10T15:21:42.944Z"
   },
   {
    "duration": 25,
    "start_time": "2024-02-10T15:23:50.989Z"
   },
   {
    "duration": 23,
    "start_time": "2024-02-10T15:24:37.373Z"
   },
   {
    "duration": 20,
    "start_time": "2024-02-10T15:24:51.890Z"
   },
   {
    "duration": 21,
    "start_time": "2024-02-10T15:24:57.563Z"
   },
   {
    "duration": 1180,
    "start_time": "2024-02-10T15:28:27.715Z"
   },
   {
    "duration": 39,
    "start_time": "2024-02-10T15:28:28.897Z"
   },
   {
    "duration": 12,
    "start_time": "2024-02-10T15:28:28.938Z"
   },
   {
    "duration": 38,
    "start_time": "2024-02-10T15:28:28.951Z"
   },
   {
    "duration": 13,
    "start_time": "2024-02-10T15:28:28.992Z"
   },
   {
    "duration": 22,
    "start_time": "2024-02-10T15:28:29.007Z"
   },
   {
    "duration": 10,
    "start_time": "2024-02-10T15:28:29.031Z"
   },
   {
    "duration": 15,
    "start_time": "2024-02-10T15:28:29.042Z"
   },
   {
    "duration": 8,
    "start_time": "2024-02-10T15:28:29.059Z"
   },
   {
    "duration": 25,
    "start_time": "2024-02-10T15:28:29.068Z"
   },
   {
    "duration": 7,
    "start_time": "2024-02-10T15:28:29.094Z"
   },
   {
    "duration": 8,
    "start_time": "2024-02-10T15:28:29.103Z"
   },
   {
    "duration": 169,
    "start_time": "2024-02-10T15:28:29.113Z"
   },
   {
    "duration": 10,
    "start_time": "2024-02-10T15:28:29.285Z"
   },
   {
    "duration": 15,
    "start_time": "2024-02-10T15:28:29.297Z"
   },
   {
    "duration": 181,
    "start_time": "2024-02-10T15:28:29.313Z"
   },
   {
    "duration": 8,
    "start_time": "2024-02-10T15:28:29.495Z"
   },
   {
    "duration": 6,
    "start_time": "2024-02-10T15:28:29.504Z"
   },
   {
    "duration": 10,
    "start_time": "2024-02-10T15:28:29.512Z"
   },
   {
    "duration": 219,
    "start_time": "2024-02-10T15:28:29.524Z"
   },
   {
    "duration": 10,
    "start_time": "2024-02-10T15:28:29.745Z"
   },
   {
    "duration": 229,
    "start_time": "2024-02-10T15:28:29.756Z"
   },
   {
    "duration": 31,
    "start_time": "2024-02-10T15:28:29.991Z"
   },
   {
    "duration": 54,
    "start_time": "2024-02-10T15:28:30.025Z"
   },
   {
    "duration": 62,
    "start_time": "2024-02-10T15:28:30.081Z"
   },
   {
    "duration": 223,
    "start_time": "2024-02-10T15:28:30.144Z"
   },
   {
    "duration": 195,
    "start_time": "2024-02-10T15:28:30.368Z"
   },
   {
    "duration": 43,
    "start_time": "2024-02-10T15:28:30.565Z"
   },
   {
    "duration": 44,
    "start_time": "2024-02-10T15:28:30.610Z"
   },
   {
    "duration": 34,
    "start_time": "2024-02-10T15:28:30.656Z"
   },
   {
    "duration": 56,
    "start_time": "2024-02-10T15:28:30.692Z"
   },
   {
    "duration": 62,
    "start_time": "2024-02-10T15:28:30.750Z"
   },
   {
    "duration": 53,
    "start_time": "2024-02-10T15:28:30.814Z"
   },
   {
    "duration": 39,
    "start_time": "2024-02-10T15:28:30.869Z"
   },
   {
    "duration": 1288,
    "start_time": "2024-02-10T15:28:30.910Z"
   },
   {
    "duration": 0,
    "start_time": "2024-02-10T15:28:32.199Z"
   },
   {
    "duration": 84,
    "start_time": "2024-02-10T15:28:49.625Z"
   },
   {
    "duration": 59,
    "start_time": "2024-02-10T15:29:02.459Z"
   },
   {
    "duration": 18,
    "start_time": "2024-02-10T15:29:14.237Z"
   },
   {
    "duration": 24,
    "start_time": "2024-02-10T15:34:00.585Z"
   },
   {
    "duration": 19,
    "start_time": "2024-02-10T15:34:39.481Z"
   },
   {
    "duration": 41,
    "start_time": "2024-02-10T15:37:52.689Z"
   },
   {
    "duration": 27,
    "start_time": "2024-02-10T15:38:46.608Z"
   },
   {
    "duration": 28,
    "start_time": "2024-02-10T15:39:20.594Z"
   },
   {
    "duration": 1244,
    "start_time": "2024-02-10T15:40:06.166Z"
   },
   {
    "duration": 1087,
    "start_time": "2024-02-10T15:40:49.135Z"
   },
   {
    "duration": 17,
    "start_time": "2024-02-10T15:47:19.926Z"
   },
   {
    "duration": 1254,
    "start_time": "2024-02-10T15:48:11.724Z"
   },
   {
    "duration": 42,
    "start_time": "2024-02-10T15:48:12.980Z"
   },
   {
    "duration": 12,
    "start_time": "2024-02-10T15:48:13.024Z"
   },
   {
    "duration": 38,
    "start_time": "2024-02-10T15:48:13.039Z"
   },
   {
    "duration": 19,
    "start_time": "2024-02-10T15:48:13.079Z"
   },
   {
    "duration": 21,
    "start_time": "2024-02-10T15:48:13.104Z"
   },
   {
    "duration": 11,
    "start_time": "2024-02-10T15:48:13.127Z"
   },
   {
    "duration": 13,
    "start_time": "2024-02-10T15:48:13.140Z"
   },
   {
    "duration": 9,
    "start_time": "2024-02-10T15:48:13.154Z"
   },
   {
    "duration": 32,
    "start_time": "2024-02-10T15:48:13.165Z"
   },
   {
    "duration": 13,
    "start_time": "2024-02-10T15:48:13.201Z"
   },
   {
    "duration": 11,
    "start_time": "2024-02-10T15:48:13.216Z"
   },
   {
    "duration": 201,
    "start_time": "2024-02-10T15:48:13.229Z"
   },
   {
    "duration": 6,
    "start_time": "2024-02-10T15:48:13.432Z"
   },
   {
    "duration": 16,
    "start_time": "2024-02-10T15:48:13.440Z"
   },
   {
    "duration": 210,
    "start_time": "2024-02-10T15:48:13.458Z"
   },
   {
    "duration": 8,
    "start_time": "2024-02-10T15:48:13.670Z"
   },
   {
    "duration": 9,
    "start_time": "2024-02-10T15:48:13.692Z"
   },
   {
    "duration": 26,
    "start_time": "2024-02-10T15:48:13.703Z"
   },
   {
    "duration": 236,
    "start_time": "2024-02-10T15:48:13.730Z"
   },
   {
    "duration": 8,
    "start_time": "2024-02-10T15:48:13.969Z"
   },
   {
    "duration": 230,
    "start_time": "2024-02-10T15:48:13.979Z"
   },
   {
    "duration": 26,
    "start_time": "2024-02-10T15:48:14.212Z"
   },
   {
    "duration": 28,
    "start_time": "2024-02-10T15:48:14.239Z"
   },
   {
    "duration": 39,
    "start_time": "2024-02-10T15:48:14.269Z"
   },
   {
    "duration": 225,
    "start_time": "2024-02-10T15:48:14.309Z"
   },
   {
    "duration": 210,
    "start_time": "2024-02-10T15:48:14.536Z"
   },
   {
    "duration": 17,
    "start_time": "2024-02-10T15:48:14.749Z"
   },
   {
    "duration": 70,
    "start_time": "2024-02-10T15:48:14.768Z"
   },
   {
    "duration": 6,
    "start_time": "2024-02-10T15:48:14.840Z"
   },
   {
    "duration": 16,
    "start_time": "2024-02-10T15:48:14.847Z"
   },
   {
    "duration": 13,
    "start_time": "2024-02-10T15:48:14.865Z"
   },
   {
    "duration": 23,
    "start_time": "2024-02-10T15:48:14.880Z"
   },
   {
    "duration": 7,
    "start_time": "2024-02-10T15:48:14.906Z"
   },
   {
    "duration": 1218,
    "start_time": "2024-02-10T15:48:14.915Z"
   },
   {
    "duration": 0,
    "start_time": "2024-02-10T15:48:16.134Z"
   },
   {
    "duration": 13,
    "start_time": "2024-02-10T15:53:11.976Z"
   },
   {
    "duration": 1127,
    "start_time": "2024-02-10T15:53:32.867Z"
   },
   {
    "duration": 1117,
    "start_time": "2024-02-10T15:53:57.933Z"
   },
   {
    "duration": 560,
    "start_time": "2024-02-10T15:54:10.989Z"
   },
   {
    "duration": 570,
    "start_time": "2024-02-10T15:54:33.076Z"
   },
   {
    "duration": 1111,
    "start_time": "2024-02-10T15:54:36.943Z"
   },
   {
    "duration": 1126,
    "start_time": "2024-02-10T15:55:00.832Z"
   },
   {
    "duration": 1116,
    "start_time": "2024-02-10T15:55:08.140Z"
   },
   {
    "duration": 538,
    "start_time": "2024-02-10T15:55:33.545Z"
   },
   {
    "duration": 10,
    "start_time": "2024-02-10T15:56:14.916Z"
   },
   {
    "duration": 605,
    "start_time": "2024-02-10T15:56:21.067Z"
   },
   {
    "duration": 1209,
    "start_time": "2024-02-10T15:56:29.808Z"
   },
   {
    "duration": 5,
    "start_time": "2024-02-10T15:58:26.734Z"
   },
   {
    "duration": 6,
    "start_time": "2024-02-10T15:58:48.582Z"
   },
   {
    "duration": 12,
    "start_time": "2024-02-10T15:58:54.944Z"
   },
   {
    "duration": 1101,
    "start_time": "2024-02-10T15:59:56.564Z"
   },
   {
    "duration": 1562,
    "start_time": "2024-02-10T16:00:14.588Z"
   },
   {
    "duration": 12,
    "start_time": "2024-02-10T16:00:48.275Z"
   },
   {
    "duration": 15,
    "start_time": "2024-02-10T16:01:56.091Z"
   },
   {
    "duration": 5,
    "start_time": "2024-02-10T16:03:07.582Z"
   },
   {
    "duration": 58,
    "start_time": "2024-02-10T16:03:20.932Z"
   },
   {
    "duration": 65,
    "start_time": "2024-02-10T16:03:30.497Z"
   },
   {
    "duration": 20,
    "start_time": "2024-02-10T16:03:37.197Z"
   },
   {
    "duration": 22,
    "start_time": "2024-02-10T16:04:17.528Z"
   },
   {
    "duration": 26,
    "start_time": "2024-02-10T16:06:07.625Z"
   },
   {
    "duration": 3,
    "start_time": "2024-02-10T16:06:45.473Z"
   },
   {
    "duration": 1313,
    "start_time": "2024-02-10T16:06:52.075Z"
   },
   {
    "duration": 39,
    "start_time": "2024-02-10T16:06:53.392Z"
   },
   {
    "duration": 12,
    "start_time": "2024-02-10T16:06:53.433Z"
   },
   {
    "duration": 49,
    "start_time": "2024-02-10T16:06:53.446Z"
   },
   {
    "duration": 12,
    "start_time": "2024-02-10T16:06:53.497Z"
   },
   {
    "duration": 68,
    "start_time": "2024-02-10T16:06:53.511Z"
   },
   {
    "duration": 13,
    "start_time": "2024-02-10T16:06:53.580Z"
   },
   {
    "duration": 42,
    "start_time": "2024-02-10T16:06:53.595Z"
   },
   {
    "duration": 12,
    "start_time": "2024-02-10T16:06:53.639Z"
   },
   {
    "duration": 7,
    "start_time": "2024-02-10T16:06:53.653Z"
   },
   {
    "duration": 8,
    "start_time": "2024-02-10T16:06:53.662Z"
   },
   {
    "duration": 34,
    "start_time": "2024-02-10T16:06:53.672Z"
   },
   {
    "duration": 174,
    "start_time": "2024-02-10T16:06:53.708Z"
   },
   {
    "duration": 10,
    "start_time": "2024-02-10T16:06:53.885Z"
   },
   {
    "duration": 15,
    "start_time": "2024-02-10T16:06:53.896Z"
   },
   {
    "duration": 192,
    "start_time": "2024-02-10T16:06:53.912Z"
   },
   {
    "duration": 8,
    "start_time": "2024-02-10T16:06:54.106Z"
   },
   {
    "duration": 17,
    "start_time": "2024-02-10T16:06:54.116Z"
   },
   {
    "duration": 27,
    "start_time": "2024-02-10T16:06:54.135Z"
   },
   {
    "duration": 214,
    "start_time": "2024-02-10T16:06:54.163Z"
   },
   {
    "duration": 16,
    "start_time": "2024-02-10T16:06:54.379Z"
   },
   {
    "duration": 203,
    "start_time": "2024-02-10T16:06:54.397Z"
   },
   {
    "duration": 25,
    "start_time": "2024-02-10T16:06:54.601Z"
   },
   {
    "duration": 26,
    "start_time": "2024-02-10T16:06:54.628Z"
   },
   {
    "duration": 35,
    "start_time": "2024-02-10T16:06:54.656Z"
   },
   {
    "duration": 185,
    "start_time": "2024-02-10T16:06:54.693Z"
   },
   {
    "duration": 221,
    "start_time": "2024-02-10T16:06:54.879Z"
   },
   {
    "duration": 29,
    "start_time": "2024-02-10T16:06:55.102Z"
   },
   {
    "duration": 3,
    "start_time": "2024-02-10T16:06:55.132Z"
   },
   {
    "duration": 44,
    "start_time": "2024-02-10T16:06:55.137Z"
   },
   {
    "duration": 17,
    "start_time": "2024-02-10T16:06:55.182Z"
   },
   {
    "duration": 13,
    "start_time": "2024-02-10T16:06:55.200Z"
   },
   {
    "duration": 22,
    "start_time": "2024-02-10T16:06:55.215Z"
   },
   {
    "duration": 19,
    "start_time": "2024-02-10T16:06:55.239Z"
   },
   {
    "duration": 1207,
    "start_time": "2024-02-10T16:06:55.260Z"
   },
   {
    "duration": 0,
    "start_time": "2024-02-10T16:06:56.469Z"
   },
   {
    "duration": 16,
    "start_time": "2024-02-10T16:11:20.724Z"
   },
   {
    "duration": 23,
    "start_time": "2024-02-10T16:11:46.860Z"
   },
   {
    "duration": 1094,
    "start_time": "2024-02-10T16:12:12.521Z"
   },
   {
    "duration": 8,
    "start_time": "2024-02-10T16:12:29.505Z"
   },
   {
    "duration": 9,
    "start_time": "2024-02-10T16:13:02.837Z"
   },
   {
    "duration": 83,
    "start_time": "2024-02-10T16:14:00.390Z"
   },
   {
    "duration": 55,
    "start_time": "2024-02-10T16:14:54.279Z"
   },
   {
    "duration": 72,
    "start_time": "2024-02-10T16:17:54.252Z"
   },
   {
    "duration": 55,
    "start_time": "2024-02-10T16:19:15.735Z"
   },
   {
    "duration": 53,
    "start_time": "2024-02-10T16:19:32.046Z"
   },
   {
    "duration": 151,
    "start_time": "2024-02-10T16:20:37.754Z"
   },
   {
    "duration": 132,
    "start_time": "2024-02-10T16:20:45.553Z"
   },
   {
    "duration": 59,
    "start_time": "2024-02-10T16:20:58.876Z"
   },
   {
    "duration": 65,
    "start_time": "2024-02-10T16:25:02.813Z"
   },
   {
    "duration": 35,
    "start_time": "2024-02-10T16:25:05.983Z"
   },
   {
    "duration": 27,
    "start_time": "2024-02-10T16:25:15.924Z"
   },
   {
    "duration": 1237,
    "start_time": "2024-02-10T16:25:23.583Z"
   },
   {
    "duration": 38,
    "start_time": "2024-02-10T16:25:24.822Z"
   },
   {
    "duration": 11,
    "start_time": "2024-02-10T16:25:24.862Z"
   },
   {
    "duration": 50,
    "start_time": "2024-02-10T16:25:24.874Z"
   },
   {
    "duration": 12,
    "start_time": "2024-02-10T16:25:24.926Z"
   },
   {
    "duration": 24,
    "start_time": "2024-02-10T16:25:24.940Z"
   },
   {
    "duration": 9,
    "start_time": "2024-02-10T16:25:24.966Z"
   },
   {
    "duration": 20,
    "start_time": "2024-02-10T16:25:24.976Z"
   },
   {
    "duration": 14,
    "start_time": "2024-02-10T16:25:24.998Z"
   },
   {
    "duration": 7,
    "start_time": "2024-02-10T16:25:25.014Z"
   },
   {
    "duration": 24,
    "start_time": "2024-02-10T16:25:25.023Z"
   },
   {
    "duration": 10,
    "start_time": "2024-02-10T16:25:25.049Z"
   },
   {
    "duration": 168,
    "start_time": "2024-02-10T16:25:25.061Z"
   },
   {
    "duration": 5,
    "start_time": "2024-02-10T16:25:25.234Z"
   },
   {
    "duration": 12,
    "start_time": "2024-02-10T16:25:25.241Z"
   },
   {
    "duration": 202,
    "start_time": "2024-02-10T16:25:25.254Z"
   },
   {
    "duration": 8,
    "start_time": "2024-02-10T16:25:25.458Z"
   },
   {
    "duration": 25,
    "start_time": "2024-02-10T16:25:25.468Z"
   },
   {
    "duration": 11,
    "start_time": "2024-02-10T16:25:25.495Z"
   },
   {
    "duration": 234,
    "start_time": "2024-02-10T16:25:25.509Z"
   },
   {
    "duration": 9,
    "start_time": "2024-02-10T16:25:25.744Z"
   },
   {
    "duration": 206,
    "start_time": "2024-02-10T16:25:25.755Z"
   },
   {
    "duration": 34,
    "start_time": "2024-02-10T16:25:25.963Z"
   },
   {
    "duration": 36,
    "start_time": "2024-02-10T16:25:25.999Z"
   },
   {
    "duration": 23,
    "start_time": "2024-02-10T16:25:26.037Z"
   },
   {
    "duration": 203,
    "start_time": "2024-02-10T16:25:26.062Z"
   },
   {
    "duration": 215,
    "start_time": "2024-02-10T16:25:26.267Z"
   },
   {
    "duration": 38,
    "start_time": "2024-02-10T16:25:26.485Z"
   },
   {
    "duration": 35,
    "start_time": "2024-02-10T16:25:26.524Z"
   },
   {
    "duration": 9,
    "start_time": "2024-02-10T16:25:26.561Z"
   },
   {
    "duration": 8,
    "start_time": "2024-02-10T16:25:26.571Z"
   },
   {
    "duration": 17,
    "start_time": "2024-02-10T16:25:26.581Z"
   },
   {
    "duration": 10,
    "start_time": "2024-02-10T16:25:26.600Z"
   },
   {
    "duration": 11,
    "start_time": "2024-02-10T16:25:26.612Z"
   },
   {
    "duration": 6,
    "start_time": "2024-02-10T16:25:26.624Z"
   },
   {
    "duration": 15,
    "start_time": "2024-02-10T16:25:26.632Z"
   },
   {
    "duration": 43,
    "start_time": "2024-02-10T16:25:26.649Z"
   },
   {
    "duration": 23,
    "start_time": "2024-02-10T16:25:56.424Z"
   },
   {
    "duration": 56,
    "start_time": "2024-02-10T16:26:24.457Z"
   },
   {
    "duration": 57,
    "start_time": "2024-02-10T16:26:35.669Z"
   },
   {
    "duration": 64,
    "start_time": "2024-02-10T16:27:57.578Z"
   },
   {
    "duration": 55,
    "start_time": "2024-02-10T16:28:26.581Z"
   },
   {
    "duration": 54,
    "start_time": "2024-02-10T16:28:31.884Z"
   },
   {
    "duration": 124,
    "start_time": "2024-02-10T16:29:35.189Z"
   },
   {
    "duration": 278,
    "start_time": "2024-02-10T16:29:43.691Z"
   },
   {
    "duration": 1777,
    "start_time": "2024-02-10T16:30:06.487Z"
   },
   {
    "duration": 848,
    "start_time": "2024-02-10T16:33:12.719Z"
   },
   {
    "duration": 1685,
    "start_time": "2024-02-10T16:33:41.590Z"
   },
   {
    "duration": 1223,
    "start_time": "2024-02-10T19:00:38.623Z"
   },
   {
    "duration": 95,
    "start_time": "2024-02-10T19:00:39.848Z"
   },
   {
    "duration": 10,
    "start_time": "2024-02-10T19:00:39.945Z"
   },
   {
    "duration": 159,
    "start_time": "2024-02-10T19:00:39.957Z"
   },
   {
    "duration": 12,
    "start_time": "2024-02-10T19:00:40.118Z"
   },
   {
    "duration": 68,
    "start_time": "2024-02-10T19:00:40.131Z"
   },
   {
    "duration": 10,
    "start_time": "2024-02-10T19:00:40.201Z"
   },
   {
    "duration": 13,
    "start_time": "2024-02-10T19:00:40.213Z"
   },
   {
    "duration": 8,
    "start_time": "2024-02-10T19:00:40.228Z"
   },
   {
    "duration": 5,
    "start_time": "2024-02-10T19:00:40.239Z"
   },
   {
    "duration": 6,
    "start_time": "2024-02-10T19:00:40.246Z"
   },
   {
    "duration": 9,
    "start_time": "2024-02-10T19:00:40.294Z"
   },
   {
    "duration": 142,
    "start_time": "2024-02-10T19:00:40.305Z"
   },
   {
    "duration": 6,
    "start_time": "2024-02-10T19:00:40.449Z"
   },
   {
    "duration": 19,
    "start_time": "2024-02-10T19:00:40.456Z"
   },
   {
    "duration": 151,
    "start_time": "2024-02-10T19:00:40.476Z"
   },
   {
    "duration": 6,
    "start_time": "2024-02-10T19:00:40.629Z"
   },
   {
    "duration": 18,
    "start_time": "2024-02-10T19:00:40.636Z"
   },
   {
    "duration": 13,
    "start_time": "2024-02-10T19:00:40.656Z"
   },
   {
    "duration": 178,
    "start_time": "2024-02-10T19:00:40.670Z"
   },
   {
    "duration": 8,
    "start_time": "2024-02-10T19:00:40.850Z"
   },
   {
    "duration": 169,
    "start_time": "2024-02-10T19:00:40.859Z"
   },
   {
    "duration": 22,
    "start_time": "2024-02-10T19:00:41.029Z"
   },
   {
    "duration": 22,
    "start_time": "2024-02-10T19:00:41.052Z"
   },
   {
    "duration": 14,
    "start_time": "2024-02-10T19:00:41.094Z"
   },
   {
    "duration": 150,
    "start_time": "2024-02-10T19:00:41.109Z"
   },
   {
    "duration": 154,
    "start_time": "2024-02-10T19:00:41.260Z"
   },
   {
    "duration": 34,
    "start_time": "2024-02-10T19:00:41.417Z"
   },
   {
    "duration": 22,
    "start_time": "2024-02-10T19:00:41.453Z"
   },
   {
    "duration": 2,
    "start_time": "2024-02-10T19:00:41.495Z"
   },
   {
    "duration": 6,
    "start_time": "2024-02-10T19:00:41.498Z"
   },
   {
    "duration": 7,
    "start_time": "2024-02-10T19:00:41.505Z"
   },
   {
    "duration": 19,
    "start_time": "2024-02-10T19:00:41.513Z"
   },
   {
    "duration": 31,
    "start_time": "2024-02-10T19:00:41.533Z"
   },
   {
    "duration": 7,
    "start_time": "2024-02-10T19:00:41.565Z"
   },
   {
    "duration": 31,
    "start_time": "2024-02-10T19:00:41.573Z"
   },
   {
    "duration": 1371,
    "start_time": "2024-02-10T19:00:41.606Z"
   },
   {
    "duration": 58,
    "start_time": "2024-02-10T19:00:42.978Z"
   },
   {
    "duration": 88,
    "start_time": "2024-02-10T19:01:31.344Z"
   },
   {
    "duration": 3,
    "start_time": "2024-02-10T19:02:01.545Z"
   },
   {
    "duration": 1493,
    "start_time": "2024-02-10T19:11:13.830Z"
   },
   {
    "duration": 363,
    "start_time": "2024-02-10T19:11:46.801Z"
   },
   {
    "duration": 141,
    "start_time": "2024-02-10T19:12:22.126Z"
   },
   {
    "duration": 143,
    "start_time": "2024-02-10T19:12:45.173Z"
   },
   {
    "duration": 74,
    "start_time": "2024-02-10T19:13:12.688Z"
   },
   {
    "duration": 57,
    "start_time": "2024-02-10T19:13:16.696Z"
   },
   {
    "duration": 62,
    "start_time": "2024-02-10T19:13:33.687Z"
   },
   {
    "duration": 61,
    "start_time": "2024-02-10T19:13:48.594Z"
   },
   {
    "duration": 1529,
    "start_time": "2024-02-10T19:14:51.102Z"
   },
   {
    "duration": 1509,
    "start_time": "2024-02-10T19:24:24.315Z"
   },
   {
    "duration": 1607,
    "start_time": "2024-02-10T19:24:42.316Z"
   },
   {
    "duration": 1359,
    "start_time": "2024-02-10T19:25:03.823Z"
   },
   {
    "duration": 1638,
    "start_time": "2024-02-10T19:25:14.180Z"
   },
   {
    "duration": 488,
    "start_time": "2024-02-10T19:28:09.666Z"
   },
   {
    "duration": 1356,
    "start_time": "2024-02-10T19:28:19.945Z"
   },
   {
    "duration": 1651,
    "start_time": "2024-02-10T19:29:25.857Z"
   },
   {
    "duration": 1693,
    "start_time": "2024-02-10T19:31:07.204Z"
   },
   {
    "duration": 1348,
    "start_time": "2024-02-10T19:31:22.214Z"
   },
   {
    "duration": 210,
    "start_time": "2024-02-10T19:32:06.989Z"
   },
   {
    "duration": 310,
    "start_time": "2024-02-10T19:32:17.135Z"
   },
   {
    "duration": 1799,
    "start_time": "2024-02-10T19:32:22.075Z"
   },
   {
    "duration": 321,
    "start_time": "2024-02-10T19:58:17.922Z"
   },
   {
    "duration": 304,
    "start_time": "2024-02-10T19:58:48.842Z"
   },
   {
    "duration": 227,
    "start_time": "2024-02-10T19:59:13.774Z"
   },
   {
    "duration": 726,
    "start_time": "2024-02-10T19:59:18.798Z"
   },
   {
    "duration": 2926,
    "start_time": "2024-02-10T19:59:35.286Z"
   },
   {
    "duration": 17655,
    "start_time": "2024-02-10T19:59:57.812Z"
   },
   {
    "duration": 3291,
    "start_time": "2024-02-10T20:00:26.445Z"
   },
   {
    "duration": 7,
    "start_time": "2024-02-10T20:01:25.430Z"
   },
   {
    "duration": 9,
    "start_time": "2024-02-10T20:04:12.419Z"
   },
   {
    "duration": 6,
    "start_time": "2024-02-10T20:04:19.593Z"
   },
   {
    "duration": 2379,
    "start_time": "2024-02-10T20:04:31.463Z"
   },
   {
    "duration": 6,
    "start_time": "2024-02-10T20:04:33.843Z"
   },
   {
    "duration": 5,
    "start_time": "2024-02-10T20:04:47.069Z"
   },
   {
    "duration": 3063,
    "start_time": "2024-02-10T20:05:32.297Z"
   },
   {
    "duration": 6,
    "start_time": "2024-02-10T20:05:45.078Z"
   },
   {
    "duration": 5,
    "start_time": "2024-02-10T20:08:03.878Z"
   },
   {
    "duration": 6,
    "start_time": "2024-02-10T20:08:09.835Z"
   },
   {
    "duration": 6,
    "start_time": "2024-02-10T20:11:47.491Z"
   },
   {
    "duration": 6,
    "start_time": "2024-02-10T20:13:11.958Z"
   },
   {
    "duration": 4279,
    "start_time": "2024-02-10T20:13:33.993Z"
   },
   {
    "duration": 5,
    "start_time": "2024-02-10T20:13:46.563Z"
   },
   {
    "duration": 5,
    "start_time": "2024-02-10T20:13:50.522Z"
   },
   {
    "duration": 6,
    "start_time": "2024-02-10T20:14:14.954Z"
   },
   {
    "duration": 6,
    "start_time": "2024-02-10T20:14:55.360Z"
   },
   {
    "duration": 5,
    "start_time": "2024-02-10T20:14:58.283Z"
   },
   {
    "duration": 6,
    "start_time": "2024-02-10T20:26:40.320Z"
   },
   {
    "duration": 2411,
    "start_time": "2024-02-10T20:26:51.590Z"
   },
   {
    "duration": 5,
    "start_time": "2024-02-10T20:26:56.535Z"
   },
   {
    "duration": 2031,
    "start_time": "2024-02-10T20:27:07.845Z"
   },
   {
    "duration": 5,
    "start_time": "2024-02-10T20:27:17.179Z"
   },
   {
    "duration": 1427,
    "start_time": "2024-02-10T20:27:26.368Z"
   },
   {
    "duration": 6,
    "start_time": "2024-02-10T20:27:30.716Z"
   },
   {
    "duration": 2105,
    "start_time": "2024-02-10T20:27:42.606Z"
   },
   {
    "duration": 6,
    "start_time": "2024-02-10T20:27:44.713Z"
   },
   {
    "duration": 1967,
    "start_time": "2024-02-10T20:27:57.698Z"
   },
   {
    "duration": 6,
    "start_time": "2024-02-10T20:28:03.081Z"
   },
   {
    "duration": 1641,
    "start_time": "2024-02-10T20:28:13.303Z"
   },
   {
    "duration": 5,
    "start_time": "2024-02-10T20:28:15.274Z"
   },
   {
    "duration": 1981,
    "start_time": "2024-02-10T20:28:24.484Z"
   },
   {
    "duration": 5,
    "start_time": "2024-02-10T20:28:26.467Z"
   },
   {
    "duration": 1954,
    "start_time": "2024-02-10T20:28:39.970Z"
   },
   {
    "duration": 6,
    "start_time": "2024-02-10T20:28:41.950Z"
   },
   {
    "duration": 1456,
    "start_time": "2024-02-10T20:28:50.642Z"
   },
   {
    "duration": 7,
    "start_time": "2024-02-10T20:28:53.884Z"
   },
   {
    "duration": 2068,
    "start_time": "2024-02-10T20:29:00.766Z"
   },
   {
    "duration": 6,
    "start_time": "2024-02-10T20:29:02.835Z"
   },
   {
    "duration": 9,
    "start_time": "2024-02-10T20:37:22.061Z"
   },
   {
    "duration": 8,
    "start_time": "2024-02-10T20:38:35.282Z"
   },
   {
    "duration": 8,
    "start_time": "2024-02-10T20:38:56.742Z"
   },
   {
    "duration": 6,
    "start_time": "2024-02-10T20:39:10.335Z"
   },
   {
    "duration": 5,
    "start_time": "2024-02-10T20:40:51.279Z"
   },
   {
    "duration": 4,
    "start_time": "2024-02-10T20:47:16.895Z"
   },
   {
    "duration": 8,
    "start_time": "2024-02-10T20:48:21.892Z"
   },
   {
    "duration": 5,
    "start_time": "2024-02-10T20:48:27.425Z"
   },
   {
    "duration": 4,
    "start_time": "2024-02-10T20:50:29.192Z"
   },
   {
    "duration": 5,
    "start_time": "2024-02-10T20:50:31.087Z"
   },
   {
    "duration": 5,
    "start_time": "2024-02-10T20:50:52.751Z"
   },
   {
    "duration": 5,
    "start_time": "2024-02-10T20:56:28.543Z"
   },
   {
    "duration": 5,
    "start_time": "2024-02-10T20:56:31.302Z"
   },
   {
    "duration": 7,
    "start_time": "2024-02-10T20:56:33.205Z"
   },
   {
    "duration": 0,
    "start_time": "2024-02-10T21:00:51.862Z"
   },
   {
    "duration": 96,
    "start_time": "2024-02-10T21:02:27.246Z"
   },
   {
    "duration": 4,
    "start_time": "2024-02-10T21:03:04.502Z"
   },
   {
    "duration": 1053,
    "start_time": "2024-02-10T21:03:19.503Z"
   },
   {
    "duration": 37,
    "start_time": "2024-02-10T21:03:20.558Z"
   },
   {
    "duration": 18,
    "start_time": "2024-02-10T21:03:20.598Z"
   },
   {
    "duration": 52,
    "start_time": "2024-02-10T21:03:20.617Z"
   },
   {
    "duration": 9,
    "start_time": "2024-02-10T21:03:20.670Z"
   },
   {
    "duration": 51,
    "start_time": "2024-02-10T21:03:20.680Z"
   },
   {
    "duration": 15,
    "start_time": "2024-02-10T21:03:20.732Z"
   },
   {
    "duration": 24,
    "start_time": "2024-02-10T21:03:20.748Z"
   },
   {
    "duration": 20,
    "start_time": "2024-02-10T21:03:20.774Z"
   },
   {
    "duration": 21,
    "start_time": "2024-02-10T21:03:20.796Z"
   },
   {
    "duration": 14,
    "start_time": "2024-02-10T21:03:20.819Z"
   },
   {
    "duration": 23,
    "start_time": "2024-02-10T21:03:20.834Z"
   },
   {
    "duration": 129,
    "start_time": "2024-02-10T21:03:20.858Z"
   },
   {
    "duration": 6,
    "start_time": "2024-02-10T21:03:20.988Z"
   },
   {
    "duration": 27,
    "start_time": "2024-02-10T21:03:20.996Z"
   },
   {
    "duration": 161,
    "start_time": "2024-02-10T21:03:21.025Z"
   },
   {
    "duration": 6,
    "start_time": "2024-02-10T21:03:21.188Z"
   },
   {
    "duration": 6,
    "start_time": "2024-02-10T21:03:21.196Z"
   },
   {
    "duration": 12,
    "start_time": "2024-02-10T21:03:21.203Z"
   },
   {
    "duration": 180,
    "start_time": "2024-02-10T21:03:21.217Z"
   },
   {
    "duration": 8,
    "start_time": "2024-02-10T21:03:21.398Z"
   },
   {
    "duration": 197,
    "start_time": "2024-02-10T21:03:21.407Z"
   },
   {
    "duration": 23,
    "start_time": "2024-02-10T21:03:21.605Z"
   },
   {
    "duration": 22,
    "start_time": "2024-02-10T21:03:21.629Z"
   },
   {
    "duration": 12,
    "start_time": "2024-02-10T21:03:21.652Z"
   },
   {
    "duration": 171,
    "start_time": "2024-02-10T21:03:21.666Z"
   },
   {
    "duration": 157,
    "start_time": "2024-02-10T21:03:21.840Z"
   },
   {
    "duration": 24,
    "start_time": "2024-02-10T21:03:21.998Z"
   },
   {
    "duration": 21,
    "start_time": "2024-02-10T21:03:22.023Z"
   },
   {
    "duration": 2,
    "start_time": "2024-02-10T21:03:22.045Z"
   },
   {
    "duration": 8,
    "start_time": "2024-02-10T21:03:22.049Z"
   },
   {
    "duration": 37,
    "start_time": "2024-02-10T21:03:22.058Z"
   },
   {
    "duration": 9,
    "start_time": "2024-02-10T21:03:22.096Z"
   },
   {
    "duration": 8,
    "start_time": "2024-02-10T21:03:22.107Z"
   },
   {
    "duration": 7,
    "start_time": "2024-02-10T21:03:22.116Z"
   },
   {
    "duration": 13,
    "start_time": "2024-02-10T21:03:22.124Z"
   },
   {
    "duration": 1759,
    "start_time": "2024-02-10T21:03:22.139Z"
   },
   {
    "duration": 4,
    "start_time": "2024-02-10T21:03:23.900Z"
   },
   {
    "duration": 9,
    "start_time": "2024-02-10T21:03:23.906Z"
   },
   {
    "duration": 14,
    "start_time": "2024-02-10T21:03:23.916Z"
   },
   {
    "duration": 7,
    "start_time": "2024-02-10T21:03:23.931Z"
   },
   {
    "duration": 208,
    "start_time": "2024-02-10T21:03:23.940Z"
   },
   {
    "duration": 5,
    "start_time": "2024-02-10T21:04:09.553Z"
   },
   {
    "duration": 5,
    "start_time": "2024-02-10T21:04:20.444Z"
   },
   {
    "duration": 4,
    "start_time": "2024-02-10T21:04:37.172Z"
   },
   {
    "duration": 5,
    "start_time": "2024-02-10T21:04:40.973Z"
   },
   {
    "duration": 4,
    "start_time": "2024-02-10T21:05:14.114Z"
   },
   {
    "duration": 1023,
    "start_time": "2024-02-10T21:05:27.212Z"
   },
   {
    "duration": 38,
    "start_time": "2024-02-10T21:05:28.236Z"
   },
   {
    "duration": 10,
    "start_time": "2024-02-10T21:05:28.275Z"
   },
   {
    "duration": 37,
    "start_time": "2024-02-10T21:05:28.286Z"
   },
   {
    "duration": 9,
    "start_time": "2024-02-10T21:05:28.325Z"
   },
   {
    "duration": 25,
    "start_time": "2024-02-10T21:05:28.336Z"
   },
   {
    "duration": 10,
    "start_time": "2024-02-10T21:05:28.362Z"
   },
   {
    "duration": 14,
    "start_time": "2024-02-10T21:05:28.373Z"
   },
   {
    "duration": 11,
    "start_time": "2024-02-10T21:05:28.389Z"
   },
   {
    "duration": 4,
    "start_time": "2024-02-10T21:05:28.402Z"
   },
   {
    "duration": 19,
    "start_time": "2024-02-10T21:05:28.408Z"
   },
   {
    "duration": 16,
    "start_time": "2024-02-10T21:05:28.428Z"
   },
   {
    "duration": 131,
    "start_time": "2024-02-10T21:05:28.445Z"
   },
   {
    "duration": 15,
    "start_time": "2024-02-10T21:05:28.579Z"
   },
   {
    "duration": 7,
    "start_time": "2024-02-10T21:05:28.595Z"
   },
   {
    "duration": 151,
    "start_time": "2024-02-10T21:05:28.604Z"
   },
   {
    "duration": 6,
    "start_time": "2024-02-10T21:05:28.757Z"
   },
   {
    "duration": 17,
    "start_time": "2024-02-10T21:05:28.764Z"
   },
   {
    "duration": 40,
    "start_time": "2024-02-10T21:05:28.782Z"
   },
   {
    "duration": 170,
    "start_time": "2024-02-10T21:05:28.823Z"
   },
   {
    "duration": 8,
    "start_time": "2024-02-10T21:05:28.995Z"
   },
   {
    "duration": 177,
    "start_time": "2024-02-10T21:05:29.005Z"
   },
   {
    "duration": 25,
    "start_time": "2024-02-10T21:05:29.183Z"
   },
   {
    "duration": 20,
    "start_time": "2024-02-10T21:05:29.209Z"
   },
   {
    "duration": 11,
    "start_time": "2024-02-10T21:05:29.230Z"
   },
   {
    "duration": 154,
    "start_time": "2024-02-10T21:05:29.242Z"
   },
   {
    "duration": 167,
    "start_time": "2024-02-10T21:05:29.397Z"
   },
   {
    "duration": 32,
    "start_time": "2024-02-10T21:05:29.566Z"
   },
   {
    "duration": 19,
    "start_time": "2024-02-10T21:05:29.599Z"
   },
   {
    "duration": 31,
    "start_time": "2024-02-10T21:05:29.620Z"
   },
   {
    "duration": 11,
    "start_time": "2024-02-10T21:05:29.653Z"
   },
   {
    "duration": 25,
    "start_time": "2024-02-10T21:05:29.665Z"
   },
   {
    "duration": 9,
    "start_time": "2024-02-10T21:05:29.691Z"
   },
   {
    "duration": 14,
    "start_time": "2024-02-10T21:05:29.701Z"
   },
   {
    "duration": 22,
    "start_time": "2024-02-10T21:05:29.717Z"
   },
   {
    "duration": 12,
    "start_time": "2024-02-10T21:05:29.741Z"
   },
   {
    "duration": 1781,
    "start_time": "2024-02-10T21:05:29.755Z"
   },
   {
    "duration": 4,
    "start_time": "2024-02-10T21:05:31.538Z"
   },
   {
    "duration": 40,
    "start_time": "2024-02-10T21:05:31.543Z"
   },
   {
    "duration": 45,
    "start_time": "2024-02-10T21:05:31.585Z"
   },
   {
    "duration": 32,
    "start_time": "2024-02-10T21:05:31.634Z"
   },
   {
    "duration": 231,
    "start_time": "2024-02-10T21:05:31.668Z"
   },
   {
    "duration": 95,
    "start_time": "2024-02-10T21:06:34.420Z"
   },
   {
    "duration": 4,
    "start_time": "2024-02-10T21:06:50.022Z"
   },
   {
    "duration": 4,
    "start_time": "2024-02-10T21:06:55.142Z"
   },
   {
    "duration": 999,
    "start_time": "2024-02-10T21:07:35.027Z"
   },
   {
    "duration": 38,
    "start_time": "2024-02-10T21:07:36.028Z"
   },
   {
    "duration": 10,
    "start_time": "2024-02-10T21:07:36.068Z"
   },
   {
    "duration": 38,
    "start_time": "2024-02-10T21:07:36.081Z"
   },
   {
    "duration": 11,
    "start_time": "2024-02-10T21:07:36.121Z"
   },
   {
    "duration": 30,
    "start_time": "2024-02-10T21:07:36.134Z"
   },
   {
    "duration": 9,
    "start_time": "2024-02-10T21:07:36.166Z"
   },
   {
    "duration": 17,
    "start_time": "2024-02-10T21:07:36.176Z"
   },
   {
    "duration": 10,
    "start_time": "2024-02-10T21:07:36.194Z"
   },
   {
    "duration": 3,
    "start_time": "2024-02-10T21:07:36.207Z"
   },
   {
    "duration": 10,
    "start_time": "2024-02-10T21:07:36.212Z"
   },
   {
    "duration": 6,
    "start_time": "2024-02-10T21:07:36.223Z"
   },
   {
    "duration": 144,
    "start_time": "2024-02-10T21:07:36.231Z"
   },
   {
    "duration": 5,
    "start_time": "2024-02-10T21:07:36.376Z"
   },
   {
    "duration": 15,
    "start_time": "2024-02-10T21:07:36.382Z"
   },
   {
    "duration": 156,
    "start_time": "2024-02-10T21:07:36.399Z"
   },
   {
    "duration": 6,
    "start_time": "2024-02-10T21:07:36.557Z"
   },
   {
    "duration": 6,
    "start_time": "2024-02-10T21:07:36.564Z"
   },
   {
    "duration": 28,
    "start_time": "2024-02-10T21:07:36.571Z"
   },
   {
    "duration": 180,
    "start_time": "2024-02-10T21:07:36.600Z"
   },
   {
    "duration": 12,
    "start_time": "2024-02-10T21:07:36.782Z"
   },
   {
    "duration": 168,
    "start_time": "2024-02-10T21:07:36.796Z"
   },
   {
    "duration": 29,
    "start_time": "2024-02-10T21:07:36.966Z"
   },
   {
    "duration": 22,
    "start_time": "2024-02-10T21:07:36.996Z"
   },
   {
    "duration": 64,
    "start_time": "2024-02-10T21:07:37.020Z"
   },
   {
    "duration": 185,
    "start_time": "2024-02-10T21:07:37.086Z"
   },
   {
    "duration": 157,
    "start_time": "2024-02-10T21:07:37.273Z"
   },
   {
    "duration": 24,
    "start_time": "2024-02-10T21:07:37.433Z"
   },
   {
    "duration": 25,
    "start_time": "2024-02-10T21:07:37.458Z"
   },
   {
    "duration": 2,
    "start_time": "2024-02-10T21:07:37.494Z"
   },
   {
    "duration": 7,
    "start_time": "2024-02-10T21:07:37.497Z"
   },
   {
    "duration": 30,
    "start_time": "2024-02-10T21:07:37.506Z"
   },
   {
    "duration": 22,
    "start_time": "2024-02-10T21:07:37.538Z"
   },
   {
    "duration": 14,
    "start_time": "2024-02-10T21:07:37.562Z"
   },
   {
    "duration": 4,
    "start_time": "2024-02-10T21:07:37.578Z"
   },
   {
    "duration": 21,
    "start_time": "2024-02-10T21:07:37.584Z"
   },
   {
    "duration": 1702,
    "start_time": "2024-02-10T21:07:37.606Z"
   },
   {
    "duration": 5,
    "start_time": "2024-02-10T21:07:39.309Z"
   },
   {
    "duration": 10,
    "start_time": "2024-02-10T21:07:39.315Z"
   },
   {
    "duration": 31,
    "start_time": "2024-02-10T21:07:39.326Z"
   },
   {
    "duration": 11,
    "start_time": "2024-02-10T21:07:39.358Z"
   },
   {
    "duration": 183,
    "start_time": "2024-02-10T21:07:39.370Z"
   },
   {
    "duration": 4,
    "start_time": "2024-02-10T21:07:51.287Z"
   },
   {
    "duration": 5,
    "start_time": "2024-02-10T21:08:04.410Z"
   },
   {
    "duration": 44,
    "start_time": "2024-02-11T14:12:30.640Z"
   },
   {
    "duration": 1242,
    "start_time": "2024-02-11T14:12:38.408Z"
   },
   {
    "duration": 95,
    "start_time": "2024-02-11T14:12:39.652Z"
   },
   {
    "duration": 12,
    "start_time": "2024-02-11T14:12:39.748Z"
   },
   {
    "duration": 176,
    "start_time": "2024-02-11T14:12:39.762Z"
   },
   {
    "duration": 10,
    "start_time": "2024-02-11T14:12:39.939Z"
   },
   {
    "duration": 65,
    "start_time": "2024-02-11T14:12:39.951Z"
   },
   {
    "duration": 9,
    "start_time": "2024-02-11T14:12:40.018Z"
   },
   {
    "duration": 64,
    "start_time": "2024-02-11T14:12:40.028Z"
   },
   {
    "duration": 17,
    "start_time": "2024-02-11T14:12:40.094Z"
   },
   {
    "duration": 11,
    "start_time": "2024-02-11T14:12:40.113Z"
   },
   {
    "duration": 27,
    "start_time": "2024-02-11T14:12:40.125Z"
   },
   {
    "duration": 30,
    "start_time": "2024-02-11T14:12:40.154Z"
   },
   {
    "duration": 147,
    "start_time": "2024-02-11T14:12:40.185Z"
   },
   {
    "duration": 5,
    "start_time": "2024-02-11T14:12:40.334Z"
   },
   {
    "duration": 10,
    "start_time": "2024-02-11T14:12:40.340Z"
   },
   {
    "duration": 161,
    "start_time": "2024-02-11T14:12:40.352Z"
   },
   {
    "duration": 8,
    "start_time": "2024-02-11T14:12:40.515Z"
   },
   {
    "duration": 20,
    "start_time": "2024-02-11T14:12:40.525Z"
   },
   {
    "duration": 10,
    "start_time": "2024-02-11T14:12:40.547Z"
   },
   {
    "duration": 193,
    "start_time": "2024-02-11T14:12:40.559Z"
   },
   {
    "duration": 9,
    "start_time": "2024-02-11T14:12:40.754Z"
   },
   {
    "duration": 177,
    "start_time": "2024-02-11T14:12:40.764Z"
   },
   {
    "duration": 22,
    "start_time": "2024-02-11T14:12:40.943Z"
   },
   {
    "duration": 51,
    "start_time": "2024-02-11T14:12:40.967Z"
   },
   {
    "duration": 32,
    "start_time": "2024-02-11T14:12:41.020Z"
   },
   {
    "duration": 156,
    "start_time": "2024-02-11T14:12:41.053Z"
   },
   {
    "duration": 155,
    "start_time": "2024-02-11T14:12:41.210Z"
   },
   {
    "duration": 31,
    "start_time": "2024-02-11T14:12:41.368Z"
   },
   {
    "duration": 23,
    "start_time": "2024-02-11T14:12:41.401Z"
   },
   {
    "duration": 15,
    "start_time": "2024-02-11T14:12:41.425Z"
   },
   {
    "duration": 32,
    "start_time": "2024-02-11T14:12:41.441Z"
   },
   {
    "duration": 26,
    "start_time": "2024-02-11T14:12:41.474Z"
   },
   {
    "duration": 31,
    "start_time": "2024-02-11T14:12:41.501Z"
   },
   {
    "duration": 35,
    "start_time": "2024-02-11T14:12:41.533Z"
   },
   {
    "duration": 30,
    "start_time": "2024-02-11T14:12:41.569Z"
   },
   {
    "duration": 21,
    "start_time": "2024-02-11T14:12:41.600Z"
   },
   {
    "duration": 1809,
    "start_time": "2024-02-11T14:12:41.623Z"
   },
   {
    "duration": 5,
    "start_time": "2024-02-11T14:12:43.434Z"
   },
   {
    "duration": 36,
    "start_time": "2024-02-11T14:12:43.441Z"
   },
   {
    "duration": 22,
    "start_time": "2024-02-11T14:12:43.478Z"
   },
   {
    "duration": 24,
    "start_time": "2024-02-11T14:12:43.502Z"
   },
   {
    "duration": 206,
    "start_time": "2024-02-11T14:12:43.528Z"
   },
   {
    "duration": 100,
    "start_time": "2024-02-11T14:13:16.379Z"
   },
   {
    "duration": 101,
    "start_time": "2024-02-11T14:13:39.310Z"
   },
   {
    "duration": 5,
    "start_time": "2024-02-11T14:21:47.363Z"
   },
   {
    "duration": 99,
    "start_time": "2024-02-11T14:22:13.047Z"
   },
   {
    "duration": 100,
    "start_time": "2024-02-11T14:22:36.848Z"
   },
   {
    "duration": 127,
    "start_time": "2024-02-11T14:23:16.397Z"
   },
   {
    "duration": 9,
    "start_time": "2024-02-11T14:37:02.334Z"
   },
   {
    "duration": 4,
    "start_time": "2024-02-11T14:38:12.462Z"
   },
   {
    "duration": 9,
    "start_time": "2024-02-11T14:38:13.603Z"
   },
   {
    "duration": 5,
    "start_time": "2024-02-11T14:39:11.742Z"
   },
   {
    "duration": 2739,
    "start_time": "2024-02-11T14:41:34.520Z"
   },
   {
    "duration": 9,
    "start_time": "2024-02-11T14:42:31.564Z"
   },
   {
    "duration": 12,
    "start_time": "2024-02-11T14:42:54.626Z"
   },
   {
    "duration": 6,
    "start_time": "2024-02-11T14:42:59.715Z"
   },
   {
    "duration": 31499,
    "start_time": "2024-02-11T14:43:22.052Z"
   },
   {
    "duration": 107,
    "start_time": "2024-02-11T14:44:32.109Z"
   },
   {
    "duration": 213,
    "start_time": "2024-02-11T14:44:38.305Z"
   },
   {
    "duration": 119,
    "start_time": "2024-02-11T14:44:45.642Z"
   },
   {
    "duration": 110,
    "start_time": "2024-02-11T14:47:42.317Z"
   },
   {
    "duration": 119,
    "start_time": "2024-02-11T14:47:54.833Z"
   },
   {
    "duration": 123,
    "start_time": "2024-02-11T14:48:01.763Z"
   },
   {
    "duration": 109,
    "start_time": "2024-02-11T14:48:07.800Z"
   },
   {
    "duration": 119,
    "start_time": "2024-02-11T14:48:14.989Z"
   },
   {
    "duration": 4,
    "start_time": "2024-02-11T14:49:53.779Z"
   },
   {
    "duration": 5,
    "start_time": "2024-02-11T14:49:55.066Z"
   },
   {
    "duration": 3,
    "start_time": "2024-02-11T14:49:56.702Z"
   },
   {
    "duration": 120,
    "start_time": "2024-02-11T14:49:57.402Z"
   },
   {
    "duration": 126,
    "start_time": "2024-02-11T14:51:41.346Z"
   },
   {
    "duration": 19,
    "start_time": "2024-02-11T15:27:50.646Z"
   },
   {
    "duration": 187,
    "start_time": "2024-02-11T15:28:05.539Z"
   },
   {
    "duration": 8,
    "start_time": "2024-02-11T15:29:34.918Z"
   },
   {
    "duration": 9,
    "start_time": "2024-02-11T15:41:23.874Z"
   },
   {
    "duration": 19,
    "start_time": "2024-02-11T15:41:50.770Z"
   },
   {
    "duration": 19,
    "start_time": "2024-02-11T15:42:34.331Z"
   },
   {
    "duration": 10,
    "start_time": "2024-02-11T15:54:18.919Z"
   },
   {
    "duration": 47,
    "start_time": "2024-02-11T18:06:46.737Z"
   },
   {
    "duration": 1228,
    "start_time": "2024-02-11T18:07:03.352Z"
   },
   {
    "duration": 85,
    "start_time": "2024-02-11T18:07:04.582Z"
   },
   {
    "duration": 11,
    "start_time": "2024-02-11T18:07:04.669Z"
   },
   {
    "duration": 73,
    "start_time": "2024-02-11T18:07:04.682Z"
   },
   {
    "duration": 11,
    "start_time": "2024-02-11T18:07:04.757Z"
   },
   {
    "duration": 67,
    "start_time": "2024-02-11T18:07:04.770Z"
   },
   {
    "duration": 10,
    "start_time": "2024-02-11T18:07:04.839Z"
   },
   {
    "duration": 26,
    "start_time": "2024-02-11T18:07:04.851Z"
   },
   {
    "duration": 9,
    "start_time": "2024-02-11T18:07:04.878Z"
   },
   {
    "duration": 12,
    "start_time": "2024-02-11T18:07:04.889Z"
   },
   {
    "duration": 15,
    "start_time": "2024-02-11T18:07:04.902Z"
   },
   {
    "duration": 19,
    "start_time": "2024-02-11T18:07:04.918Z"
   },
   {
    "duration": 138,
    "start_time": "2024-02-11T18:07:04.939Z"
   },
   {
    "duration": 6,
    "start_time": "2024-02-11T18:07:05.078Z"
   },
   {
    "duration": 23,
    "start_time": "2024-02-11T18:07:05.085Z"
   },
   {
    "duration": 156,
    "start_time": "2024-02-11T18:07:05.109Z"
   },
   {
    "duration": 6,
    "start_time": "2024-02-11T18:07:05.266Z"
   },
   {
    "duration": 26,
    "start_time": "2024-02-11T18:07:05.273Z"
   },
   {
    "duration": 190,
    "start_time": "2024-02-11T18:07:05.301Z"
   },
   {
    "duration": 9,
    "start_time": "2024-02-11T18:07:05.493Z"
   },
   {
    "duration": 193,
    "start_time": "2024-02-11T18:07:05.503Z"
   },
   {
    "duration": 122,
    "start_time": "2024-02-11T18:07:05.698Z"
   },
   {
    "duration": 0,
    "start_time": "2024-02-11T18:07:05.822Z"
   },
   {
    "duration": 0,
    "start_time": "2024-02-11T18:07:05.824Z"
   },
   {
    "duration": 0,
    "start_time": "2024-02-11T18:07:05.825Z"
   },
   {
    "duration": 0,
    "start_time": "2024-02-11T18:07:05.826Z"
   },
   {
    "duration": 0,
    "start_time": "2024-02-11T18:07:05.827Z"
   },
   {
    "duration": 0,
    "start_time": "2024-02-11T18:07:05.828Z"
   },
   {
    "duration": 0,
    "start_time": "2024-02-11T18:07:05.829Z"
   },
   {
    "duration": 0,
    "start_time": "2024-02-11T18:07:05.830Z"
   },
   {
    "duration": 0,
    "start_time": "2024-02-11T18:07:05.831Z"
   },
   {
    "duration": 0,
    "start_time": "2024-02-11T18:07:05.832Z"
   },
   {
    "duration": 0,
    "start_time": "2024-02-11T18:07:05.834Z"
   },
   {
    "duration": 0,
    "start_time": "2024-02-11T18:07:05.834Z"
   },
   {
    "duration": 0,
    "start_time": "2024-02-11T18:07:05.835Z"
   },
   {
    "duration": 0,
    "start_time": "2024-02-11T18:07:05.836Z"
   },
   {
    "duration": 0,
    "start_time": "2024-02-11T18:07:05.838Z"
   },
   {
    "duration": 0,
    "start_time": "2024-02-11T18:07:05.839Z"
   },
   {
    "duration": 0,
    "start_time": "2024-02-11T18:07:05.840Z"
   },
   {
    "duration": 1,
    "start_time": "2024-02-11T18:07:05.840Z"
   },
   {
    "duration": 0,
    "start_time": "2024-02-11T18:07:05.842Z"
   },
   {
    "duration": 0,
    "start_time": "2024-02-11T18:07:05.843Z"
   },
   {
    "duration": 0,
    "start_time": "2024-02-11T18:07:05.844Z"
   },
   {
    "duration": 0,
    "start_time": "2024-02-11T18:07:05.846Z"
   },
   {
    "duration": 11,
    "start_time": "2024-02-11T18:07:45.162Z"
   },
   {
    "duration": 17,
    "start_time": "2024-02-11T18:07:49.482Z"
   },
   {
    "duration": 6,
    "start_time": "2024-02-11T18:09:16.390Z"
   },
   {
    "duration": 7,
    "start_time": "2024-02-11T18:12:46.130Z"
   },
   {
    "duration": 5,
    "start_time": "2024-02-11T18:13:13.611Z"
   },
   {
    "duration": 10,
    "start_time": "2024-02-11T18:14:22.090Z"
   },
   {
    "duration": 16,
    "start_time": "2024-02-11T18:14:48.961Z"
   },
   {
    "duration": 6,
    "start_time": "2024-02-11T18:15:16.922Z"
   },
   {
    "duration": 638,
    "start_time": "2024-02-11T18:16:12.839Z"
   },
   {
    "duration": 580,
    "start_time": "2024-02-11T18:16:40.845Z"
   },
   {
    "duration": 5,
    "start_time": "2024-02-11T18:17:02.973Z"
   },
   {
    "duration": 4,
    "start_time": "2024-02-11T18:17:12.243Z"
   },
   {
    "duration": 10,
    "start_time": "2024-02-11T18:17:52.104Z"
   },
   {
    "duration": 991,
    "start_time": "2024-02-11T18:18:24.973Z"
   },
   {
    "duration": 37,
    "start_time": "2024-02-11T18:18:25.966Z"
   },
   {
    "duration": 11,
    "start_time": "2024-02-11T18:18:26.004Z"
   },
   {
    "duration": 34,
    "start_time": "2024-02-11T18:18:26.017Z"
   },
   {
    "duration": 33,
    "start_time": "2024-02-11T18:18:26.052Z"
   },
   {
    "duration": 19,
    "start_time": "2024-02-11T18:18:26.086Z"
   },
   {
    "duration": 8,
    "start_time": "2024-02-11T18:18:26.107Z"
   },
   {
    "duration": 9,
    "start_time": "2024-02-11T18:18:26.117Z"
   },
   {
    "duration": 7,
    "start_time": "2024-02-11T18:18:26.128Z"
   },
   {
    "duration": 4,
    "start_time": "2024-02-11T18:18:26.138Z"
   },
   {
    "duration": 5,
    "start_time": "2024-02-11T18:18:26.144Z"
   },
   {
    "duration": 8,
    "start_time": "2024-02-11T18:18:26.150Z"
   },
   {
    "duration": 200,
    "start_time": "2024-02-11T18:18:26.160Z"
   },
   {
    "duration": 5,
    "start_time": "2024-02-11T18:18:26.362Z"
   },
   {
    "duration": 9,
    "start_time": "2024-02-11T18:18:26.369Z"
   },
   {
    "duration": 184,
    "start_time": "2024-02-11T18:18:26.380Z"
   },
   {
    "duration": 7,
    "start_time": "2024-02-11T18:18:26.566Z"
   },
   {
    "duration": 9,
    "start_time": "2024-02-11T18:18:26.575Z"
   },
   {
    "duration": 208,
    "start_time": "2024-02-11T18:18:26.586Z"
   },
   {
    "duration": 20,
    "start_time": "2024-02-11T18:18:26.796Z"
   },
   {
    "duration": 181,
    "start_time": "2024-02-11T18:18:26.818Z"
   },
   {
    "duration": 19,
    "start_time": "2024-02-11T18:18:27.000Z"
   },
   {
    "duration": 16,
    "start_time": "2024-02-11T18:18:27.020Z"
   },
   {
    "duration": 6,
    "start_time": "2024-02-11T18:18:27.037Z"
   },
   {
    "duration": 5,
    "start_time": "2024-02-11T18:18:27.045Z"
   },
   {
    "duration": 9,
    "start_time": "2024-02-11T18:18:27.052Z"
   },
   {
    "duration": 61,
    "start_time": "2024-02-11T18:18:27.062Z"
   },
   {
    "duration": 25,
    "start_time": "2024-02-11T18:18:27.127Z"
   },
   {
    "duration": 10,
    "start_time": "2024-02-11T18:18:27.153Z"
   },
   {
    "duration": 173,
    "start_time": "2024-02-11T18:18:27.165Z"
   },
   {
    "duration": 181,
    "start_time": "2024-02-11T18:18:27.340Z"
   },
   {
    "duration": 24,
    "start_time": "2024-02-11T18:18:27.522Z"
   },
   {
    "duration": 25,
    "start_time": "2024-02-11T18:18:27.548Z"
   },
   {
    "duration": 2,
    "start_time": "2024-02-11T18:18:27.575Z"
   },
   {
    "duration": 37,
    "start_time": "2024-02-11T18:18:27.579Z"
   },
   {
    "duration": 7,
    "start_time": "2024-02-11T18:18:27.618Z"
   },
   {
    "duration": 7,
    "start_time": "2024-02-11T18:18:27.627Z"
   },
   {
    "duration": 8,
    "start_time": "2024-02-11T18:18:27.635Z"
   },
   {
    "duration": 5,
    "start_time": "2024-02-11T18:18:27.645Z"
   },
   {
    "duration": 11,
    "start_time": "2024-02-11T18:18:27.651Z"
   },
   {
    "duration": 1925,
    "start_time": "2024-02-11T18:18:27.663Z"
   },
   {
    "duration": 4,
    "start_time": "2024-02-11T18:18:29.590Z"
   },
   {
    "duration": 19,
    "start_time": "2024-02-11T18:18:29.596Z"
   },
   {
    "duration": 7,
    "start_time": "2024-02-11T18:18:29.617Z"
   },
   {
    "duration": 8,
    "start_time": "2024-02-11T18:18:29.626Z"
   },
   {
    "duration": 3,
    "start_time": "2024-02-11T18:18:29.636Z"
   },
   {
    "duration": 148,
    "start_time": "2024-02-11T18:18:29.640Z"
   },
   {
    "duration": 16,
    "start_time": "2024-02-11T18:19:30.588Z"
   },
   {
    "duration": 9,
    "start_time": "2024-02-11T18:23:51.168Z"
   },
   {
    "duration": 163,
    "start_time": "2024-02-11T18:24:34.188Z"
   },
   {
    "duration": 16,
    "start_time": "2024-02-11T18:25:35.551Z"
   },
   {
    "duration": 16,
    "start_time": "2024-02-11T18:29:01.503Z"
   },
   {
    "duration": 16,
    "start_time": "2024-02-11T18:29:47.750Z"
   },
   {
    "duration": 1049,
    "start_time": "2024-02-11T18:31:26.719Z"
   },
   {
    "duration": 38,
    "start_time": "2024-02-11T18:31:27.770Z"
   },
   {
    "duration": 11,
    "start_time": "2024-02-11T18:31:27.809Z"
   },
   {
    "duration": 36,
    "start_time": "2024-02-11T18:31:27.821Z"
   },
   {
    "duration": 10,
    "start_time": "2024-02-11T18:31:27.859Z"
   },
   {
    "duration": 20,
    "start_time": "2024-02-11T18:31:27.870Z"
   },
   {
    "duration": 10,
    "start_time": "2024-02-11T18:31:27.891Z"
   },
   {
    "duration": 24,
    "start_time": "2024-02-11T18:31:27.902Z"
   },
   {
    "duration": 8,
    "start_time": "2024-02-11T18:31:27.928Z"
   },
   {
    "duration": 5,
    "start_time": "2024-02-11T18:31:27.938Z"
   },
   {
    "duration": 6,
    "start_time": "2024-02-11T18:31:27.945Z"
   },
   {
    "duration": 9,
    "start_time": "2024-02-11T18:31:27.952Z"
   },
   {
    "duration": 200,
    "start_time": "2024-02-11T18:31:27.963Z"
   },
   {
    "duration": 6,
    "start_time": "2024-02-11T18:31:28.168Z"
   },
   {
    "duration": 11,
    "start_time": "2024-02-11T18:31:28.176Z"
   },
   {
    "duration": 170,
    "start_time": "2024-02-11T18:31:28.188Z"
   },
   {
    "duration": 5,
    "start_time": "2024-02-11T18:31:28.359Z"
   },
   {
    "duration": 8,
    "start_time": "2024-02-11T18:31:28.366Z"
   },
   {
    "duration": 199,
    "start_time": "2024-02-11T18:31:28.376Z"
   },
   {
    "duration": 16,
    "start_time": "2024-02-11T18:31:28.577Z"
   },
   {
    "duration": 26,
    "start_time": "2024-02-11T18:31:28.594Z"
   },
   {
    "duration": 192,
    "start_time": "2024-02-11T18:31:28.621Z"
   },
   {
    "duration": 12,
    "start_time": "2024-02-11T18:31:28.815Z"
   },
   {
    "duration": 19,
    "start_time": "2024-02-11T18:31:28.829Z"
   },
   {
    "duration": 7,
    "start_time": "2024-02-11T18:31:28.850Z"
   },
   {
    "duration": 5,
    "start_time": "2024-02-11T18:31:28.858Z"
   },
   {
    "duration": 55,
    "start_time": "2024-02-11T18:31:28.865Z"
   },
   {
    "duration": 161,
    "start_time": "2024-02-11T18:31:28.922Z"
   },
   {
    "duration": 33,
    "start_time": "2024-02-11T18:31:29.085Z"
   },
   {
    "duration": 24,
    "start_time": "2024-02-11T18:31:29.119Z"
   },
   {
    "duration": 10,
    "start_time": "2024-02-11T18:31:29.145Z"
   },
   {
    "duration": 174,
    "start_time": "2024-02-11T18:31:29.157Z"
   },
   {
    "duration": 165,
    "start_time": "2024-02-11T18:31:29.333Z"
   },
   {
    "duration": 33,
    "start_time": "2024-02-11T18:31:29.499Z"
   },
   {
    "duration": 21,
    "start_time": "2024-02-11T18:31:29.534Z"
   },
   {
    "duration": 3,
    "start_time": "2024-02-11T18:31:29.556Z"
   },
   {
    "duration": 13,
    "start_time": "2024-02-11T18:31:29.560Z"
   },
   {
    "duration": 35,
    "start_time": "2024-02-11T18:31:29.574Z"
   },
   {
    "duration": 12,
    "start_time": "2024-02-11T18:31:29.611Z"
   },
   {
    "duration": 26,
    "start_time": "2024-02-11T18:31:29.625Z"
   },
   {
    "duration": 4,
    "start_time": "2024-02-11T18:31:29.655Z"
   },
   {
    "duration": 8,
    "start_time": "2024-02-11T18:31:29.661Z"
   },
   {
    "duration": 1912,
    "start_time": "2024-02-11T18:31:29.670Z"
   },
   {
    "duration": 5,
    "start_time": "2024-02-11T18:31:31.584Z"
   },
   {
    "duration": 32,
    "start_time": "2024-02-11T18:31:31.590Z"
   },
   {
    "duration": 8,
    "start_time": "2024-02-11T18:31:31.624Z"
   },
   {
    "duration": 10,
    "start_time": "2024-02-11T18:31:31.633Z"
   },
   {
    "duration": 25,
    "start_time": "2024-02-11T18:31:31.645Z"
   },
   {
    "duration": 143,
    "start_time": "2024-02-11T18:31:31.672Z"
   },
   {
    "duration": 2,
    "start_time": "2024-02-11T18:33:56.106Z"
   },
   {
    "duration": 3,
    "start_time": "2024-02-11T18:34:04.875Z"
   },
   {
    "duration": 9,
    "start_time": "2024-02-11T18:34:34.898Z"
   },
   {
    "duration": 998,
    "start_time": "2024-02-11T18:34:43.172Z"
   },
   {
    "duration": 38,
    "start_time": "2024-02-11T18:34:44.171Z"
   },
   {
    "duration": 12,
    "start_time": "2024-02-11T18:34:44.211Z"
   },
   {
    "duration": 36,
    "start_time": "2024-02-11T18:34:44.225Z"
   },
   {
    "duration": 11,
    "start_time": "2024-02-11T18:34:44.263Z"
   },
   {
    "duration": 22,
    "start_time": "2024-02-11T18:34:44.276Z"
   },
   {
    "duration": 9,
    "start_time": "2024-02-11T18:34:44.299Z"
   },
   {
    "duration": 16,
    "start_time": "2024-02-11T18:34:44.314Z"
   },
   {
    "duration": 11,
    "start_time": "2024-02-11T18:34:44.332Z"
   },
   {
    "duration": 5,
    "start_time": "2024-02-11T18:34:44.345Z"
   },
   {
    "duration": 5,
    "start_time": "2024-02-11T18:34:44.351Z"
   },
   {
    "duration": 7,
    "start_time": "2024-02-11T18:34:44.358Z"
   },
   {
    "duration": 170,
    "start_time": "2024-02-11T18:34:44.366Z"
   },
   {
    "duration": 5,
    "start_time": "2024-02-11T18:34:44.538Z"
   },
   {
    "duration": 10,
    "start_time": "2024-02-11T18:34:44.545Z"
   },
   {
    "duration": 187,
    "start_time": "2024-02-11T18:34:44.557Z"
   },
   {
    "duration": 7,
    "start_time": "2024-02-11T18:34:44.746Z"
   },
   {
    "duration": 14,
    "start_time": "2024-02-11T18:34:44.755Z"
   },
   {
    "duration": 226,
    "start_time": "2024-02-11T18:34:44.770Z"
   },
   {
    "duration": 33,
    "start_time": "2024-02-11T18:34:44.999Z"
   },
   {
    "duration": 17,
    "start_time": "2024-02-11T18:34:45.034Z"
   },
   {
    "duration": 202,
    "start_time": "2024-02-11T18:34:45.053Z"
   },
   {
    "duration": 2,
    "start_time": "2024-02-11T18:34:45.257Z"
   },
   {
    "duration": 6,
    "start_time": "2024-02-11T18:34:45.260Z"
   },
   {
    "duration": 4,
    "start_time": "2024-02-11T18:34:45.267Z"
   },
   {
    "duration": 29,
    "start_time": "2024-02-11T18:34:45.273Z"
   },
   {
    "duration": 13,
    "start_time": "2024-02-11T18:34:45.303Z"
   },
   {
    "duration": 11,
    "start_time": "2024-02-11T18:34:45.321Z"
   },
   {
    "duration": 188,
    "start_time": "2024-02-11T18:34:45.334Z"
   },
   {
    "duration": 22,
    "start_time": "2024-02-11T18:34:45.524Z"
   },
   {
    "duration": 23,
    "start_time": "2024-02-11T18:34:45.547Z"
   },
   {
    "duration": 11,
    "start_time": "2024-02-11T18:34:45.571Z"
   },
   {
    "duration": 193,
    "start_time": "2024-02-11T18:34:45.583Z"
   },
   {
    "duration": 172,
    "start_time": "2024-02-11T18:34:45.778Z"
   },
   {
    "duration": 24,
    "start_time": "2024-02-11T18:34:45.951Z"
   },
   {
    "duration": 39,
    "start_time": "2024-02-11T18:34:45.976Z"
   },
   {
    "duration": 2,
    "start_time": "2024-02-11T18:34:46.017Z"
   },
   {
    "duration": 7,
    "start_time": "2024-02-11T18:34:46.020Z"
   },
   {
    "duration": 8,
    "start_time": "2024-02-11T18:34:46.029Z"
   },
   {
    "duration": 7,
    "start_time": "2024-02-11T18:34:46.038Z"
   },
   {
    "duration": 7,
    "start_time": "2024-02-11T18:34:46.046Z"
   },
   {
    "duration": 5,
    "start_time": "2024-02-11T18:34:46.054Z"
   },
   {
    "duration": 5,
    "start_time": "2024-02-11T18:34:46.060Z"
   },
   {
    "duration": 1893,
    "start_time": "2024-02-11T18:34:46.067Z"
   },
   {
    "duration": 5,
    "start_time": "2024-02-11T18:34:47.961Z"
   },
   {
    "duration": 15,
    "start_time": "2024-02-11T18:34:47.967Z"
   },
   {
    "duration": 7,
    "start_time": "2024-02-11T18:34:47.983Z"
   },
   {
    "duration": 23,
    "start_time": "2024-02-11T18:34:47.992Z"
   },
   {
    "duration": 3,
    "start_time": "2024-02-11T18:34:48.017Z"
   },
   {
    "duration": 160,
    "start_time": "2024-02-11T18:34:48.022Z"
   },
   {
    "duration": 7,
    "start_time": "2024-02-11T18:35:47.500Z"
   },
   {
    "duration": 1071,
    "start_time": "2024-02-11T18:36:03.846Z"
   },
   {
    "duration": 37,
    "start_time": "2024-02-11T18:36:04.919Z"
   },
   {
    "duration": 9,
    "start_time": "2024-02-11T18:36:04.958Z"
   },
   {
    "duration": 35,
    "start_time": "2024-02-11T18:36:04.969Z"
   },
   {
    "duration": 14,
    "start_time": "2024-02-11T18:36:05.006Z"
   },
   {
    "duration": 35,
    "start_time": "2024-02-11T18:36:05.021Z"
   },
   {
    "duration": 9,
    "start_time": "2024-02-11T18:36:05.057Z"
   },
   {
    "duration": 11,
    "start_time": "2024-02-11T18:36:05.067Z"
   },
   {
    "duration": 7,
    "start_time": "2024-02-11T18:36:05.080Z"
   },
   {
    "duration": 4,
    "start_time": "2024-02-11T18:36:05.090Z"
   },
   {
    "duration": 20,
    "start_time": "2024-02-11T18:36:05.095Z"
   },
   {
    "duration": 7,
    "start_time": "2024-02-11T18:36:05.117Z"
   },
   {
    "duration": 151,
    "start_time": "2024-02-11T18:36:05.126Z"
   },
   {
    "duration": 6,
    "start_time": "2024-02-11T18:36:05.279Z"
   },
   {
    "duration": 9,
    "start_time": "2024-02-11T18:36:05.286Z"
   },
   {
    "duration": 174,
    "start_time": "2024-02-11T18:36:05.296Z"
   },
   {
    "duration": 5,
    "start_time": "2024-02-11T18:36:05.472Z"
   },
   {
    "duration": 10,
    "start_time": "2024-02-11T18:36:05.478Z"
   },
   {
    "duration": 212,
    "start_time": "2024-02-11T18:36:05.490Z"
   },
   {
    "duration": 22,
    "start_time": "2024-02-11T18:36:05.704Z"
   },
   {
    "duration": 8,
    "start_time": "2024-02-11T18:36:05.727Z"
   },
   {
    "duration": 188,
    "start_time": "2024-02-11T18:36:05.736Z"
   },
   {
    "duration": 2,
    "start_time": "2024-02-11T18:36:05.925Z"
   },
   {
    "duration": 4,
    "start_time": "2024-02-11T18:36:05.928Z"
   },
   {
    "duration": 4,
    "start_time": "2024-02-11T18:36:05.934Z"
   },
   {
    "duration": 21,
    "start_time": "2024-02-11T18:36:05.939Z"
   },
   {
    "duration": 6,
    "start_time": "2024-02-11T18:36:05.961Z"
   },
   {
    "duration": 10,
    "start_time": "2024-02-11T18:36:05.970Z"
   },
   {
    "duration": 37,
    "start_time": "2024-02-11T18:36:05.982Z"
   },
   {
    "duration": 164,
    "start_time": "2024-02-11T18:36:06.020Z"
   },
   {
    "duration": 35,
    "start_time": "2024-02-11T18:36:06.186Z"
   },
   {
    "duration": 23,
    "start_time": "2024-02-11T18:36:06.222Z"
   },
   {
    "duration": 11,
    "start_time": "2024-02-11T18:36:06.247Z"
   },
   {
    "duration": 170,
    "start_time": "2024-02-11T18:36:06.259Z"
   },
   {
    "duration": 165,
    "start_time": "2024-02-11T18:36:06.431Z"
   },
   {
    "duration": 38,
    "start_time": "2024-02-11T18:36:06.598Z"
   },
   {
    "duration": 23,
    "start_time": "2024-02-11T18:36:06.638Z"
   },
   {
    "duration": 2,
    "start_time": "2024-02-11T18:36:06.663Z"
   },
   {
    "duration": 6,
    "start_time": "2024-02-11T18:36:06.667Z"
   },
   {
    "duration": 8,
    "start_time": "2024-02-11T18:36:06.674Z"
   },
   {
    "duration": 9,
    "start_time": "2024-02-11T18:36:06.715Z"
   },
   {
    "duration": 8,
    "start_time": "2024-02-11T18:36:06.726Z"
   },
   {
    "duration": 5,
    "start_time": "2024-02-11T18:36:06.735Z"
   },
   {
    "duration": 4,
    "start_time": "2024-02-11T18:36:06.742Z"
   },
   {
    "duration": 1891,
    "start_time": "2024-02-11T18:36:06.747Z"
   },
   {
    "duration": 4,
    "start_time": "2024-02-11T18:36:08.640Z"
   },
   {
    "duration": 8,
    "start_time": "2024-02-11T18:36:08.645Z"
   },
   {
    "duration": 7,
    "start_time": "2024-02-11T18:36:08.654Z"
   },
   {
    "duration": 4,
    "start_time": "2024-02-11T18:36:08.663Z"
   },
   {
    "duration": 3,
    "start_time": "2024-02-11T18:36:08.669Z"
   },
   {
    "duration": 156,
    "start_time": "2024-02-11T18:36:08.673Z"
   },
   {
    "duration": 10,
    "start_time": "2024-02-11T18:38:26.174Z"
   },
   {
    "duration": 10,
    "start_time": "2024-02-11T18:38:40.022Z"
   },
   {
    "duration": 8,
    "start_time": "2024-02-11T18:39:06.690Z"
   },
   {
    "duration": 16,
    "start_time": "2024-02-11T19:21:16.928Z"
   },
   {
    "duration": 498,
    "start_time": "2024-02-11T19:22:39.323Z"
   },
   {
    "duration": 91,
    "start_time": "2024-02-11T19:23:47.249Z"
   },
   {
    "duration": 161,
    "start_time": "2024-02-11T19:23:51.344Z"
   },
   {
    "duration": 16,
    "start_time": "2024-02-11T19:26:12.673Z"
   },
   {
    "duration": 139,
    "start_time": "2024-02-11T19:26:21.586Z"
   },
   {
    "duration": 136,
    "start_time": "2024-02-11T19:26:50.444Z"
   },
   {
    "duration": 138,
    "start_time": "2024-02-11T19:36:17.913Z"
   },
   {
    "duration": 150,
    "start_time": "2024-02-11T19:36:26.269Z"
   },
   {
    "duration": 99,
    "start_time": "2024-02-11T19:38:20.183Z"
   },
   {
    "duration": 23,
    "start_time": "2024-02-11T19:38:27.282Z"
   },
   {
    "duration": 12,
    "start_time": "2024-02-11T19:48:12.362Z"
   },
   {
    "duration": 12,
    "start_time": "2024-02-11T19:48:30.840Z"
   },
   {
    "duration": 71,
    "start_time": "2024-02-11T19:51:49.078Z"
   },
   {
    "duration": 33,
    "start_time": "2024-02-11T19:52:05.099Z"
   },
   {
    "duration": 294,
    "start_time": "2024-02-11T19:57:17.375Z"
   },
   {
    "duration": 8,
    "start_time": "2024-02-11T20:01:00.041Z"
   },
   {
    "duration": 8,
    "start_time": "2024-02-11T20:01:21.581Z"
   },
   {
    "duration": 8,
    "start_time": "2024-02-11T20:02:45.001Z"
   },
   {
    "duration": 8,
    "start_time": "2024-02-11T20:03:23.295Z"
   },
   {
    "duration": 1143,
    "start_time": "2024-02-11T20:07:19.830Z"
   },
   {
    "duration": 38,
    "start_time": "2024-02-11T20:07:20.975Z"
   },
   {
    "duration": 11,
    "start_time": "2024-02-11T20:07:21.015Z"
   },
   {
    "duration": 38,
    "start_time": "2024-02-11T20:07:21.028Z"
   },
   {
    "duration": 11,
    "start_time": "2024-02-11T20:07:21.067Z"
   },
   {
    "duration": 29,
    "start_time": "2024-02-11T20:07:21.080Z"
   },
   {
    "duration": 10,
    "start_time": "2024-02-11T20:07:21.111Z"
   },
   {
    "duration": 23,
    "start_time": "2024-02-11T20:07:21.122Z"
   },
   {
    "duration": 8,
    "start_time": "2024-02-11T20:07:21.146Z"
   },
   {
    "duration": 26,
    "start_time": "2024-02-11T20:07:21.156Z"
   },
   {
    "duration": 6,
    "start_time": "2024-02-11T20:07:21.183Z"
   },
   {
    "duration": 7,
    "start_time": "2024-02-11T20:07:21.190Z"
   },
   {
    "duration": 144,
    "start_time": "2024-02-11T20:07:21.198Z"
   },
   {
    "duration": 6,
    "start_time": "2024-02-11T20:07:21.344Z"
   },
   {
    "duration": 8,
    "start_time": "2024-02-11T20:07:21.352Z"
   },
   {
    "duration": 188,
    "start_time": "2024-02-11T20:07:21.362Z"
   },
   {
    "duration": 6,
    "start_time": "2024-02-11T20:07:21.552Z"
   },
   {
    "duration": 9,
    "start_time": "2024-02-11T20:07:21.560Z"
   },
   {
    "duration": 209,
    "start_time": "2024-02-11T20:07:21.571Z"
   },
   {
    "duration": 168,
    "start_time": "2024-02-11T20:07:21.782Z"
   },
   {
    "duration": 9,
    "start_time": "2024-02-11T20:07:21.951Z"
   },
   {
    "duration": 185,
    "start_time": "2024-02-11T20:07:21.962Z"
   },
   {
    "duration": 14,
    "start_time": "2024-02-11T20:07:22.149Z"
   },
   {
    "duration": 19,
    "start_time": "2024-02-11T20:07:22.164Z"
   },
   {
    "duration": 9,
    "start_time": "2024-02-11T20:07:22.184Z"
   },
   {
    "duration": 180,
    "start_time": "2024-02-11T20:07:22.194Z"
   },
   {
    "duration": 8,
    "start_time": "2024-02-11T20:07:22.375Z"
   },
   {
    "duration": 40,
    "start_time": "2024-02-11T20:07:22.387Z"
   },
   {
    "duration": 23,
    "start_time": "2024-02-11T20:07:22.428Z"
   },
   {
    "duration": 11,
    "start_time": "2024-02-11T20:07:22.453Z"
   },
   {
    "duration": 170,
    "start_time": "2024-02-11T20:07:22.466Z"
   },
   {
    "duration": 8,
    "start_time": "2024-02-11T20:07:22.637Z"
   },
   {
    "duration": 6,
    "start_time": "2024-02-11T20:07:22.647Z"
   },
   {
    "duration": 191,
    "start_time": "2024-02-11T20:07:22.654Z"
   },
   {
    "duration": 10,
    "start_time": "2024-02-11T20:07:22.847Z"
   },
   {
    "duration": 7,
    "start_time": "2024-02-11T20:07:22.859Z"
   },
   {
    "duration": 101,
    "start_time": "2024-02-11T20:07:22.867Z"
   },
   {
    "duration": 23,
    "start_time": "2024-02-11T20:07:22.969Z"
   },
   {
    "duration": 3,
    "start_time": "2024-02-11T20:07:22.993Z"
   },
   {
    "duration": 21,
    "start_time": "2024-02-11T20:07:22.997Z"
   },
   {
    "duration": 8,
    "start_time": "2024-02-11T20:07:23.019Z"
   },
   {
    "duration": 7,
    "start_time": "2024-02-11T20:07:23.029Z"
   },
   {
    "duration": 8,
    "start_time": "2024-02-11T20:07:23.038Z"
   },
   {
    "duration": 5,
    "start_time": "2024-02-11T20:07:23.048Z"
   },
   {
    "duration": 6,
    "start_time": "2024-02-11T20:07:23.055Z"
   },
   {
    "duration": 1742,
    "start_time": "2024-02-11T20:07:23.062Z"
   },
   {
    "duration": 10,
    "start_time": "2024-02-11T20:07:24.806Z"
   },
   {
    "duration": 6,
    "start_time": "2024-02-11T20:07:24.818Z"
   },
   {
    "duration": 5,
    "start_time": "2024-02-11T20:07:24.825Z"
   },
   {
    "duration": 6,
    "start_time": "2024-02-11T20:07:24.832Z"
   },
   {
    "duration": 4,
    "start_time": "2024-02-11T20:07:24.839Z"
   },
   {
    "duration": 147,
    "start_time": "2024-02-11T20:07:24.845Z"
   },
   {
    "duration": 9,
    "start_time": "2024-02-11T20:10:52.373Z"
   },
   {
    "duration": 1048,
    "start_time": "2024-02-11T20:11:00.748Z"
   },
   {
    "duration": 39,
    "start_time": "2024-02-11T20:11:01.798Z"
   },
   {
    "duration": 11,
    "start_time": "2024-02-11T20:11:01.838Z"
   },
   {
    "duration": 51,
    "start_time": "2024-02-11T20:11:01.851Z"
   },
   {
    "duration": 11,
    "start_time": "2024-02-11T20:11:01.904Z"
   },
   {
    "duration": 29,
    "start_time": "2024-02-11T20:11:01.917Z"
   },
   {
    "duration": 8,
    "start_time": "2024-02-11T20:11:01.947Z"
   },
   {
    "duration": 20,
    "start_time": "2024-02-11T20:11:01.956Z"
   },
   {
    "duration": 9,
    "start_time": "2024-02-11T20:11:01.977Z"
   },
   {
    "duration": 17,
    "start_time": "2024-02-11T20:11:01.988Z"
   },
   {
    "duration": 7,
    "start_time": "2024-02-11T20:11:02.006Z"
   },
   {
    "duration": 16,
    "start_time": "2024-02-11T20:11:02.015Z"
   },
   {
    "duration": 151,
    "start_time": "2024-02-11T20:11:02.032Z"
   },
   {
    "duration": 5,
    "start_time": "2024-02-11T20:11:02.187Z"
   },
   {
    "duration": 22,
    "start_time": "2024-02-11T20:11:02.193Z"
   },
   {
    "duration": 156,
    "start_time": "2024-02-11T20:11:02.217Z"
   },
   {
    "duration": 5,
    "start_time": "2024-02-11T20:11:02.375Z"
   },
   {
    "duration": 8,
    "start_time": "2024-02-11T20:11:02.381Z"
   },
   {
    "duration": 200,
    "start_time": "2024-02-11T20:11:02.390Z"
   },
   {
    "duration": 169,
    "start_time": "2024-02-11T20:11:02.591Z"
   },
   {
    "duration": 9,
    "start_time": "2024-02-11T20:11:02.761Z"
   },
   {
    "duration": 201,
    "start_time": "2024-02-11T20:11:02.771Z"
   },
   {
    "duration": 23,
    "start_time": "2024-02-11T20:11:02.974Z"
   },
   {
    "duration": 8,
    "start_time": "2024-02-11T20:11:02.999Z"
   },
   {
    "duration": 12,
    "start_time": "2024-02-11T20:11:03.008Z"
   },
   {
    "duration": 180,
    "start_time": "2024-02-11T20:11:03.021Z"
   },
   {
    "duration": 12,
    "start_time": "2024-02-11T20:11:03.203Z"
   },
   {
    "duration": 23,
    "start_time": "2024-02-11T20:11:03.216Z"
   },
   {
    "duration": 23,
    "start_time": "2024-02-11T20:11:03.240Z"
   },
   {
    "duration": 10,
    "start_time": "2024-02-11T20:11:03.265Z"
   },
   {
    "duration": 179,
    "start_time": "2024-02-11T20:11:03.277Z"
   },
   {
    "duration": 8,
    "start_time": "2024-02-11T20:11:03.458Z"
   },
   {
    "duration": 7,
    "start_time": "2024-02-11T20:11:03.467Z"
   },
   {
    "duration": 170,
    "start_time": "2024-02-11T20:11:03.475Z"
   },
   {
    "duration": 8,
    "start_time": "2024-02-11T20:11:03.646Z"
   },
   {
    "duration": 7,
    "start_time": "2024-02-11T20:11:03.655Z"
   },
   {
    "duration": 102,
    "start_time": "2024-02-11T20:11:03.663Z"
   },
   {
    "duration": 21,
    "start_time": "2024-02-11T20:11:03.766Z"
   },
   {
    "duration": 2,
    "start_time": "2024-02-11T20:11:03.788Z"
   },
   {
    "duration": 6,
    "start_time": "2024-02-11T20:11:03.791Z"
   },
   {
    "duration": 7,
    "start_time": "2024-02-11T20:11:03.814Z"
   },
   {
    "duration": 6,
    "start_time": "2024-02-11T20:11:03.823Z"
   },
   {
    "duration": 16,
    "start_time": "2024-02-11T20:11:03.830Z"
   },
   {
    "duration": 5,
    "start_time": "2024-02-11T20:11:03.847Z"
   },
   {
    "duration": 6,
    "start_time": "2024-02-11T20:11:03.854Z"
   },
   {
    "duration": 1827,
    "start_time": "2024-02-11T20:11:03.861Z"
   },
   {
    "duration": 4,
    "start_time": "2024-02-11T20:11:05.690Z"
   },
   {
    "duration": 19,
    "start_time": "2024-02-11T20:11:05.696Z"
   },
   {
    "duration": 5,
    "start_time": "2024-02-11T20:11:05.717Z"
   },
   {
    "duration": 6,
    "start_time": "2024-02-11T20:11:05.724Z"
   },
   {
    "duration": 4,
    "start_time": "2024-02-11T20:11:05.732Z"
   },
   {
    "duration": 152,
    "start_time": "2024-02-11T20:11:05.737Z"
   },
   {
    "duration": 9,
    "start_time": "2024-02-11T20:11:57.639Z"
   },
   {
    "duration": 1143,
    "start_time": "2024-02-11T20:12:08.612Z"
   },
   {
    "duration": 38,
    "start_time": "2024-02-11T20:12:09.757Z"
   },
   {
    "duration": 11,
    "start_time": "2024-02-11T20:12:09.797Z"
   },
   {
    "duration": 36,
    "start_time": "2024-02-11T20:12:09.810Z"
   },
   {
    "duration": 12,
    "start_time": "2024-02-11T20:12:09.847Z"
   },
   {
    "duration": 18,
    "start_time": "2024-02-11T20:12:09.860Z"
   },
   {
    "duration": 8,
    "start_time": "2024-02-11T20:12:09.880Z"
   },
   {
    "duration": 10,
    "start_time": "2024-02-11T20:12:09.890Z"
   },
   {
    "duration": 16,
    "start_time": "2024-02-11T20:12:09.901Z"
   },
   {
    "duration": 4,
    "start_time": "2024-02-11T20:12:09.919Z"
   },
   {
    "duration": 9,
    "start_time": "2024-02-11T20:12:09.924Z"
   },
   {
    "duration": 7,
    "start_time": "2024-02-11T20:12:09.935Z"
   },
   {
    "duration": 153,
    "start_time": "2024-02-11T20:12:09.944Z"
   },
   {
    "duration": 6,
    "start_time": "2024-02-11T20:12:10.099Z"
   },
   {
    "duration": 8,
    "start_time": "2024-02-11T20:12:10.115Z"
   },
   {
    "duration": 171,
    "start_time": "2024-02-11T20:12:10.124Z"
   },
   {
    "duration": 6,
    "start_time": "2024-02-11T20:12:10.297Z"
   },
   {
    "duration": 12,
    "start_time": "2024-02-11T20:12:10.305Z"
   },
   {
    "duration": 200,
    "start_time": "2024-02-11T20:12:10.318Z"
   },
   {
    "duration": 159,
    "start_time": "2024-02-11T20:12:10.520Z"
   },
   {
    "duration": 8,
    "start_time": "2024-02-11T20:12:10.680Z"
   },
   {
    "duration": 171,
    "start_time": "2024-02-11T20:12:10.689Z"
   },
   {
    "duration": 12,
    "start_time": "2024-02-11T20:12:10.862Z"
   },
   {
    "duration": 5,
    "start_time": "2024-02-11T20:12:10.876Z"
   },
   {
    "duration": 6,
    "start_time": "2024-02-11T20:12:10.883Z"
   },
   {
    "duration": 181,
    "start_time": "2024-02-11T20:12:10.890Z"
   },
   {
    "duration": 8,
    "start_time": "2024-02-11T20:12:11.073Z"
   },
   {
    "duration": 47,
    "start_time": "2024-02-11T20:12:11.085Z"
   },
   {
    "duration": 24,
    "start_time": "2024-02-11T20:12:11.133Z"
   },
   {
    "duration": 11,
    "start_time": "2024-02-11T20:12:11.158Z"
   },
   {
    "duration": 159,
    "start_time": "2024-02-11T20:12:11.170Z"
   },
   {
    "duration": 8,
    "start_time": "2024-02-11T20:12:11.331Z"
   },
   {
    "duration": 7,
    "start_time": "2024-02-11T20:12:11.340Z"
   },
   {
    "duration": 184,
    "start_time": "2024-02-11T20:12:11.349Z"
   },
   {
    "duration": 8,
    "start_time": "2024-02-11T20:12:11.534Z"
   },
   {
    "duration": 8,
    "start_time": "2024-02-11T20:12:11.543Z"
   },
   {
    "duration": 102,
    "start_time": "2024-02-11T20:12:11.552Z"
   },
   {
    "duration": 22,
    "start_time": "2024-02-11T20:12:11.656Z"
   },
   {
    "duration": 2,
    "start_time": "2024-02-11T20:12:11.679Z"
   },
   {
    "duration": 7,
    "start_time": "2024-02-11T20:12:11.683Z"
   },
   {
    "duration": 29,
    "start_time": "2024-02-11T20:12:11.692Z"
   },
   {
    "duration": 8,
    "start_time": "2024-02-11T20:12:11.723Z"
   },
   {
    "duration": 8,
    "start_time": "2024-02-11T20:12:11.732Z"
   },
   {
    "duration": 5,
    "start_time": "2024-02-11T20:12:11.742Z"
   },
   {
    "duration": 13,
    "start_time": "2024-02-11T20:12:11.749Z"
   },
   {
    "duration": 1864,
    "start_time": "2024-02-11T20:12:11.764Z"
   },
   {
    "duration": 4,
    "start_time": "2024-02-11T20:12:13.630Z"
   },
   {
    "duration": 7,
    "start_time": "2024-02-11T20:12:13.635Z"
   },
   {
    "duration": 4,
    "start_time": "2024-02-11T20:12:13.644Z"
   },
   {
    "duration": 5,
    "start_time": "2024-02-11T20:12:13.650Z"
   },
   {
    "duration": 4,
    "start_time": "2024-02-11T20:12:13.657Z"
   },
   {
    "duration": 158,
    "start_time": "2024-02-11T20:12:13.662Z"
   },
   {
    "duration": 96,
    "start_time": "2024-02-11T20:12:48.395Z"
   },
   {
    "duration": 8,
    "start_time": "2024-02-11T20:12:54.569Z"
   },
   {
    "duration": 1089,
    "start_time": "2024-02-11T20:13:01.482Z"
   },
   {
    "duration": 38,
    "start_time": "2024-02-11T20:13:02.573Z"
   },
   {
    "duration": 9,
    "start_time": "2024-02-11T20:13:02.613Z"
   },
   {
    "duration": 35,
    "start_time": "2024-02-11T20:13:02.624Z"
   },
   {
    "duration": 10,
    "start_time": "2024-02-11T20:13:02.661Z"
   },
   {
    "duration": 19,
    "start_time": "2024-02-11T20:13:02.673Z"
   },
   {
    "duration": 9,
    "start_time": "2024-02-11T20:13:02.693Z"
   },
   {
    "duration": 12,
    "start_time": "2024-02-11T20:13:02.703Z"
   },
   {
    "duration": 7,
    "start_time": "2024-02-11T20:13:02.717Z"
   },
   {
    "duration": 5,
    "start_time": "2024-02-11T20:13:02.726Z"
   },
   {
    "duration": 7,
    "start_time": "2024-02-11T20:13:02.732Z"
   },
   {
    "duration": 21,
    "start_time": "2024-02-11T20:13:02.740Z"
   },
   {
    "duration": 165,
    "start_time": "2024-02-11T20:13:02.762Z"
   },
   {
    "duration": 5,
    "start_time": "2024-02-11T20:13:02.929Z"
   },
   {
    "duration": 8,
    "start_time": "2024-02-11T20:13:02.935Z"
   },
   {
    "duration": 165,
    "start_time": "2024-02-11T20:13:02.944Z"
   },
   {
    "duration": 5,
    "start_time": "2024-02-11T20:13:03.114Z"
   },
   {
    "duration": 8,
    "start_time": "2024-02-11T20:13:03.121Z"
   },
   {
    "duration": 193,
    "start_time": "2024-02-11T20:13:03.131Z"
   },
   {
    "duration": 161,
    "start_time": "2024-02-11T20:13:03.326Z"
   },
   {
    "duration": 9,
    "start_time": "2024-02-11T20:13:03.488Z"
   },
   {
    "duration": 187,
    "start_time": "2024-02-11T20:13:03.498Z"
   },
   {
    "duration": 15,
    "start_time": "2024-02-11T20:13:03.687Z"
   },
   {
    "duration": 7,
    "start_time": "2024-02-11T20:13:03.714Z"
   },
   {
    "duration": 11,
    "start_time": "2024-02-11T20:13:03.723Z"
   },
   {
    "duration": 184,
    "start_time": "2024-02-11T20:13:03.736Z"
   },
   {
    "duration": 8,
    "start_time": "2024-02-11T20:13:03.922Z"
   },
   {
    "duration": 22,
    "start_time": "2024-02-11T20:13:03.933Z"
   },
   {
    "duration": 22,
    "start_time": "2024-02-11T20:13:03.956Z"
   },
   {
    "duration": 40,
    "start_time": "2024-02-11T20:13:03.979Z"
   },
   {
    "duration": 152,
    "start_time": "2024-02-11T20:13:04.020Z"
   },
   {
    "duration": 9,
    "start_time": "2024-02-11T20:13:04.173Z"
   },
   {
    "duration": 8,
    "start_time": "2024-02-11T20:13:04.183Z"
   },
   {
    "duration": 179,
    "start_time": "2024-02-11T20:13:04.192Z"
   },
   {
    "duration": 8,
    "start_time": "2024-02-11T20:13:04.373Z"
   },
   {
    "duration": 7,
    "start_time": "2024-02-11T20:13:04.383Z"
   },
   {
    "duration": 106,
    "start_time": "2024-02-11T20:13:04.391Z"
   },
   {
    "duration": 30,
    "start_time": "2024-02-11T20:13:04.498Z"
   },
   {
    "duration": 2,
    "start_time": "2024-02-11T20:13:04.529Z"
   },
   {
    "duration": 9,
    "start_time": "2024-02-11T20:13:04.533Z"
   },
   {
    "duration": 7,
    "start_time": "2024-02-11T20:13:04.543Z"
   },
   {
    "duration": 7,
    "start_time": "2024-02-11T20:13:04.551Z"
   },
   {
    "duration": 7,
    "start_time": "2024-02-11T20:13:04.559Z"
   },
   {
    "duration": 5,
    "start_time": "2024-02-11T20:13:04.568Z"
   },
   {
    "duration": 40,
    "start_time": "2024-02-11T20:13:04.575Z"
   },
   {
    "duration": 1822,
    "start_time": "2024-02-11T20:13:04.617Z"
   },
   {
    "duration": 5,
    "start_time": "2024-02-11T20:13:06.440Z"
   },
   {
    "duration": 6,
    "start_time": "2024-02-11T20:13:06.446Z"
   },
   {
    "duration": 5,
    "start_time": "2024-02-11T20:13:06.454Z"
   },
   {
    "duration": 7,
    "start_time": "2024-02-11T20:13:06.460Z"
   },
   {
    "duration": 4,
    "start_time": "2024-02-11T20:13:06.468Z"
   },
   {
    "duration": 149,
    "start_time": "2024-02-11T20:13:06.474Z"
   },
   {
    "duration": 52,
    "start_time": "2024-02-12T05:33:51.974Z"
   },
   {
    "duration": 1254,
    "start_time": "2024-02-12T05:33:57.832Z"
   },
   {
    "duration": 85,
    "start_time": "2024-02-12T05:33:59.088Z"
   },
   {
    "duration": 11,
    "start_time": "2024-02-12T05:33:59.175Z"
   },
   {
    "duration": 78,
    "start_time": "2024-02-12T05:33:59.188Z"
   },
   {
    "duration": 12,
    "start_time": "2024-02-12T05:33:59.268Z"
   },
   {
    "duration": 57,
    "start_time": "2024-02-12T05:33:59.281Z"
   },
   {
    "duration": 9,
    "start_time": "2024-02-12T05:33:59.339Z"
   },
   {
    "duration": 11,
    "start_time": "2024-02-12T05:33:59.349Z"
   },
   {
    "duration": 7,
    "start_time": "2024-02-12T05:33:59.361Z"
   },
   {
    "duration": 4,
    "start_time": "2024-02-12T05:33:59.371Z"
   },
   {
    "duration": 5,
    "start_time": "2024-02-12T05:33:59.376Z"
   },
   {
    "duration": 7,
    "start_time": "2024-02-12T05:33:59.383Z"
   },
   {
    "duration": 155,
    "start_time": "2024-02-12T05:33:59.391Z"
   },
   {
    "duration": 5,
    "start_time": "2024-02-12T05:33:59.548Z"
   },
   {
    "duration": 8,
    "start_time": "2024-02-12T05:33:59.555Z"
   },
   {
    "duration": 167,
    "start_time": "2024-02-12T05:33:59.565Z"
   },
   {
    "duration": 100,
    "start_time": "2024-02-12T05:33:59.733Z"
   },
   {
    "duration": 0,
    "start_time": "2024-02-12T05:33:59.835Z"
   },
   {
    "duration": 0,
    "start_time": "2024-02-12T05:33:59.837Z"
   },
   {
    "duration": 0,
    "start_time": "2024-02-12T05:33:59.838Z"
   },
   {
    "duration": 0,
    "start_time": "2024-02-12T05:33:59.839Z"
   },
   {
    "duration": 0,
    "start_time": "2024-02-12T05:33:59.840Z"
   },
   {
    "duration": 0,
    "start_time": "2024-02-12T05:33:59.841Z"
   },
   {
    "duration": 0,
    "start_time": "2024-02-12T05:33:59.842Z"
   },
   {
    "duration": 0,
    "start_time": "2024-02-12T05:33:59.843Z"
   },
   {
    "duration": 0,
    "start_time": "2024-02-12T05:33:59.844Z"
   },
   {
    "duration": 0,
    "start_time": "2024-02-12T05:33:59.845Z"
   },
   {
    "duration": 0,
    "start_time": "2024-02-12T05:33:59.845Z"
   },
   {
    "duration": 0,
    "start_time": "2024-02-12T05:33:59.847Z"
   },
   {
    "duration": 0,
    "start_time": "2024-02-12T05:33:59.848Z"
   },
   {
    "duration": 0,
    "start_time": "2024-02-12T05:33:59.849Z"
   },
   {
    "duration": 0,
    "start_time": "2024-02-12T05:33:59.850Z"
   },
   {
    "duration": 0,
    "start_time": "2024-02-12T05:33:59.850Z"
   },
   {
    "duration": 0,
    "start_time": "2024-02-12T05:33:59.852Z"
   },
   {
    "duration": 0,
    "start_time": "2024-02-12T05:33:59.853Z"
   },
   {
    "duration": 0,
    "start_time": "2024-02-12T05:33:59.854Z"
   },
   {
    "duration": 0,
    "start_time": "2024-02-12T05:33:59.855Z"
   },
   {
    "duration": 0,
    "start_time": "2024-02-12T05:33:59.856Z"
   },
   {
    "duration": 0,
    "start_time": "2024-02-12T05:33:59.857Z"
   },
   {
    "duration": 0,
    "start_time": "2024-02-12T05:33:59.857Z"
   },
   {
    "duration": 0,
    "start_time": "2024-02-12T05:33:59.858Z"
   },
   {
    "duration": 0,
    "start_time": "2024-02-12T05:33:59.859Z"
   },
   {
    "duration": 0,
    "start_time": "2024-02-12T05:33:59.860Z"
   },
   {
    "duration": 0,
    "start_time": "2024-02-12T05:33:59.861Z"
   },
   {
    "duration": 0,
    "start_time": "2024-02-12T05:33:59.862Z"
   },
   {
    "duration": 0,
    "start_time": "2024-02-12T05:33:59.863Z"
   },
   {
    "duration": 0,
    "start_time": "2024-02-12T05:33:59.864Z"
   },
   {
    "duration": 0,
    "start_time": "2024-02-12T05:33:59.865Z"
   },
   {
    "duration": 0,
    "start_time": "2024-02-12T05:33:59.866Z"
   },
   {
    "duration": 0,
    "start_time": "2024-02-12T05:33:59.866Z"
   },
   {
    "duration": 0,
    "start_time": "2024-02-12T05:33:59.867Z"
   },
   {
    "duration": 0,
    "start_time": "2024-02-12T05:33:59.867Z"
   },
   {
    "duration": 8,
    "start_time": "2024-02-12T05:34:39.966Z"
   },
   {
    "duration": 604,
    "start_time": "2024-02-12T05:34:59.374Z"
   },
   {
    "duration": 8,
    "start_time": "2024-02-12T05:35:05.093Z"
   },
   {
    "duration": 21,
    "start_time": "2024-02-12T05:35:08.406Z"
   },
   {
    "duration": 648,
    "start_time": "2024-02-12T05:36:15.320Z"
   },
   {
    "duration": 9,
    "start_time": "2024-02-12T05:36:25.455Z"
   },
   {
    "duration": 10,
    "start_time": "2024-02-12T05:39:42.950Z"
   },
   {
    "duration": 9,
    "start_time": "2024-02-12T05:39:46.260Z"
   },
   {
    "duration": 11,
    "start_time": "2024-02-12T05:40:39.142Z"
   },
   {
    "duration": 10,
    "start_time": "2024-02-12T05:41:21.774Z"
   },
   {
    "duration": 11,
    "start_time": "2024-02-12T05:41:25.870Z"
   },
   {
    "duration": 7,
    "start_time": "2024-02-12T05:42:59.705Z"
   },
   {
    "duration": 1136,
    "start_time": "2024-02-12T05:43:30.889Z"
   },
   {
    "duration": 38,
    "start_time": "2024-02-12T05:43:32.027Z"
   },
   {
    "duration": 10,
    "start_time": "2024-02-12T05:43:32.067Z"
   },
   {
    "duration": 69,
    "start_time": "2024-02-12T05:43:32.079Z"
   },
   {
    "duration": 11,
    "start_time": "2024-02-12T05:43:32.150Z"
   },
   {
    "duration": 33,
    "start_time": "2024-02-12T05:43:32.162Z"
   },
   {
    "duration": 9,
    "start_time": "2024-02-12T05:43:32.196Z"
   },
   {
    "duration": 27,
    "start_time": "2024-02-12T05:43:32.206Z"
   },
   {
    "duration": 27,
    "start_time": "2024-02-12T05:43:32.234Z"
   },
   {
    "duration": 13,
    "start_time": "2024-02-12T05:43:32.263Z"
   },
   {
    "duration": 16,
    "start_time": "2024-02-12T05:43:32.277Z"
   },
   {
    "duration": 30,
    "start_time": "2024-02-12T05:43:32.295Z"
   },
   {
    "duration": 164,
    "start_time": "2024-02-12T05:43:32.326Z"
   },
   {
    "duration": 5,
    "start_time": "2024-02-12T05:43:32.493Z"
   },
   {
    "duration": 23,
    "start_time": "2024-02-12T05:43:32.500Z"
   },
   {
    "duration": 29,
    "start_time": "2024-02-12T05:43:32.525Z"
   },
   {
    "duration": 163,
    "start_time": "2024-02-12T05:43:32.555Z"
   },
   {
    "duration": 6,
    "start_time": "2024-02-12T05:43:32.719Z"
   },
   {
    "duration": 28,
    "start_time": "2024-02-12T05:43:32.726Z"
   },
   {
    "duration": 192,
    "start_time": "2024-02-12T05:43:32.756Z"
   },
   {
    "duration": 166,
    "start_time": "2024-02-12T05:43:32.950Z"
   },
   {
    "duration": 9,
    "start_time": "2024-02-12T05:43:33.118Z"
   },
   {
    "duration": 211,
    "start_time": "2024-02-12T05:43:33.128Z"
   },
   {
    "duration": 15,
    "start_time": "2024-02-12T05:43:33.341Z"
   },
   {
    "duration": 48,
    "start_time": "2024-02-12T05:43:33.358Z"
   },
   {
    "duration": 22,
    "start_time": "2024-02-12T05:43:33.408Z"
   },
   {
    "duration": 175,
    "start_time": "2024-02-12T05:43:33.432Z"
   },
   {
    "duration": 8,
    "start_time": "2024-02-12T05:43:33.609Z"
   },
   {
    "duration": 25,
    "start_time": "2024-02-12T05:43:33.618Z"
   },
   {
    "duration": 28,
    "start_time": "2024-02-12T05:43:33.644Z"
   },
   {
    "duration": 12,
    "start_time": "2024-02-12T05:43:33.673Z"
   },
   {
    "duration": 161,
    "start_time": "2024-02-12T05:43:33.686Z"
   },
   {
    "duration": 8,
    "start_time": "2024-02-12T05:43:33.849Z"
   },
   {
    "duration": 12,
    "start_time": "2024-02-12T05:43:33.859Z"
   },
   {
    "duration": 176,
    "start_time": "2024-02-12T05:43:33.872Z"
   },
   {
    "duration": 9,
    "start_time": "2024-02-12T05:43:34.050Z"
   },
   {
    "duration": 9,
    "start_time": "2024-02-12T05:43:34.061Z"
   },
   {
    "duration": 111,
    "start_time": "2024-02-12T05:43:34.072Z"
   },
   {
    "duration": 22,
    "start_time": "2024-02-12T05:43:34.184Z"
   },
   {
    "duration": 5,
    "start_time": "2024-02-12T05:43:34.215Z"
   },
   {
    "duration": 8,
    "start_time": "2024-02-12T05:43:34.224Z"
   },
   {
    "duration": 8,
    "start_time": "2024-02-12T05:43:34.233Z"
   },
   {
    "duration": 7,
    "start_time": "2024-02-12T05:43:34.242Z"
   },
   {
    "duration": 5,
    "start_time": "2024-02-12T05:43:34.250Z"
   },
   {
    "duration": 5,
    "start_time": "2024-02-12T05:43:34.257Z"
   },
   {
    "duration": 1885,
    "start_time": "2024-02-12T05:43:34.263Z"
   },
   {
    "duration": 5,
    "start_time": "2024-02-12T05:43:36.150Z"
   },
   {
    "duration": 6,
    "start_time": "2024-02-12T05:43:36.156Z"
   },
   {
    "duration": 5,
    "start_time": "2024-02-12T05:43:36.163Z"
   },
   {
    "duration": 8,
    "start_time": "2024-02-12T05:43:36.169Z"
   },
   {
    "duration": 3,
    "start_time": "2024-02-12T05:43:36.178Z"
   },
   {
    "duration": 155,
    "start_time": "2024-02-12T05:43:36.183Z"
   },
   {
    "duration": 24,
    "start_time": "2024-02-12T05:55:36.353Z"
   },
   {
    "duration": 1075,
    "start_time": "2024-02-12T05:55:43.077Z"
   },
   {
    "duration": 39,
    "start_time": "2024-02-12T05:55:44.153Z"
   },
   {
    "duration": 11,
    "start_time": "2024-02-12T05:55:44.194Z"
   },
   {
    "duration": 35,
    "start_time": "2024-02-12T05:55:44.207Z"
   },
   {
    "duration": 11,
    "start_time": "2024-02-12T05:55:44.244Z"
   },
   {
    "duration": 22,
    "start_time": "2024-02-12T05:55:44.257Z"
   },
   {
    "duration": 10,
    "start_time": "2024-02-12T05:55:44.281Z"
   },
   {
    "duration": 13,
    "start_time": "2024-02-12T05:55:44.292Z"
   },
   {
    "duration": 14,
    "start_time": "2024-02-12T05:55:44.307Z"
   },
   {
    "duration": 5,
    "start_time": "2024-02-12T05:55:44.323Z"
   },
   {
    "duration": 5,
    "start_time": "2024-02-12T05:55:44.330Z"
   },
   {
    "duration": 8,
    "start_time": "2024-02-12T05:55:44.336Z"
   },
   {
    "duration": 187,
    "start_time": "2024-02-12T05:55:44.345Z"
   },
   {
    "duration": 5,
    "start_time": "2024-02-12T05:55:44.534Z"
   },
   {
    "duration": 14,
    "start_time": "2024-02-12T05:55:44.540Z"
   },
   {
    "duration": 7,
    "start_time": "2024-02-12T05:55:44.556Z"
   },
   {
    "duration": 172,
    "start_time": "2024-02-12T05:55:44.564Z"
   },
   {
    "duration": 6,
    "start_time": "2024-02-12T05:55:44.737Z"
   },
   {
    "duration": 12,
    "start_time": "2024-02-12T05:55:44.745Z"
   },
   {
    "duration": 217,
    "start_time": "2024-02-12T05:55:44.758Z"
   },
   {
    "duration": 168,
    "start_time": "2024-02-12T05:55:44.976Z"
   },
   {
    "duration": 8,
    "start_time": "2024-02-12T05:55:45.146Z"
   },
   {
    "duration": 191,
    "start_time": "2024-02-12T05:55:45.155Z"
   },
   {
    "duration": 15,
    "start_time": "2024-02-12T05:55:45.348Z"
   },
   {
    "duration": 5,
    "start_time": "2024-02-12T05:55:45.365Z"
   },
   {
    "duration": 8,
    "start_time": "2024-02-12T05:55:45.372Z"
   },
   {
    "duration": 189,
    "start_time": "2024-02-12T05:55:45.382Z"
   },
   {
    "duration": 8,
    "start_time": "2024-02-12T05:55:45.575Z"
   },
   {
    "duration": 35,
    "start_time": "2024-02-12T05:55:45.585Z"
   },
   {
    "duration": 24,
    "start_time": "2024-02-12T05:55:45.621Z"
   },
   {
    "duration": 15,
    "start_time": "2024-02-12T05:55:45.647Z"
   },
   {
    "duration": 205,
    "start_time": "2024-02-12T05:55:45.664Z"
   },
   {
    "duration": 8,
    "start_time": "2024-02-12T05:55:45.870Z"
   },
   {
    "duration": 7,
    "start_time": "2024-02-12T05:55:45.880Z"
   },
   {
    "duration": 173,
    "start_time": "2024-02-12T05:55:45.889Z"
   },
   {
    "duration": 8,
    "start_time": "2024-02-12T05:55:46.063Z"
   },
   {
    "duration": 8,
    "start_time": "2024-02-12T05:55:46.072Z"
   },
   {
    "duration": 106,
    "start_time": "2024-02-12T05:55:46.082Z"
   },
   {
    "duration": 30,
    "start_time": "2024-02-12T05:55:46.190Z"
   },
   {
    "duration": 5,
    "start_time": "2024-02-12T05:55:46.222Z"
   },
   {
    "duration": 9,
    "start_time": "2024-02-12T05:55:46.229Z"
   },
   {
    "duration": 8,
    "start_time": "2024-02-12T05:55:46.239Z"
   },
   {
    "duration": 7,
    "start_time": "2024-02-12T05:55:46.249Z"
   },
   {
    "duration": 5,
    "start_time": "2024-02-12T05:55:46.258Z"
   },
   {
    "duration": 50,
    "start_time": "2024-02-12T05:55:46.264Z"
   },
   {
    "duration": 1800,
    "start_time": "2024-02-12T05:55:46.316Z"
   },
   {
    "duration": 4,
    "start_time": "2024-02-12T05:55:48.118Z"
   },
   {
    "duration": 15,
    "start_time": "2024-02-12T05:55:48.124Z"
   },
   {
    "duration": 7,
    "start_time": "2024-02-12T05:55:48.141Z"
   },
   {
    "duration": 6,
    "start_time": "2024-02-12T05:55:48.150Z"
   },
   {
    "duration": 7,
    "start_time": "2024-02-12T05:55:48.157Z"
   },
   {
    "duration": 157,
    "start_time": "2024-02-12T05:55:48.166Z"
   },
   {
    "duration": 25,
    "start_time": "2024-02-12T05:56:52.382Z"
   },
   {
    "duration": 1109,
    "start_time": "2024-02-12T05:56:57.954Z"
   },
   {
    "duration": 39,
    "start_time": "2024-02-12T05:56:59.065Z"
   },
   {
    "duration": 10,
    "start_time": "2024-02-12T05:56:59.108Z"
   },
   {
    "duration": 38,
    "start_time": "2024-02-12T05:56:59.120Z"
   },
   {
    "duration": 11,
    "start_time": "2024-02-12T05:56:59.159Z"
   },
   {
    "duration": 20,
    "start_time": "2024-02-12T05:56:59.172Z"
   },
   {
    "duration": 8,
    "start_time": "2024-02-12T05:56:59.194Z"
   },
   {
    "duration": 16,
    "start_time": "2024-02-12T05:56:59.204Z"
   },
   {
    "duration": 8,
    "start_time": "2024-02-12T05:56:59.223Z"
   },
   {
    "duration": 14,
    "start_time": "2024-02-12T05:56:59.232Z"
   },
   {
    "duration": 7,
    "start_time": "2024-02-12T05:56:59.247Z"
   },
   {
    "duration": 7,
    "start_time": "2024-02-12T05:56:59.256Z"
   },
   {
    "duration": 163,
    "start_time": "2024-02-12T05:56:59.265Z"
   },
   {
    "duration": 5,
    "start_time": "2024-02-12T05:56:59.430Z"
   },
   {
    "duration": 16,
    "start_time": "2024-02-12T05:56:59.437Z"
   },
   {
    "duration": 8,
    "start_time": "2024-02-12T05:56:59.455Z"
   },
   {
    "duration": 177,
    "start_time": "2024-02-12T05:56:59.465Z"
   },
   {
    "duration": 5,
    "start_time": "2024-02-12T05:56:59.644Z"
   },
   {
    "duration": 10,
    "start_time": "2024-02-12T05:56:59.651Z"
   },
   {
    "duration": 205,
    "start_time": "2024-02-12T05:56:59.662Z"
   },
   {
    "duration": 164,
    "start_time": "2024-02-12T05:56:59.868Z"
   },
   {
    "duration": 8,
    "start_time": "2024-02-12T05:57:00.034Z"
   },
   {
    "duration": 188,
    "start_time": "2024-02-12T05:57:00.044Z"
   },
   {
    "duration": 15,
    "start_time": "2024-02-12T05:57:00.234Z"
   },
   {
    "duration": 35,
    "start_time": "2024-02-12T05:57:00.251Z"
   },
   {
    "duration": 30,
    "start_time": "2024-02-12T05:57:00.288Z"
   },
   {
    "duration": 186,
    "start_time": "2024-02-12T05:57:00.322Z"
   },
   {
    "duration": 11,
    "start_time": "2024-02-12T05:57:00.509Z"
   },
   {
    "duration": 51,
    "start_time": "2024-02-12T05:57:00.522Z"
   },
   {
    "duration": 42,
    "start_time": "2024-02-12T05:57:00.574Z"
   },
   {
    "duration": 28,
    "start_time": "2024-02-12T05:57:00.617Z"
   },
   {
    "duration": 204,
    "start_time": "2024-02-12T05:57:00.647Z"
   },
   {
    "duration": 8,
    "start_time": "2024-02-12T05:57:00.853Z"
   },
   {
    "duration": 41,
    "start_time": "2024-02-12T05:57:00.863Z"
   },
   {
    "duration": 204,
    "start_time": "2024-02-12T05:57:00.905Z"
   },
   {
    "duration": 8,
    "start_time": "2024-02-12T05:57:01.110Z"
   },
   {
    "duration": 42,
    "start_time": "2024-02-12T05:57:01.120Z"
   },
   {
    "duration": 117,
    "start_time": "2024-02-12T05:57:01.164Z"
   },
   {
    "duration": 23,
    "start_time": "2024-02-12T05:57:01.283Z"
   },
   {
    "duration": 23,
    "start_time": "2024-02-12T05:57:01.307Z"
   },
   {
    "duration": 21,
    "start_time": "2024-02-12T05:57:01.331Z"
   },
   {
    "duration": 28,
    "start_time": "2024-02-12T05:57:01.354Z"
   },
   {
    "duration": 39,
    "start_time": "2024-02-12T05:57:01.383Z"
   },
   {
    "duration": 22,
    "start_time": "2024-02-12T05:57:01.423Z"
   },
   {
    "duration": 19,
    "start_time": "2024-02-12T05:57:01.447Z"
   },
   {
    "duration": 1850,
    "start_time": "2024-02-12T05:57:01.468Z"
   },
   {
    "duration": 5,
    "start_time": "2024-02-12T05:57:03.320Z"
   },
   {
    "duration": 10,
    "start_time": "2024-02-12T05:57:03.326Z"
   },
   {
    "duration": 9,
    "start_time": "2024-02-12T05:57:03.337Z"
   },
   {
    "duration": 8,
    "start_time": "2024-02-12T05:57:03.347Z"
   },
   {
    "duration": 5,
    "start_time": "2024-02-12T05:57:03.356Z"
   },
   {
    "duration": 144,
    "start_time": "2024-02-12T05:57:03.363Z"
   },
   {
    "duration": 26,
    "start_time": "2024-02-12T05:57:54.676Z"
   },
   {
    "duration": 77,
    "start_time": "2024-02-12T05:58:16.674Z"
   },
   {
    "duration": 36,
    "start_time": "2024-02-12T05:58:36.002Z"
   },
   {
    "duration": 24,
    "start_time": "2024-02-12T05:58:45.939Z"
   },
   {
    "duration": 25,
    "start_time": "2024-02-12T05:58:52.185Z"
   },
   {
    "duration": 22,
    "start_time": "2024-02-12T05:59:26.539Z"
   },
   {
    "duration": 22,
    "start_time": "2024-02-12T06:00:58.668Z"
   },
   {
    "duration": 24,
    "start_time": "2024-02-12T06:01:07.410Z"
   },
   {
    "duration": 30,
    "start_time": "2024-02-12T06:01:19.425Z"
   },
   {
    "duration": 5,
    "start_time": "2024-02-12T06:43:33.568Z"
   },
   {
    "duration": 1180,
    "start_time": "2024-02-12T06:45:49.000Z"
   },
   {
    "duration": 35,
    "start_time": "2024-02-12T06:45:50.183Z"
   },
   {
    "duration": 11,
    "start_time": "2024-02-12T06:45:50.220Z"
   },
   {
    "duration": 33,
    "start_time": "2024-02-12T06:45:50.232Z"
   },
   {
    "duration": 11,
    "start_time": "2024-02-12T06:45:50.267Z"
   },
   {
    "duration": 19,
    "start_time": "2024-02-12T06:45:50.279Z"
   },
   {
    "duration": 18,
    "start_time": "2024-02-12T06:45:50.299Z"
   },
   {
    "duration": 11,
    "start_time": "2024-02-12T06:45:50.319Z"
   },
   {
    "duration": 9,
    "start_time": "2024-02-12T06:45:50.331Z"
   },
   {
    "duration": 4,
    "start_time": "2024-02-12T06:45:50.341Z"
   },
   {
    "duration": 6,
    "start_time": "2024-02-12T06:45:50.347Z"
   },
   {
    "duration": 15,
    "start_time": "2024-02-12T06:45:50.354Z"
   },
   {
    "duration": 176,
    "start_time": "2024-02-12T06:45:50.371Z"
   },
   {
    "duration": 5,
    "start_time": "2024-02-12T06:45:50.550Z"
   },
   {
    "duration": 8,
    "start_time": "2024-02-12T06:45:50.556Z"
   },
   {
    "duration": 11,
    "start_time": "2024-02-12T06:45:50.566Z"
   },
   {
    "duration": 176,
    "start_time": "2024-02-12T06:45:50.578Z"
   },
   {
    "duration": 5,
    "start_time": "2024-02-12T06:45:50.756Z"
   },
   {
    "duration": 22,
    "start_time": "2024-02-12T06:45:50.762Z"
   },
   {
    "duration": 193,
    "start_time": "2024-02-12T06:45:50.785Z"
   },
   {
    "duration": 158,
    "start_time": "2024-02-12T06:45:50.980Z"
   },
   {
    "duration": 8,
    "start_time": "2024-02-12T06:45:51.140Z"
   },
   {
    "duration": 188,
    "start_time": "2024-02-12T06:45:51.149Z"
   },
   {
    "duration": 16,
    "start_time": "2024-02-12T06:45:51.339Z"
   },
   {
    "duration": 8,
    "start_time": "2024-02-12T06:45:51.357Z"
   },
   {
    "duration": 11,
    "start_time": "2024-02-12T06:45:51.366Z"
   },
   {
    "duration": 200,
    "start_time": "2024-02-12T06:45:51.379Z"
   },
   {
    "duration": 8,
    "start_time": "2024-02-12T06:45:51.581Z"
   },
   {
    "duration": 37,
    "start_time": "2024-02-12T06:45:51.590Z"
   },
   {
    "duration": 22,
    "start_time": "2024-02-12T06:45:51.629Z"
   },
   {
    "duration": 11,
    "start_time": "2024-02-12T06:45:51.652Z"
   },
   {
    "duration": 172,
    "start_time": "2024-02-12T06:45:51.665Z"
   },
   {
    "duration": 8,
    "start_time": "2024-02-12T06:45:51.838Z"
   },
   {
    "duration": 7,
    "start_time": "2024-02-12T06:45:51.848Z"
   },
   {
    "duration": 190,
    "start_time": "2024-02-12T06:45:51.856Z"
   },
   {
    "duration": 8,
    "start_time": "2024-02-12T06:45:52.047Z"
   },
   {
    "duration": 8,
    "start_time": "2024-02-12T06:45:52.056Z"
   },
   {
    "duration": 108,
    "start_time": "2024-02-12T06:45:52.065Z"
   },
   {
    "duration": 23,
    "start_time": "2024-02-12T06:45:52.175Z"
   },
   {
    "duration": 18,
    "start_time": "2024-02-12T06:45:52.199Z"
   },
   {
    "duration": 7,
    "start_time": "2024-02-12T06:45:52.220Z"
   },
   {
    "duration": 4,
    "start_time": "2024-02-12T06:45:52.229Z"
   },
   {
    "duration": 6,
    "start_time": "2024-02-12T06:45:52.234Z"
   },
   {
    "duration": 1837,
    "start_time": "2024-02-12T06:45:52.241Z"
   },
   {
    "duration": 4,
    "start_time": "2024-02-12T06:45:54.080Z"
   },
   {
    "duration": 12,
    "start_time": "2024-02-12T06:45:54.085Z"
   },
   {
    "duration": 17,
    "start_time": "2024-02-12T06:45:54.098Z"
   },
   {
    "duration": 6,
    "start_time": "2024-02-12T06:45:54.117Z"
   },
   {
    "duration": 11,
    "start_time": "2024-02-12T06:45:54.124Z"
   },
   {
    "duration": 166,
    "start_time": "2024-02-12T06:45:54.137Z"
   },
   {
    "duration": 5,
    "start_time": "2024-02-12T06:46:22.129Z"
   },
   {
    "duration": 411,
    "start_time": "2024-02-12T07:05:54.426Z"
   },
   {
    "duration": 1780,
    "start_time": "2024-02-12T07:06:31.008Z"
   },
   {
    "duration": 1638,
    "start_time": "2024-02-12T07:07:59.857Z"
   },
   {
    "duration": 5,
    "start_time": "2024-02-12T07:08:33.743Z"
   },
   {
    "duration": 7,
    "start_time": "2024-02-12T07:09:17.425Z"
   },
   {
    "duration": 6,
    "start_time": "2024-02-12T07:11:57.033Z"
   },
   {
    "duration": 8,
    "start_time": "2024-02-12T07:12:02.824Z"
   },
   {
    "duration": 17,
    "start_time": "2024-02-12T07:17:04.877Z"
   },
   {
    "duration": 1062,
    "start_time": "2024-02-12T07:17:24.922Z"
   },
   {
    "duration": 39,
    "start_time": "2024-02-12T07:17:25.986Z"
   },
   {
    "duration": 11,
    "start_time": "2024-02-12T07:17:26.027Z"
   },
   {
    "duration": 51,
    "start_time": "2024-02-12T07:17:26.039Z"
   },
   {
    "duration": 13,
    "start_time": "2024-02-12T07:17:26.093Z"
   },
   {
    "duration": 19,
    "start_time": "2024-02-12T07:17:26.107Z"
   },
   {
    "duration": 10,
    "start_time": "2024-02-12T07:17:26.127Z"
   },
   {
    "duration": 16,
    "start_time": "2024-02-12T07:17:26.139Z"
   },
   {
    "duration": 8,
    "start_time": "2024-02-12T07:17:26.157Z"
   },
   {
    "duration": 6,
    "start_time": "2024-02-12T07:17:26.166Z"
   },
   {
    "duration": 10,
    "start_time": "2024-02-12T07:17:26.173Z"
   },
   {
    "duration": 18,
    "start_time": "2024-02-12T07:17:26.185Z"
   },
   {
    "duration": 151,
    "start_time": "2024-02-12T07:17:26.215Z"
   },
   {
    "duration": 6,
    "start_time": "2024-02-12T07:17:26.368Z"
   },
   {
    "duration": 9,
    "start_time": "2024-02-12T07:17:26.375Z"
   },
   {
    "duration": 21,
    "start_time": "2024-02-12T07:17:26.386Z"
   },
   {
    "duration": 158,
    "start_time": "2024-02-12T07:17:26.408Z"
   },
   {
    "duration": 5,
    "start_time": "2024-02-12T07:17:26.568Z"
   },
   {
    "duration": 9,
    "start_time": "2024-02-12T07:17:26.574Z"
   },
   {
    "duration": 192,
    "start_time": "2024-02-12T07:17:26.585Z"
   },
   {
    "duration": 172,
    "start_time": "2024-02-12T07:17:26.779Z"
   },
   {
    "duration": 9,
    "start_time": "2024-02-12T07:17:26.952Z"
   },
   {
    "duration": 187,
    "start_time": "2024-02-12T07:17:26.962Z"
   },
   {
    "duration": 14,
    "start_time": "2024-02-12T07:17:27.150Z"
   },
   {
    "duration": 5,
    "start_time": "2024-02-12T07:17:27.166Z"
   },
   {
    "duration": 7,
    "start_time": "2024-02-12T07:17:27.173Z"
   },
   {
    "duration": 188,
    "start_time": "2024-02-12T07:17:27.182Z"
   },
   {
    "duration": 8,
    "start_time": "2024-02-12T07:17:27.372Z"
   },
   {
    "duration": 39,
    "start_time": "2024-02-12T07:17:27.382Z"
   },
   {
    "duration": 26,
    "start_time": "2024-02-12T07:17:27.423Z"
   },
   {
    "duration": 11,
    "start_time": "2024-02-12T07:17:27.450Z"
   },
   {
    "duration": 170,
    "start_time": "2024-02-12T07:17:27.463Z"
   },
   {
    "duration": 8,
    "start_time": "2024-02-12T07:17:27.634Z"
   },
   {
    "duration": 8,
    "start_time": "2024-02-12T07:17:27.643Z"
   },
   {
    "duration": 176,
    "start_time": "2024-02-12T07:17:27.652Z"
   },
   {
    "duration": 8,
    "start_time": "2024-02-12T07:17:27.830Z"
   },
   {
    "duration": 6,
    "start_time": "2024-02-12T07:17:27.840Z"
   },
   {
    "duration": 106,
    "start_time": "2024-02-12T07:17:27.848Z"
   },
   {
    "duration": 21,
    "start_time": "2024-02-12T07:17:27.956Z"
   },
   {
    "duration": 5,
    "start_time": "2024-02-12T07:17:27.979Z"
   },
   {
    "duration": 28,
    "start_time": "2024-02-12T07:17:27.988Z"
   },
   {
    "duration": 5,
    "start_time": "2024-02-12T07:17:28.018Z"
   },
   {
    "duration": 6,
    "start_time": "2024-02-12T07:17:28.024Z"
   },
   {
    "duration": 1553,
    "start_time": "2024-02-12T07:17:28.032Z"
   },
   {
    "duration": 4,
    "start_time": "2024-02-12T07:17:29.587Z"
   },
   {
    "duration": 8,
    "start_time": "2024-02-12T07:17:29.593Z"
   },
   {
    "duration": 24,
    "start_time": "2024-02-12T07:17:29.602Z"
   },
   {
    "duration": 5,
    "start_time": "2024-02-12T07:17:29.628Z"
   },
   {
    "duration": 5,
    "start_time": "2024-02-12T07:17:29.635Z"
   },
   {
    "duration": 7,
    "start_time": "2024-02-12T07:17:29.641Z"
   },
   {
    "duration": 159,
    "start_time": "2024-02-12T07:17:29.649Z"
   },
   {
    "duration": 16,
    "start_time": "2024-02-12T07:18:31.920Z"
   },
   {
    "duration": 14,
    "start_time": "2024-02-12T07:19:43.035Z"
   },
   {
    "duration": 33,
    "start_time": "2024-02-12T07:19:50.771Z"
   },
   {
    "duration": 7,
    "start_time": "2024-02-12T07:30:34.258Z"
   },
   {
    "duration": 127,
    "start_time": "2024-02-12T07:33:02.501Z"
   },
   {
    "duration": 207,
    "start_time": "2024-02-12T07:33:14.550Z"
   },
   {
    "duration": 9,
    "start_time": "2024-02-12T07:33:35.609Z"
   },
   {
    "duration": 158,
    "start_time": "2024-02-12T07:33:56.621Z"
   },
   {
    "duration": 6,
    "start_time": "2024-02-12T07:53:49.069Z"
   },
   {
    "duration": 109,
    "start_time": "2024-02-12T08:02:24.669Z"
   },
   {
    "duration": 125,
    "start_time": "2024-02-12T08:02:41.583Z"
   },
   {
    "duration": 100,
    "start_time": "2024-02-12T08:11:45.829Z"
   },
   {
    "duration": 128,
    "start_time": "2024-02-12T08:11:55.932Z"
   },
   {
    "duration": 135,
    "start_time": "2024-02-12T08:12:22.492Z"
   },
   {
    "duration": 76,
    "start_time": "2024-02-12T08:12:42.745Z"
   },
   {
    "duration": 138,
    "start_time": "2024-02-12T08:12:50.210Z"
   },
   {
    "duration": 172,
    "start_time": "2024-02-12T08:13:32.912Z"
   },
   {
    "duration": 180,
    "start_time": "2024-02-12T08:14:15.342Z"
   },
   {
    "duration": 84,
    "start_time": "2024-02-12T08:14:48.329Z"
   },
   {
    "duration": 318,
    "start_time": "2024-02-12T08:15:08.682Z"
   },
   {
    "duration": 171,
    "start_time": "2024-02-12T08:15:16.227Z"
   },
   {
    "duration": 175,
    "start_time": "2024-02-12T08:15:33.379Z"
   },
   {
    "duration": 176,
    "start_time": "2024-02-12T08:16:20.305Z"
   },
   {
    "duration": 173,
    "start_time": "2024-02-12T08:16:25.276Z"
   },
   {
    "duration": 1183,
    "start_time": "2024-02-12T13:41:12.192Z"
   },
   {
    "duration": 87,
    "start_time": "2024-02-12T13:41:13.377Z"
   },
   {
    "duration": 12,
    "start_time": "2024-02-12T13:41:13.465Z"
   },
   {
    "duration": 81,
    "start_time": "2024-02-12T13:41:13.480Z"
   },
   {
    "duration": 12,
    "start_time": "2024-02-12T13:41:13.563Z"
   },
   {
    "duration": 58,
    "start_time": "2024-02-12T13:41:13.576Z"
   },
   {
    "duration": 10,
    "start_time": "2024-02-12T13:41:13.636Z"
   },
   {
    "duration": 19,
    "start_time": "2024-02-12T13:41:13.648Z"
   },
   {
    "duration": 9,
    "start_time": "2024-02-12T13:41:13.668Z"
   },
   {
    "duration": 6,
    "start_time": "2024-02-12T13:41:13.679Z"
   },
   {
    "duration": 6,
    "start_time": "2024-02-12T13:41:13.687Z"
   },
   {
    "duration": 11,
    "start_time": "2024-02-12T13:41:13.694Z"
   },
   {
    "duration": 182,
    "start_time": "2024-02-12T13:41:13.706Z"
   },
   {
    "duration": 6,
    "start_time": "2024-02-12T13:41:13.890Z"
   },
   {
    "duration": 9,
    "start_time": "2024-02-12T13:41:13.897Z"
   },
   {
    "duration": 9,
    "start_time": "2024-02-12T13:41:13.907Z"
   },
   {
    "duration": 193,
    "start_time": "2024-02-12T13:41:13.917Z"
   },
   {
    "duration": 6,
    "start_time": "2024-02-12T13:41:14.112Z"
   },
   {
    "duration": 11,
    "start_time": "2024-02-12T13:41:14.119Z"
   },
   {
    "duration": 218,
    "start_time": "2024-02-12T13:41:14.131Z"
   },
   {
    "duration": 200,
    "start_time": "2024-02-12T13:41:14.351Z"
   },
   {
    "duration": 14,
    "start_time": "2024-02-12T13:41:14.552Z"
   },
   {
    "duration": 213,
    "start_time": "2024-02-12T13:41:14.567Z"
   },
   {
    "duration": 18,
    "start_time": "2024-02-12T13:41:14.781Z"
   },
   {
    "duration": 7,
    "start_time": "2024-02-12T13:41:14.800Z"
   },
   {
    "duration": 14,
    "start_time": "2024-02-12T13:41:14.809Z"
   },
   {
    "duration": 206,
    "start_time": "2024-02-12T13:41:14.825Z"
   },
   {
    "duration": 9,
    "start_time": "2024-02-12T13:41:15.035Z"
   },
   {
    "duration": 39,
    "start_time": "2024-02-12T13:41:15.045Z"
   },
   {
    "duration": 27,
    "start_time": "2024-02-12T13:41:15.086Z"
   },
   {
    "duration": 13,
    "start_time": "2024-02-12T13:41:15.114Z"
   },
   {
    "duration": 196,
    "start_time": "2024-02-12T13:41:15.129Z"
   },
   {
    "duration": 10,
    "start_time": "2024-02-12T13:41:15.326Z"
   },
   {
    "duration": 25,
    "start_time": "2024-02-12T13:41:15.337Z"
   },
   {
    "duration": 183,
    "start_time": "2024-02-12T13:41:15.364Z"
   },
   {
    "duration": 12,
    "start_time": "2024-02-12T13:41:15.549Z"
   },
   {
    "duration": 11,
    "start_time": "2024-02-12T13:41:15.563Z"
   },
   {
    "duration": 131,
    "start_time": "2024-02-12T13:41:15.575Z"
   },
   {
    "duration": 26,
    "start_time": "2024-02-12T13:41:15.708Z"
   },
   {
    "duration": 6,
    "start_time": "2024-02-12T13:41:15.735Z"
   },
   {
    "duration": 10,
    "start_time": "2024-02-12T13:41:15.759Z"
   },
   {
    "duration": 6,
    "start_time": "2024-02-12T13:41:15.771Z"
   },
   {
    "duration": 7,
    "start_time": "2024-02-12T13:41:15.779Z"
   },
   {
    "duration": 1740,
    "start_time": "2024-02-12T13:41:15.788Z"
   },
   {
    "duration": 4,
    "start_time": "2024-02-12T13:41:17.530Z"
   },
   {
    "duration": 22,
    "start_time": "2024-02-12T13:41:17.536Z"
   },
   {
    "duration": 28,
    "start_time": "2024-02-12T13:41:17.560Z"
   },
   {
    "duration": 5,
    "start_time": "2024-02-12T13:41:17.590Z"
   },
   {
    "duration": 7,
    "start_time": "2024-02-12T13:41:17.597Z"
   },
   {
    "duration": 226,
    "start_time": "2024-02-12T13:41:17.606Z"
   },
   {
    "duration": 6,
    "start_time": "2024-02-12T13:41:17.834Z"
   },
   {
    "duration": 5,
    "start_time": "2024-02-12T13:50:45.269Z"
   },
   {
    "duration": 5,
    "start_time": "2024-02-12T13:50:50.346Z"
   },
   {
    "duration": 1187,
    "start_time": "2024-02-12T13:55:11.853Z"
   },
   {
    "duration": 39,
    "start_time": "2024-02-12T13:55:13.042Z"
   },
   {
    "duration": 11,
    "start_time": "2024-02-12T13:55:13.083Z"
   },
   {
    "duration": 45,
    "start_time": "2024-02-12T13:55:13.096Z"
   },
   {
    "duration": 12,
    "start_time": "2024-02-12T13:55:13.143Z"
   },
   {
    "duration": 26,
    "start_time": "2024-02-12T13:55:13.157Z"
   },
   {
    "duration": 10,
    "start_time": "2024-02-12T13:55:13.185Z"
   },
   {
    "duration": 13,
    "start_time": "2024-02-12T13:55:13.196Z"
   },
   {
    "duration": 9,
    "start_time": "2024-02-12T13:55:13.211Z"
   },
   {
    "duration": 5,
    "start_time": "2024-02-12T13:55:13.222Z"
   },
   {
    "duration": 30,
    "start_time": "2024-02-12T13:55:13.229Z"
   },
   {
    "duration": 8,
    "start_time": "2024-02-12T13:55:13.261Z"
   },
   {
    "duration": 172,
    "start_time": "2024-02-12T13:55:13.271Z"
   },
   {
    "duration": 12,
    "start_time": "2024-02-12T13:55:13.447Z"
   },
   {
    "duration": 14,
    "start_time": "2024-02-12T13:55:13.461Z"
   },
   {
    "duration": 7,
    "start_time": "2024-02-12T13:55:13.477Z"
   },
   {
    "duration": 199,
    "start_time": "2024-02-12T13:55:13.486Z"
   },
   {
    "duration": 6,
    "start_time": "2024-02-12T13:55:13.687Z"
   },
   {
    "duration": 21,
    "start_time": "2024-02-12T13:55:13.694Z"
   },
   {
    "duration": 212,
    "start_time": "2024-02-12T13:55:13.717Z"
   },
   {
    "duration": 185,
    "start_time": "2024-02-12T13:55:13.931Z"
   },
   {
    "duration": 9,
    "start_time": "2024-02-12T13:55:14.118Z"
   },
   {
    "duration": 204,
    "start_time": "2024-02-12T13:55:14.128Z"
   },
   {
    "duration": 30,
    "start_time": "2024-02-12T13:55:14.334Z"
   },
   {
    "duration": 9,
    "start_time": "2024-02-12T13:55:14.367Z"
   },
   {
    "duration": 11,
    "start_time": "2024-02-12T13:55:14.378Z"
   },
   {
    "duration": 197,
    "start_time": "2024-02-12T13:55:14.391Z"
   },
   {
    "duration": 9,
    "start_time": "2024-02-12T13:55:14.590Z"
   },
   {
    "duration": 35,
    "start_time": "2024-02-12T13:55:14.600Z"
   },
   {
    "duration": 47,
    "start_time": "2024-02-12T13:55:14.637Z"
   },
   {
    "duration": 14,
    "start_time": "2024-02-12T13:55:14.686Z"
   },
   {
    "duration": 197,
    "start_time": "2024-02-12T13:55:14.701Z"
   },
   {
    "duration": 9,
    "start_time": "2024-02-12T13:55:14.900Z"
   },
   {
    "duration": 13,
    "start_time": "2024-02-12T13:55:14.911Z"
   },
   {
    "duration": 232,
    "start_time": "2024-02-12T13:55:14.926Z"
   },
   {
    "duration": 11,
    "start_time": "2024-02-12T13:55:15.160Z"
   },
   {
    "duration": 19,
    "start_time": "2024-02-12T13:55:15.173Z"
   },
   {
    "duration": 111,
    "start_time": "2024-02-12T13:55:15.194Z"
   },
   {
    "duration": 26,
    "start_time": "2024-02-12T13:55:15.307Z"
   },
   {
    "duration": 23,
    "start_time": "2024-02-12T13:55:15.335Z"
   },
   {
    "duration": 9,
    "start_time": "2024-02-12T13:55:15.362Z"
   },
   {
    "duration": 16,
    "start_time": "2024-02-12T13:55:15.373Z"
   },
   {
    "duration": 7,
    "start_time": "2024-02-12T13:55:15.390Z"
   },
   {
    "duration": 1771,
    "start_time": "2024-02-12T13:55:15.399Z"
   },
   {
    "duration": 6,
    "start_time": "2024-02-12T13:55:17.171Z"
   },
   {
    "duration": 15,
    "start_time": "2024-02-12T13:55:17.178Z"
   },
   {
    "duration": 28,
    "start_time": "2024-02-12T13:55:17.195Z"
   },
   {
    "duration": 5,
    "start_time": "2024-02-12T13:55:17.225Z"
   },
   {
    "duration": 3,
    "start_time": "2024-02-12T13:55:17.259Z"
   },
   {
    "duration": 216,
    "start_time": "2024-02-12T13:55:17.264Z"
   },
   {
    "duration": 6,
    "start_time": "2024-02-12T13:55:17.482Z"
   },
   {
    "duration": 46,
    "start_time": "2024-02-12T16:15:11.323Z"
   },
   {
    "duration": 1215,
    "start_time": "2024-02-12T16:15:18.944Z"
   },
   {
    "duration": 97,
    "start_time": "2024-02-12T16:15:20.161Z"
   },
   {
    "duration": 11,
    "start_time": "2024-02-12T16:15:20.259Z"
   },
   {
    "duration": 171,
    "start_time": "2024-02-12T16:15:20.272Z"
   },
   {
    "duration": 10,
    "start_time": "2024-02-12T16:15:20.445Z"
   },
   {
    "duration": 68,
    "start_time": "2024-02-12T16:15:20.456Z"
   },
   {
    "duration": 9,
    "start_time": "2024-02-12T16:15:20.526Z"
   },
   {
    "duration": 13,
    "start_time": "2024-02-12T16:15:20.537Z"
   },
   {
    "duration": 4,
    "start_time": "2024-02-12T16:15:20.551Z"
   },
   {
    "duration": 28,
    "start_time": "2024-02-12T16:15:20.558Z"
   },
   {
    "duration": 10,
    "start_time": "2024-02-12T16:15:20.587Z"
   },
   {
    "duration": 13,
    "start_time": "2024-02-12T16:15:20.598Z"
   },
   {
    "duration": 8,
    "start_time": "2024-02-12T16:15:20.612Z"
   },
   {
    "duration": 155,
    "start_time": "2024-02-12T16:15:20.621Z"
   },
   {
    "duration": 5,
    "start_time": "2024-02-12T16:15:20.777Z"
   },
   {
    "duration": 6,
    "start_time": "2024-02-12T16:15:20.794Z"
   },
   {
    "duration": 9,
    "start_time": "2024-02-12T16:15:20.802Z"
   },
   {
    "duration": 166,
    "start_time": "2024-02-12T16:15:20.812Z"
   },
   {
    "duration": 5,
    "start_time": "2024-02-12T16:15:20.980Z"
   },
   {
    "duration": 18,
    "start_time": "2024-02-12T16:15:20.994Z"
   },
   {
    "duration": 182,
    "start_time": "2024-02-12T16:15:21.014Z"
   },
   {
    "duration": 163,
    "start_time": "2024-02-12T16:15:21.197Z"
   },
   {
    "duration": 9,
    "start_time": "2024-02-12T16:15:21.361Z"
   },
   {
    "duration": 188,
    "start_time": "2024-02-12T16:15:21.372Z"
   },
   {
    "duration": 16,
    "start_time": "2024-02-12T16:15:21.562Z"
   },
   {
    "duration": 20,
    "start_time": "2024-02-12T16:15:21.580Z"
   },
   {
    "duration": 15,
    "start_time": "2024-02-12T16:15:21.602Z"
   },
   {
    "duration": 186,
    "start_time": "2024-02-12T16:15:21.620Z"
   },
   {
    "duration": 9,
    "start_time": "2024-02-12T16:15:21.808Z"
   },
   {
    "duration": 36,
    "start_time": "2024-02-12T16:15:21.818Z"
   },
   {
    "duration": 24,
    "start_time": "2024-02-12T16:15:21.856Z"
   },
   {
    "duration": 12,
    "start_time": "2024-02-12T16:15:21.894Z"
   },
   {
    "duration": 162,
    "start_time": "2024-02-12T16:15:21.907Z"
   },
   {
    "duration": 7,
    "start_time": "2024-02-12T16:15:22.071Z"
   },
   {
    "duration": 16,
    "start_time": "2024-02-12T16:15:22.079Z"
   },
   {
    "duration": 166,
    "start_time": "2024-02-12T16:15:22.096Z"
   },
   {
    "duration": 10,
    "start_time": "2024-02-12T16:15:22.264Z"
   },
   {
    "duration": 23,
    "start_time": "2024-02-12T16:15:22.275Z"
   },
   {
    "duration": 84,
    "start_time": "2024-02-12T16:15:22.299Z"
   },
   {
    "duration": 27,
    "start_time": "2024-02-12T16:15:22.385Z"
   },
   {
    "duration": 5,
    "start_time": "2024-02-12T16:15:22.414Z"
   },
   {
    "duration": 24,
    "start_time": "2024-02-12T16:15:22.420Z"
   },
   {
    "duration": 14,
    "start_time": "2024-02-12T16:15:22.446Z"
   },
   {
    "duration": 9,
    "start_time": "2024-02-12T16:15:22.461Z"
   },
   {
    "duration": 1598,
    "start_time": "2024-02-12T16:15:22.472Z"
   },
   {
    "duration": 5,
    "start_time": "2024-02-12T16:15:24.072Z"
   },
   {
    "duration": 16,
    "start_time": "2024-02-12T16:15:24.079Z"
   },
   {
    "duration": 38,
    "start_time": "2024-02-12T16:15:24.096Z"
   },
   {
    "duration": 6,
    "start_time": "2024-02-12T16:15:24.136Z"
   },
   {
    "duration": 9,
    "start_time": "2024-02-12T16:15:24.143Z"
   },
   {
    "duration": 192,
    "start_time": "2024-02-12T16:15:24.154Z"
   },
   {
    "duration": 5,
    "start_time": "2024-02-12T16:15:24.347Z"
   },
   {
    "duration": 7,
    "start_time": "2024-02-12T16:16:22.124Z"
   },
   {
    "duration": 8,
    "start_time": "2024-02-12T16:17:25.524Z"
   },
   {
    "duration": 7,
    "start_time": "2024-02-12T16:17:39.054Z"
   },
   {
    "duration": 94,
    "start_time": "2024-02-12T16:18:19.692Z"
   },
   {
    "duration": 6,
    "start_time": "2024-02-12T16:18:34.666Z"
   },
   {
    "duration": 12,
    "start_time": "2024-02-12T16:18:49.797Z"
   },
   {
    "duration": 8,
    "start_time": "2024-02-12T16:19:10.794Z"
   },
   {
    "duration": 7,
    "start_time": "2024-02-12T16:20:15.243Z"
   },
   {
    "duration": 116,
    "start_time": "2024-02-13T07:49:10.981Z"
   },
   {
    "duration": 2326,
    "start_time": "2024-02-13T07:50:13.979Z"
   },
   {
    "duration": 87,
    "start_time": "2024-02-13T07:50:16.307Z"
   },
   {
    "duration": 12,
    "start_time": "2024-02-13T07:50:16.395Z"
   },
   {
    "duration": 97,
    "start_time": "2024-02-13T07:50:16.409Z"
   },
   {
    "duration": 74,
    "start_time": "2024-02-13T07:50:16.509Z"
   },
   {
    "duration": 24,
    "start_time": "2024-02-13T07:50:16.585Z"
   },
   {
    "duration": 73,
    "start_time": "2024-02-13T07:50:16.611Z"
   },
   {
    "duration": 12,
    "start_time": "2024-02-13T07:50:16.686Z"
   },
   {
    "duration": 9,
    "start_time": "2024-02-13T07:50:16.700Z"
   },
   {
    "duration": 77,
    "start_time": "2024-02-13T07:50:16.711Z"
   },
   {
    "duration": 7,
    "start_time": "2024-02-13T07:50:16.791Z"
   },
   {
    "duration": 7,
    "start_time": "2024-02-13T07:50:16.800Z"
   },
   {
    "duration": 79,
    "start_time": "2024-02-13T07:50:16.810Z"
   },
   {
    "duration": 404,
    "start_time": "2024-02-13T07:50:16.893Z"
   },
   {
    "duration": 8,
    "start_time": "2024-02-13T07:50:17.299Z"
   },
   {
    "duration": 11,
    "start_time": "2024-02-13T07:50:17.309Z"
   },
   {
    "duration": 62,
    "start_time": "2024-02-13T07:50:17.322Z"
   },
   {
    "duration": 401,
    "start_time": "2024-02-13T07:50:17.386Z"
   },
   {
    "duration": 7,
    "start_time": "2024-02-13T07:50:17.789Z"
   },
   {
    "duration": 85,
    "start_time": "2024-02-13T07:50:17.797Z"
   },
   {
    "duration": 506,
    "start_time": "2024-02-13T07:50:17.884Z"
   },
   {
    "duration": 506,
    "start_time": "2024-02-13T07:50:18.393Z"
   },
   {
    "duration": 9,
    "start_time": "2024-02-13T07:50:18.901Z"
   },
   {
    "duration": 508,
    "start_time": "2024-02-13T07:50:18.911Z"
   },
   {
    "duration": 18,
    "start_time": "2024-02-13T07:50:19.480Z"
   },
   {
    "duration": 9,
    "start_time": "2024-02-13T07:50:19.499Z"
   },
   {
    "duration": 74,
    "start_time": "2024-02-13T07:50:19.510Z"
   },
   {
    "duration": 428,
    "start_time": "2024-02-13T07:50:19.586Z"
   },
   {
    "duration": 73,
    "start_time": "2024-02-13T07:50:20.015Z"
   },
   {
    "duration": 92,
    "start_time": "2024-02-13T07:50:20.089Z"
   },
   {
    "duration": 27,
    "start_time": "2024-02-13T07:50:20.183Z"
   },
   {
    "duration": 77,
    "start_time": "2024-02-13T07:50:20.211Z"
   },
   {
    "duration": 406,
    "start_time": "2024-02-13T07:50:20.289Z"
   },
   {
    "duration": 10,
    "start_time": "2024-02-13T07:50:20.697Z"
   },
   {
    "duration": 73,
    "start_time": "2024-02-13T07:50:20.709Z"
   },
   {
    "duration": 515,
    "start_time": "2024-02-13T07:50:20.784Z"
   },
   {
    "duration": 9,
    "start_time": "2024-02-13T07:50:21.300Z"
   },
   {
    "duration": 76,
    "start_time": "2024-02-13T07:50:21.311Z"
   },
   {
    "duration": 220,
    "start_time": "2024-02-13T07:50:21.390Z"
   },
   {
    "duration": 84,
    "start_time": "2024-02-13T07:50:21.611Z"
   },
   {
    "duration": 7,
    "start_time": "2024-02-13T07:50:21.699Z"
   },
   {
    "duration": 79,
    "start_time": "2024-02-13T07:50:21.707Z"
   },
   {
    "duration": 7,
    "start_time": "2024-02-13T07:50:21.787Z"
   },
   {
    "duration": 10,
    "start_time": "2024-02-13T07:50:21.796Z"
   },
   {
    "duration": 4289,
    "start_time": "2024-02-13T07:50:21.809Z"
   },
   {
    "duration": 5,
    "start_time": "2024-02-13T07:50:26.100Z"
   },
   {
    "duration": 7,
    "start_time": "2024-02-13T07:50:26.106Z"
   },
   {
    "duration": 93,
    "start_time": "2024-02-13T07:50:26.115Z"
   },
   {
    "duration": 6,
    "start_time": "2024-02-13T07:50:26.210Z"
   },
   {
    "duration": 3,
    "start_time": "2024-02-13T07:50:26.281Z"
   },
   {
    "duration": 508,
    "start_time": "2024-02-13T07:50:26.286Z"
   },
   {
    "duration": 5,
    "start_time": "2024-02-13T07:50:26.797Z"
   },
   {
    "duration": 502,
    "start_time": "2024-02-13T07:50:53.384Z"
   },
   {
    "duration": 413,
    "start_time": "2024-02-13T07:51:04.581Z"
   },
   {
    "duration": 382,
    "start_time": "2024-02-13T07:51:14.833Z"
   },
   {
    "duration": 360,
    "start_time": "2024-02-13T07:52:28.722Z"
   },
   {
    "duration": 2397,
    "start_time": "2024-02-13T07:53:18.712Z"
   },
   {
    "duration": 89,
    "start_time": "2024-02-13T07:53:21.112Z"
   },
   {
    "duration": 12,
    "start_time": "2024-02-13T07:53:21.203Z"
   },
   {
    "duration": 98,
    "start_time": "2024-02-13T07:53:21.217Z"
   },
   {
    "duration": 73,
    "start_time": "2024-02-13T07:53:21.317Z"
   },
   {
    "duration": 23,
    "start_time": "2024-02-13T07:53:21.392Z"
   },
   {
    "duration": 71,
    "start_time": "2024-02-13T07:53:21.417Z"
   },
   {
    "duration": 11,
    "start_time": "2024-02-13T07:53:21.490Z"
   },
   {
    "duration": 8,
    "start_time": "2024-02-13T07:53:21.502Z"
   },
   {
    "duration": 76,
    "start_time": "2024-02-13T07:53:21.513Z"
   },
   {
    "duration": 6,
    "start_time": "2024-02-13T07:53:21.591Z"
   },
   {
    "duration": 6,
    "start_time": "2024-02-13T07:53:21.599Z"
   },
   {
    "duration": 80,
    "start_time": "2024-02-13T07:53:21.607Z"
   },
   {
    "duration": 415,
    "start_time": "2024-02-13T07:53:21.690Z"
   },
   {
    "duration": 381,
    "start_time": "2024-02-13T07:53:22.108Z"
   },
   {
    "duration": 6,
    "start_time": "2024-02-13T07:53:22.490Z"
   },
   {
    "duration": 8,
    "start_time": "2024-02-13T07:53:22.498Z"
   },
   {
    "duration": 76,
    "start_time": "2024-02-13T07:53:22.508Z"
   },
   {
    "duration": 406,
    "start_time": "2024-02-13T07:53:22.586Z"
   },
   {
    "duration": 7,
    "start_time": "2024-02-13T07:53:22.994Z"
   },
   {
    "duration": 83,
    "start_time": "2024-02-13T07:53:23.003Z"
   },
   {
    "duration": 432,
    "start_time": "2024-02-13T07:53:23.088Z"
   },
   {
    "duration": 409,
    "start_time": "2024-02-13T07:53:23.581Z"
   },
   {
    "duration": 9,
    "start_time": "2024-02-13T07:53:23.992Z"
   },
   {
    "duration": 484,
    "start_time": "2024-02-13T07:53:24.003Z"
   },
   {
    "duration": 17,
    "start_time": "2024-02-13T07:53:24.489Z"
   },
   {
    "duration": 73,
    "start_time": "2024-02-13T07:53:24.508Z"
   },
   {
    "duration": 8,
    "start_time": "2024-02-13T07:53:24.587Z"
   },
   {
    "duration": 419,
    "start_time": "2024-02-13T07:53:24.597Z"
   },
   {
    "duration": 9,
    "start_time": "2024-02-13T07:53:25.080Z"
   },
   {
    "duration": 92,
    "start_time": "2024-02-13T07:53:25.090Z"
   },
   {
    "duration": 27,
    "start_time": "2024-02-13T07:53:25.183Z"
   },
   {
    "duration": 77,
    "start_time": "2024-02-13T07:53:25.212Z"
   },
   {
    "duration": 417,
    "start_time": "2024-02-13T07:53:25.291Z"
   },
   {
    "duration": 71,
    "start_time": "2024-02-13T07:53:25.710Z"
   },
   {
    "duration": 10,
    "start_time": "2024-02-13T07:53:25.783Z"
   },
   {
    "duration": 603,
    "start_time": "2024-02-13T07:53:25.795Z"
   },
   {
    "duration": 9,
    "start_time": "2024-02-13T07:53:26.400Z"
   },
   {
    "duration": 74,
    "start_time": "2024-02-13T07:53:26.411Z"
   },
   {
    "duration": 96,
    "start_time": "2024-02-13T07:53:26.487Z"
   },
   {
    "duration": 26,
    "start_time": "2024-02-13T07:53:26.585Z"
   },
   {
    "duration": 71,
    "start_time": "2024-02-13T07:53:26.613Z"
   },
   {
    "duration": 23,
    "start_time": "2024-02-13T07:53:26.686Z"
   },
   {
    "duration": 5,
    "start_time": "2024-02-13T07:53:26.711Z"
   },
   {
    "duration": 7,
    "start_time": "2024-02-13T07:53:26.779Z"
   },
   {
    "duration": 4397,
    "start_time": "2024-02-13T07:53:26.788Z"
   },
   {
    "duration": 6,
    "start_time": "2024-02-13T07:53:31.188Z"
   },
   {
    "duration": 94,
    "start_time": "2024-02-13T07:53:31.196Z"
   },
   {
    "duration": 104,
    "start_time": "2024-02-13T07:53:31.292Z"
   },
   {
    "duration": 6,
    "start_time": "2024-02-13T07:53:31.399Z"
   },
   {
    "duration": 94,
    "start_time": "2024-02-13T07:53:31.407Z"
   },
   {
    "duration": 513,
    "start_time": "2024-02-13T07:53:31.503Z"
   },
   {
    "duration": 67,
    "start_time": "2024-02-13T07:53:32.018Z"
   },
   {
    "duration": 423,
    "start_time": "2024-02-13T07:53:54.479Z"
   },
   {
    "duration": 531,
    "start_time": "2024-02-13T07:53:59.883Z"
   },
   {
    "duration": 199,
    "start_time": "2024-02-13T07:54:23.288Z"
   },
   {
    "duration": 514,
    "start_time": "2024-02-13T07:54:52.592Z"
   },
   {
    "duration": 511,
    "start_time": "2024-02-13T07:54:56.979Z"
   },
   {
    "duration": 540,
    "start_time": "2024-02-13T07:56:46.048Z"
   },
   {
    "duration": 64,
    "start_time": "2024-02-13T07:57:29.644Z"
   },
   {
    "duration": 438,
    "start_time": "2024-02-13T07:57:54.647Z"
   },
   {
    "duration": 2436,
    "start_time": "2024-02-13T07:58:09.554Z"
   },
   {
    "duration": 90,
    "start_time": "2024-02-13T07:58:11.992Z"
   },
   {
    "duration": 13,
    "start_time": "2024-02-13T07:58:12.085Z"
   },
   {
    "duration": 96,
    "start_time": "2024-02-13T07:58:12.100Z"
   },
   {
    "duration": 12,
    "start_time": "2024-02-13T07:58:12.199Z"
   },
   {
    "duration": 73,
    "start_time": "2024-02-13T07:58:12.212Z"
   },
   {
    "duration": 14,
    "start_time": "2024-02-13T07:58:12.287Z"
   },
   {
    "duration": 12,
    "start_time": "2024-02-13T07:58:12.302Z"
   },
   {
    "duration": 9,
    "start_time": "2024-02-13T07:58:12.381Z"
   },
   {
    "duration": 30,
    "start_time": "2024-02-13T07:58:12.392Z"
   },
   {
    "duration": 59,
    "start_time": "2024-02-13T07:58:12.424Z"
   },
   {
    "duration": 11,
    "start_time": "2024-02-13T07:58:12.485Z"
   },
   {
    "duration": 9,
    "start_time": "2024-02-13T07:58:12.500Z"
   },
   {
    "duration": 508,
    "start_time": "2024-02-13T07:58:12.580Z"
   },
   {
    "duration": 325,
    "start_time": "2024-02-13T07:58:13.090Z"
   },
   {
    "duration": 66,
    "start_time": "2024-02-13T07:58:13.417Z"
   },
   {
    "duration": 15,
    "start_time": "2024-02-13T07:58:13.485Z"
   },
   {
    "duration": 14,
    "start_time": "2024-02-13T07:58:13.502Z"
   },
   {
    "duration": 480,
    "start_time": "2024-02-13T07:58:13.519Z"
   },
   {
    "duration": 7,
    "start_time": "2024-02-13T07:58:14.001Z"
   },
   {
    "duration": 279,
    "start_time": "2024-02-13T07:58:14.010Z"
   },
   {
    "duration": 11,
    "start_time": "2024-02-13T07:58:14.292Z"
   },
   {
    "duration": 509,
    "start_time": "2024-02-13T07:58:14.305Z"
   },
   {
    "duration": 479,
    "start_time": "2024-02-13T07:58:14.816Z"
   },
   {
    "duration": 11,
    "start_time": "2024-02-13T07:58:15.297Z"
   },
   {
    "duration": 486,
    "start_time": "2024-02-13T07:58:15.310Z"
   },
   {
    "duration": 16,
    "start_time": "2024-02-13T07:58:15.798Z"
   },
   {
    "duration": 71,
    "start_time": "2024-02-13T07:58:15.816Z"
   },
   {
    "duration": 14,
    "start_time": "2024-02-13T07:58:15.889Z"
   },
   {
    "duration": 585,
    "start_time": "2024-02-13T07:58:15.905Z"
   },
   {
    "duration": 11,
    "start_time": "2024-02-13T07:58:16.492Z"
   },
   {
    "duration": 99,
    "start_time": "2024-02-13T07:58:16.504Z"
   },
   {
    "duration": 92,
    "start_time": "2024-02-13T07:58:16.605Z"
   },
   {
    "duration": 14,
    "start_time": "2024-02-13T07:58:16.699Z"
   },
   {
    "duration": 488,
    "start_time": "2024-02-13T07:58:16.715Z"
   },
   {
    "duration": 11,
    "start_time": "2024-02-13T07:58:17.205Z"
   },
   {
    "duration": 17,
    "start_time": "2024-02-13T07:58:17.279Z"
   },
   {
    "duration": 614,
    "start_time": "2024-02-13T07:58:17.298Z"
   },
   {
    "duration": 74,
    "start_time": "2024-02-13T07:58:17.914Z"
   },
   {
    "duration": 35,
    "start_time": "2024-02-13T07:58:17.990Z"
   },
   {
    "duration": 30,
    "start_time": "2024-02-13T07:58:18.083Z"
   },
   {
    "duration": 97,
    "start_time": "2024-02-13T07:58:18.115Z"
   },
   {
    "duration": 70,
    "start_time": "2024-02-13T07:58:18.214Z"
   },
   {
    "duration": 10,
    "start_time": "2024-02-13T07:58:18.286Z"
   },
   {
    "duration": 7,
    "start_time": "2024-02-13T07:58:18.298Z"
   },
   {
    "duration": 76,
    "start_time": "2024-02-13T07:58:18.307Z"
   },
   {
    "duration": 4315,
    "start_time": "2024-02-13T07:58:18.385Z"
   },
   {
    "duration": 4,
    "start_time": "2024-02-13T07:58:22.702Z"
   },
   {
    "duration": 8,
    "start_time": "2024-02-13T07:58:22.708Z"
   },
   {
    "duration": 27,
    "start_time": "2024-02-13T07:58:22.781Z"
   },
   {
    "duration": 72,
    "start_time": "2024-02-13T07:58:22.810Z"
   },
   {
    "duration": 9,
    "start_time": "2024-02-13T07:58:22.883Z"
   },
   {
    "duration": 490,
    "start_time": "2024-02-13T07:58:22.894Z"
   },
   {
    "duration": 5,
    "start_time": "2024-02-13T07:58:23.386Z"
   },
   {
    "duration": 514,
    "start_time": "2024-02-13T07:58:44.380Z"
   },
   {
    "duration": 3,
    "start_time": "2024-02-13T07:59:34.779Z"
   },
   {
    "duration": 2,
    "start_time": "2024-02-13T07:59:38.604Z"
   },
   {
    "duration": 2303,
    "start_time": "2024-02-13T08:00:38.886Z"
   },
   {
    "duration": 90,
    "start_time": "2024-02-13T08:00:41.191Z"
   },
   {
    "duration": 11,
    "start_time": "2024-02-13T08:00:41.283Z"
   },
   {
    "duration": 100,
    "start_time": "2024-02-13T08:00:41.296Z"
   },
   {
    "duration": 12,
    "start_time": "2024-02-13T08:00:41.398Z"
   },
   {
    "duration": 73,
    "start_time": "2024-02-13T08:00:41.412Z"
   },
   {
    "duration": 10,
    "start_time": "2024-02-13T08:00:41.487Z"
   },
   {
    "duration": 11,
    "start_time": "2024-02-13T08:00:41.498Z"
   },
   {
    "duration": 75,
    "start_time": "2024-02-13T08:00:41.511Z"
   },
   {
    "duration": 9,
    "start_time": "2024-02-13T08:00:41.588Z"
   },
   {
    "duration": 6,
    "start_time": "2024-02-13T08:00:41.599Z"
   },
   {
    "duration": 79,
    "start_time": "2024-02-13T08:00:41.606Z"
   },
   {
    "duration": 11,
    "start_time": "2024-02-13T08:00:41.687Z"
   },
   {
    "duration": 479,
    "start_time": "2024-02-13T08:00:41.703Z"
   },
   {
    "duration": 317,
    "start_time": "2024-02-13T08:00:42.185Z"
   },
   {
    "duration": 6,
    "start_time": "2024-02-13T08:00:42.504Z"
   },
   {
    "duration": 77,
    "start_time": "2024-02-13T08:00:42.511Z"
   },
   {
    "duration": 11,
    "start_time": "2024-02-13T08:00:42.590Z"
   },
   {
    "duration": 484,
    "start_time": "2024-02-13T08:00:42.603Z"
   },
   {
    "duration": 6,
    "start_time": "2024-02-13T08:00:43.089Z"
   },
   {
    "duration": 285,
    "start_time": "2024-02-13T08:00:43.097Z"
   },
   {
    "duration": 10,
    "start_time": "2024-02-13T08:00:43.384Z"
   },
   {
    "duration": 506,
    "start_time": "2024-02-13T08:00:43.396Z"
   },
   {
    "duration": 408,
    "start_time": "2024-02-13T08:00:43.904Z"
   },
   {
    "duration": 75,
    "start_time": "2024-02-13T08:00:44.313Z"
   },
   {
    "duration": 527,
    "start_time": "2024-02-13T08:00:44.390Z"
   },
   {
    "duration": 17,
    "start_time": "2024-02-13T08:00:44.980Z"
   },
   {
    "duration": 9,
    "start_time": "2024-02-13T08:00:44.998Z"
   },
   {
    "duration": 73,
    "start_time": "2024-02-13T08:00:45.008Z"
   },
   {
    "duration": 20,
    "start_time": "2024-02-13T08:00:45.082Z"
   },
   {
    "duration": 77,
    "start_time": "2024-02-13T08:00:45.103Z"
   },
   {
    "duration": 42,
    "start_time": "2024-02-13T08:00:45.182Z"
   },
   {
    "duration": 26,
    "start_time": "2024-02-13T08:00:45.281Z"
   },
   {
    "duration": 82,
    "start_time": "2024-02-13T08:00:45.308Z"
   },
   {
    "duration": 402,
    "start_time": "2024-02-13T08:00:45.392Z"
   },
   {
    "duration": 11,
    "start_time": "2024-02-13T08:00:45.796Z"
   },
   {
    "duration": 77,
    "start_time": "2024-02-13T08:00:45.809Z"
   },
   {
    "duration": 501,
    "start_time": "2024-02-13T08:00:45.888Z"
   },
   {
    "duration": 10,
    "start_time": "2024-02-13T08:00:46.391Z"
   },
   {
    "duration": 8,
    "start_time": "2024-02-13T08:00:46.402Z"
   },
   {
    "duration": 223,
    "start_time": "2024-02-13T08:00:46.482Z"
   },
   {
    "duration": 85,
    "start_time": "2024-02-13T08:00:46.707Z"
   },
   {
    "duration": 7,
    "start_time": "2024-02-13T08:00:46.794Z"
   },
   {
    "duration": 10,
    "start_time": "2024-02-13T08:00:46.802Z"
   },
   {
    "duration": 70,
    "start_time": "2024-02-13T08:00:46.814Z"
   },
   {
    "duration": 14,
    "start_time": "2024-02-13T08:00:46.887Z"
   },
   {
    "duration": 4200,
    "start_time": "2024-02-13T08:00:46.903Z"
   },
   {
    "duration": 6,
    "start_time": "2024-02-13T08:00:51.105Z"
   },
   {
    "duration": 70,
    "start_time": "2024-02-13T08:00:51.112Z"
   },
   {
    "duration": 27,
    "start_time": "2024-02-13T08:00:51.183Z"
   },
   {
    "duration": 71,
    "start_time": "2024-02-13T08:00:51.211Z"
   },
   {
    "duration": 16,
    "start_time": "2024-02-13T08:00:51.284Z"
   },
   {
    "duration": 511,
    "start_time": "2024-02-13T08:00:51.302Z"
   },
   {
    "duration": 6,
    "start_time": "2024-02-13T08:00:51.815Z"
   },
   {
    "duration": 29,
    "start_time": "2024-02-13T08:03:31.481Z"
   },
   {
    "duration": 462,
    "start_time": "2024-02-13T08:03:54.936Z"
   },
   {
    "duration": 2367,
    "start_time": "2024-02-13T08:04:06.020Z"
   },
   {
    "duration": 97,
    "start_time": "2024-02-13T08:04:08.389Z"
   },
   {
    "duration": 13,
    "start_time": "2024-02-13T08:04:08.488Z"
   },
   {
    "duration": 98,
    "start_time": "2024-02-13T08:04:08.504Z"
   },
   {
    "duration": 14,
    "start_time": "2024-02-13T08:04:08.604Z"
   },
   {
    "duration": 19,
    "start_time": "2024-02-13T08:04:08.681Z"
   },
   {
    "duration": 13,
    "start_time": "2024-02-13T08:04:08.702Z"
   },
   {
    "duration": 16,
    "start_time": "2024-02-13T08:04:08.780Z"
   },
   {
    "duration": 8,
    "start_time": "2024-02-13T08:04:08.798Z"
   },
   {
    "duration": 72,
    "start_time": "2024-02-13T08:04:08.810Z"
   },
   {
    "duration": 6,
    "start_time": "2024-02-13T08:04:08.884Z"
   },
   {
    "duration": 8,
    "start_time": "2024-02-13T08:04:08.891Z"
   },
   {
    "duration": 11,
    "start_time": "2024-02-13T08:04:08.901Z"
   },
   {
    "duration": 432,
    "start_time": "2024-02-13T08:04:08.981Z"
   },
   {
    "duration": 383,
    "start_time": "2024-02-13T08:04:09.414Z"
   },
   {
    "duration": 6,
    "start_time": "2024-02-13T08:04:09.799Z"
   },
   {
    "duration": 77,
    "start_time": "2024-02-13T08:04:09.807Z"
   },
   {
    "duration": 9,
    "start_time": "2024-02-13T08:04:09.886Z"
   },
   {
    "duration": 413,
    "start_time": "2024-02-13T08:04:09.897Z"
   },
   {
    "duration": 7,
    "start_time": "2024-02-13T08:04:10.311Z"
   },
   {
    "duration": 229,
    "start_time": "2024-02-13T08:04:10.380Z"
   },
   {
    "duration": 73,
    "start_time": "2024-02-13T08:04:10.610Z"
   },
   {
    "duration": 508,
    "start_time": "2024-02-13T08:04:10.684Z"
   },
   {
    "duration": 410,
    "start_time": "2024-02-13T08:04:11.194Z"
   },
   {
    "duration": 10,
    "start_time": "2024-02-13T08:04:11.606Z"
   },
   {
    "duration": 665,
    "start_time": "2024-02-13T08:04:11.617Z"
   },
   {
    "duration": 18,
    "start_time": "2024-02-13T08:04:12.285Z"
   },
   {
    "duration": 8,
    "start_time": "2024-02-13T08:04:12.307Z"
   },
   {
    "duration": 65,
    "start_time": "2024-02-13T08:04:12.316Z"
   },
   {
    "duration": 6,
    "start_time": "2024-02-13T08:04:12.384Z"
   },
   {
    "duration": 12,
    "start_time": "2024-02-13T08:04:12.391Z"
   },
   {
    "duration": 94,
    "start_time": "2024-02-13T08:04:12.404Z"
   },
   {
    "duration": 87,
    "start_time": "2024-02-13T08:04:12.500Z"
   },
   {
    "duration": 12,
    "start_time": "2024-02-13T08:04:12.589Z"
   },
   {
    "duration": 491,
    "start_time": "2024-02-13T08:04:12.602Z"
   },
   {
    "duration": 9,
    "start_time": "2024-02-13T08:04:13.095Z"
   },
   {
    "duration": 77,
    "start_time": "2024-02-13T08:04:13.105Z"
   },
   {
    "duration": 410,
    "start_time": "2024-02-13T08:04:13.184Z"
   },
   {
    "duration": 11,
    "start_time": "2024-02-13T08:04:13.596Z"
   },
   {
    "duration": 74,
    "start_time": "2024-02-13T08:04:13.609Z"
   },
   {
    "duration": 305,
    "start_time": "2024-02-13T08:04:13.685Z"
   },
   {
    "duration": 24,
    "start_time": "2024-02-13T08:04:13.992Z"
   },
   {
    "duration": 6,
    "start_time": "2024-02-13T08:04:14.081Z"
   },
   {
    "duration": 11,
    "start_time": "2024-02-13T08:04:14.089Z"
   },
   {
    "duration": 6,
    "start_time": "2024-02-13T08:04:14.102Z"
   },
   {
    "duration": 72,
    "start_time": "2024-02-13T08:04:14.110Z"
   },
   {
    "duration": 4207,
    "start_time": "2024-02-13T08:04:14.184Z"
   },
   {
    "duration": 4,
    "start_time": "2024-02-13T08:04:18.393Z"
   },
   {
    "duration": 8,
    "start_time": "2024-02-13T08:04:18.399Z"
   },
   {
    "duration": 106,
    "start_time": "2024-02-13T08:04:18.409Z"
   },
   {
    "duration": 66,
    "start_time": "2024-02-13T08:04:18.517Z"
   },
   {
    "duration": 7,
    "start_time": "2024-02-13T08:04:18.585Z"
   },
   {
    "duration": 586,
    "start_time": "2024-02-13T08:04:18.594Z"
   },
   {
    "duration": 6,
    "start_time": "2024-02-13T08:04:19.182Z"
   },
   {
    "duration": 2563,
    "start_time": "2024-02-13T08:05:38.122Z"
   },
   {
    "duration": 40,
    "start_time": "2024-02-13T08:05:40.687Z"
   },
   {
    "duration": 15,
    "start_time": "2024-02-13T08:05:40.781Z"
   },
   {
    "duration": 103,
    "start_time": "2024-02-13T08:05:40.797Z"
   },
   {
    "duration": 13,
    "start_time": "2024-02-13T08:05:40.903Z"
   },
   {
    "duration": 91,
    "start_time": "2024-02-13T08:05:40.917Z"
   },
   {
    "duration": 9,
    "start_time": "2024-02-13T08:05:41.010Z"
   },
   {
    "duration": 70,
    "start_time": "2024-02-13T08:05:41.021Z"
   },
   {
    "duration": 16,
    "start_time": "2024-02-13T08:05:41.092Z"
   },
   {
    "duration": 77,
    "start_time": "2024-02-13T08:05:41.109Z"
   },
   {
    "duration": 6,
    "start_time": "2024-02-13T08:05:41.188Z"
   },
   {
    "duration": 17,
    "start_time": "2024-02-13T08:05:41.195Z"
   },
   {
    "duration": 68,
    "start_time": "2024-02-13T08:05:41.214Z"
   },
   {
    "duration": 419,
    "start_time": "2024-02-13T08:05:41.287Z"
   },
   {
    "duration": 381,
    "start_time": "2024-02-13T08:05:41.708Z"
   },
   {
    "duration": 7,
    "start_time": "2024-02-13T08:05:42.091Z"
   },
   {
    "duration": 11,
    "start_time": "2024-02-13T08:05:42.100Z"
   },
   {
    "duration": 69,
    "start_time": "2024-02-13T08:05:42.113Z"
   },
   {
    "duration": 518,
    "start_time": "2024-02-13T08:05:42.184Z"
   },
   {
    "duration": 6,
    "start_time": "2024-02-13T08:05:42.704Z"
   },
   {
    "duration": 204,
    "start_time": "2024-02-13T08:05:42.711Z"
   },
   {
    "duration": 73,
    "start_time": "2024-02-13T08:05:42.916Z"
   },
   {
    "duration": 523,
    "start_time": "2024-02-13T08:05:42.992Z"
   },
   {
    "duration": 477,
    "start_time": "2024-02-13T08:05:43.516Z"
   },
   {
    "duration": 10,
    "start_time": "2024-02-13T08:05:43.994Z"
   },
   {
    "duration": 488,
    "start_time": "2024-02-13T08:05:44.005Z"
   },
   {
    "duration": 87,
    "start_time": "2024-02-13T08:05:44.495Z"
   },
   {
    "duration": 9,
    "start_time": "2024-02-13T08:05:44.584Z"
   },
   {
    "duration": 2,
    "start_time": "2024-02-13T08:05:44.595Z"
   },
   {
    "duration": 11,
    "start_time": "2024-02-13T08:05:44.599Z"
   },
   {
    "duration": 71,
    "start_time": "2024-02-13T08:05:44.611Z"
   },
   {
    "duration": 26,
    "start_time": "2024-02-13T08:05:44.684Z"
   },
   {
    "duration": 89,
    "start_time": "2024-02-13T08:05:44.711Z"
   },
   {
    "duration": 17,
    "start_time": "2024-02-13T08:05:44.802Z"
   },
   {
    "duration": 14,
    "start_time": "2024-02-13T08:05:44.881Z"
   },
   {
    "duration": 497,
    "start_time": "2024-02-13T08:05:44.896Z"
   },
   {
    "duration": 12,
    "start_time": "2024-02-13T08:05:45.395Z"
   },
   {
    "duration": 79,
    "start_time": "2024-02-13T08:05:45.409Z"
   },
   {
    "duration": 412,
    "start_time": "2024-02-13T08:05:45.490Z"
   },
   {
    "duration": 10,
    "start_time": "2024-02-13T08:05:45.904Z"
   },
   {
    "duration": 10,
    "start_time": "2024-02-13T08:05:45.979Z"
   },
   {
    "duration": 301,
    "start_time": "2024-02-13T08:05:45.990Z"
   },
   {
    "duration": 100,
    "start_time": "2024-02-13T08:05:46.294Z"
   },
   {
    "duration": 7,
    "start_time": "2024-02-13T08:05:46.396Z"
   },
   {
    "duration": 76,
    "start_time": "2024-02-13T08:05:46.405Z"
   },
   {
    "duration": 6,
    "start_time": "2024-02-13T08:05:46.483Z"
   },
   {
    "duration": 10,
    "start_time": "2024-02-13T08:05:46.491Z"
   },
   {
    "duration": 4314,
    "start_time": "2024-02-13T08:05:46.503Z"
   },
   {
    "duration": 6,
    "start_time": "2024-02-13T08:05:50.881Z"
   },
   {
    "duration": 24,
    "start_time": "2024-02-13T08:05:50.889Z"
   },
   {
    "duration": 88,
    "start_time": "2024-02-13T08:05:50.915Z"
   },
   {
    "duration": 77,
    "start_time": "2024-02-13T08:05:51.005Z"
   },
   {
    "duration": 5,
    "start_time": "2024-02-13T08:05:51.084Z"
   },
   {
    "duration": 497,
    "start_time": "2024-02-13T08:05:51.091Z"
   },
   {
    "duration": 8,
    "start_time": "2024-02-13T08:05:51.590Z"
   },
   {
    "duration": 489,
    "start_time": "2024-02-13T08:06:34.825Z"
   },
   {
    "duration": 2326,
    "start_time": "2024-02-13T08:06:46.580Z"
   },
   {
    "duration": 82,
    "start_time": "2024-02-13T08:06:48.909Z"
   },
   {
    "duration": 12,
    "start_time": "2024-02-13T08:06:48.992Z"
   },
   {
    "duration": 95,
    "start_time": "2024-02-13T08:06:49.006Z"
   },
   {
    "duration": 11,
    "start_time": "2024-02-13T08:06:49.104Z"
   },
   {
    "duration": 19,
    "start_time": "2024-02-13T08:06:49.181Z"
   },
   {
    "duration": 9,
    "start_time": "2024-02-13T08:06:49.202Z"
   },
   {
    "duration": 77,
    "start_time": "2024-02-13T08:06:49.213Z"
   },
   {
    "duration": 7,
    "start_time": "2024-02-13T08:06:49.292Z"
   },
   {
    "duration": 10,
    "start_time": "2024-02-13T08:06:49.300Z"
   },
   {
    "duration": 70,
    "start_time": "2024-02-13T08:06:49.312Z"
   },
   {
    "duration": 9,
    "start_time": "2024-02-13T08:06:49.383Z"
   },
   {
    "duration": 9,
    "start_time": "2024-02-13T08:06:49.393Z"
   },
   {
    "duration": 475,
    "start_time": "2024-02-13T08:06:49.405Z"
   },
   {
    "duration": 335,
    "start_time": "2024-02-13T08:06:49.883Z"
   },
   {
    "duration": 6,
    "start_time": "2024-02-13T08:06:50.281Z"
   },
   {
    "duration": 8,
    "start_time": "2024-02-13T08:06:50.289Z"
   },
   {
    "duration": 10,
    "start_time": "2024-02-13T08:06:50.299Z"
   },
   {
    "duration": 427,
    "start_time": "2024-02-13T08:06:50.381Z"
   },
   {
    "duration": 6,
    "start_time": "2024-02-13T08:06:50.810Z"
   },
   {
    "duration": 278,
    "start_time": "2024-02-13T08:06:50.817Z"
   },
   {
    "duration": 10,
    "start_time": "2024-02-13T08:06:51.097Z"
   },
   {
    "duration": 510,
    "start_time": "2024-02-13T08:06:51.108Z"
   },
   {
    "duration": 415,
    "start_time": "2024-02-13T08:06:51.680Z"
   },
   {
    "duration": 12,
    "start_time": "2024-02-13T08:06:52.097Z"
   },
   {
    "duration": 672,
    "start_time": "2024-02-13T08:06:52.111Z"
   },
   {
    "duration": 24,
    "start_time": "2024-02-13T08:06:52.785Z"
   },
   {
    "duration": 75,
    "start_time": "2024-02-13T08:06:52.810Z"
   },
   {
    "duration": 9,
    "start_time": "2024-02-13T08:06:52.887Z"
   },
   {
    "duration": 5,
    "start_time": "2024-02-13T08:06:52.897Z"
   },
   {
    "duration": 10,
    "start_time": "2024-02-13T08:06:52.903Z"
   },
   {
    "duration": 86,
    "start_time": "2024-02-13T08:06:52.915Z"
   },
   {
    "duration": 86,
    "start_time": "2024-02-13T08:06:53.003Z"
   },
   {
    "duration": 16,
    "start_time": "2024-02-13T08:06:53.090Z"
   },
   {
    "duration": 82,
    "start_time": "2024-02-13T08:06:53.107Z"
   },
   {
    "duration": 514,
    "start_time": "2024-02-13T08:06:53.190Z"
   },
   {
    "duration": 11,
    "start_time": "2024-02-13T08:06:53.706Z"
   },
   {
    "duration": 10,
    "start_time": "2024-02-13T08:06:53.781Z"
   },
   {
    "duration": 595,
    "start_time": "2024-02-13T08:06:53.793Z"
   },
   {
    "duration": 11,
    "start_time": "2024-02-13T08:06:54.390Z"
   },
   {
    "duration": 74,
    "start_time": "2024-02-13T08:06:54.407Z"
   },
   {
    "duration": 227,
    "start_time": "2024-02-13T08:06:54.484Z"
   },
   {
    "duration": 89,
    "start_time": "2024-02-13T08:06:54.713Z"
   },
   {
    "duration": 5,
    "start_time": "2024-02-13T08:06:54.804Z"
   },
   {
    "duration": 71,
    "start_time": "2024-02-13T08:06:54.811Z"
   },
   {
    "duration": 6,
    "start_time": "2024-02-13T08:06:54.885Z"
   },
   {
    "duration": 9,
    "start_time": "2024-02-13T08:06:54.893Z"
   },
   {
    "duration": 4686,
    "start_time": "2024-02-13T08:06:54.904Z"
   },
   {
    "duration": 7,
    "start_time": "2024-02-13T08:06:59.592Z"
   },
   {
    "duration": 105,
    "start_time": "2024-02-13T08:06:59.602Z"
   },
   {
    "duration": 100,
    "start_time": "2024-02-13T08:06:59.709Z"
   },
   {
    "duration": 5,
    "start_time": "2024-02-13T08:06:59.811Z"
   },
   {
    "duration": 10,
    "start_time": "2024-02-13T08:06:59.880Z"
   },
   {
    "duration": 612,
    "start_time": "2024-02-13T08:06:59.893Z"
   },
   {
    "duration": 7,
    "start_time": "2024-02-13T08:07:00.507Z"
   },
   {
    "duration": 2475,
    "start_time": "2024-02-13T08:10:00.526Z"
   },
   {
    "duration": 94,
    "start_time": "2024-02-13T08:10:03.003Z"
   },
   {
    "duration": 15,
    "start_time": "2024-02-13T08:10:03.099Z"
   },
   {
    "duration": 95,
    "start_time": "2024-02-13T08:10:03.117Z"
   },
   {
    "duration": 79,
    "start_time": "2024-02-13T08:10:03.214Z"
   },
   {
    "duration": 23,
    "start_time": "2024-02-13T08:10:03.295Z"
   },
   {
    "duration": 13,
    "start_time": "2024-02-13T08:10:03.380Z"
   },
   {
    "duration": 12,
    "start_time": "2024-02-13T08:10:03.395Z"
   },
   {
    "duration": 72,
    "start_time": "2024-02-13T08:10:03.409Z"
   },
   {
    "duration": 8,
    "start_time": "2024-02-13T08:10:03.486Z"
   },
   {
    "duration": 9,
    "start_time": "2024-02-13T08:10:03.496Z"
   },
   {
    "duration": 78,
    "start_time": "2024-02-13T08:10:03.507Z"
   },
   {
    "duration": 9,
    "start_time": "2024-02-13T08:10:03.587Z"
   },
   {
    "duration": 484,
    "start_time": "2024-02-13T08:10:03.598Z"
   },
   {
    "duration": 510,
    "start_time": "2024-02-13T08:10:04.085Z"
   },
   {
    "duration": 6,
    "start_time": "2024-02-13T08:10:04.598Z"
   },
   {
    "duration": 79,
    "start_time": "2024-02-13T08:10:04.606Z"
   },
   {
    "duration": 9,
    "start_time": "2024-02-13T08:10:04.686Z"
   },
   {
    "duration": 494,
    "start_time": "2024-02-13T08:10:04.697Z"
   },
   {
    "duration": 6,
    "start_time": "2024-02-13T08:10:05.193Z"
   },
   {
    "duration": 208,
    "start_time": "2024-02-13T08:10:05.200Z"
   },
   {
    "duration": 8,
    "start_time": "2024-02-13T08:10:05.410Z"
   },
   {
    "duration": 802,
    "start_time": "2024-02-13T08:10:05.481Z"
   },
   {
    "duration": 500,
    "start_time": "2024-02-13T08:10:06.285Z"
   },
   {
    "duration": 12,
    "start_time": "2024-02-13T08:10:06.787Z"
   },
   {
    "duration": 510,
    "start_time": "2024-02-13T08:10:06.801Z"
   },
   {
    "duration": 75,
    "start_time": "2024-02-13T08:10:07.314Z"
   },
   {
    "duration": 7,
    "start_time": "2024-02-13T08:10:07.393Z"
   },
   {
    "duration": 4,
    "start_time": "2024-02-13T08:10:07.402Z"
   },
   {
    "duration": 72,
    "start_time": "2024-02-13T08:10:07.408Z"
   },
   {
    "duration": 12,
    "start_time": "2024-02-13T08:10:07.483Z"
   },
   {
    "duration": 88,
    "start_time": "2024-02-13T08:10:07.498Z"
   },
   {
    "duration": 95,
    "start_time": "2024-02-13T08:10:07.588Z"
   },
   {
    "duration": 20,
    "start_time": "2024-02-13T08:10:07.686Z"
   },
   {
    "duration": 81,
    "start_time": "2024-02-13T08:10:07.709Z"
   },
   {
    "duration": 494,
    "start_time": "2024-02-13T08:10:07.792Z"
   },
   {
    "duration": 8,
    "start_time": "2024-02-13T08:10:08.288Z"
   },
   {
    "duration": 7,
    "start_time": "2024-02-13T08:10:08.298Z"
   },
   {
    "duration": 701,
    "start_time": "2024-02-13T08:10:08.307Z"
   },
   {
    "duration": 70,
    "start_time": "2024-02-13T08:10:09.011Z"
   },
   {
    "duration": 9,
    "start_time": "2024-02-13T08:10:09.084Z"
   },
   {
    "duration": 106,
    "start_time": "2024-02-13T08:10:09.095Z"
   },
   {
    "duration": 12,
    "start_time": "2024-02-13T08:10:09.204Z"
   },
   {
    "duration": 64,
    "start_time": "2024-02-13T08:10:09.218Z"
   },
   {
    "duration": 96,
    "start_time": "2024-02-13T08:10:09.284Z"
   },
   {
    "duration": 211,
    "start_time": "2024-02-13T08:10:09.382Z"
   },
   {
    "duration": 13,
    "start_time": "2024-02-13T08:10:09.595Z"
   },
   {
    "duration": 73,
    "start_time": "2024-02-13T08:10:09.610Z"
   },
   {
    "duration": 7,
    "start_time": "2024-02-13T08:10:09.684Z"
   },
   {
    "duration": 4309,
    "start_time": "2024-02-13T08:10:09.692Z"
   },
   {
    "duration": 5,
    "start_time": "2024-02-13T08:10:14.003Z"
   },
   {
    "duration": 82,
    "start_time": "2024-02-13T08:10:14.010Z"
   },
   {
    "duration": 103,
    "start_time": "2024-02-13T08:10:14.094Z"
   },
   {
    "duration": 5,
    "start_time": "2024-02-13T08:10:14.200Z"
   },
   {
    "duration": 112,
    "start_time": "2024-02-13T08:10:14.207Z"
   },
   {
    "duration": 497,
    "start_time": "2024-02-13T08:10:14.321Z"
   },
   {
    "duration": 6,
    "start_time": "2024-02-13T08:10:14.880Z"
   },
   {
    "duration": 5,
    "start_time": "2024-02-13T08:10:55.025Z"
   },
   {
    "duration": 6,
    "start_time": "2024-02-13T08:11:37.188Z"
   },
   {
    "duration": 40,
    "start_time": "2024-02-13T08:12:35.690Z"
   },
   {
    "duration": 2618,
    "start_time": "2024-02-13T08:18:42.280Z"
   },
   {
    "duration": 90,
    "start_time": "2024-02-13T08:18:44.900Z"
   },
   {
    "duration": 13,
    "start_time": "2024-02-13T08:18:44.992Z"
   },
   {
    "duration": 103,
    "start_time": "2024-02-13T08:18:45.007Z"
   },
   {
    "duration": 70,
    "start_time": "2024-02-13T08:18:45.113Z"
   },
   {
    "duration": 24,
    "start_time": "2024-02-13T08:18:45.185Z"
   },
   {
    "duration": 87,
    "start_time": "2024-02-13T08:18:45.211Z"
   },
   {
    "duration": 11,
    "start_time": "2024-02-13T08:18:45.301Z"
   },
   {
    "duration": 74,
    "start_time": "2024-02-13T08:18:45.314Z"
   },
   {
    "duration": 12,
    "start_time": "2024-02-13T08:18:45.394Z"
   },
   {
    "duration": 7,
    "start_time": "2024-02-13T08:18:45.407Z"
   },
   {
    "duration": 77,
    "start_time": "2024-02-13T08:18:45.416Z"
   },
   {
    "duration": 12,
    "start_time": "2024-02-13T08:18:45.495Z"
   },
   {
    "duration": 571,
    "start_time": "2024-02-13T08:18:45.511Z"
   },
   {
    "duration": 409,
    "start_time": "2024-02-13T08:18:46.084Z"
   },
   {
    "duration": 7,
    "start_time": "2024-02-13T08:18:46.496Z"
   },
   {
    "duration": 79,
    "start_time": "2024-02-13T08:18:46.505Z"
   },
   {
    "duration": 15,
    "start_time": "2024-02-13T08:18:46.586Z"
   },
   {
    "duration": 582,
    "start_time": "2024-02-13T08:18:46.603Z"
   },
   {
    "duration": 10,
    "start_time": "2024-02-13T08:18:47.187Z"
   },
   {
    "duration": 296,
    "start_time": "2024-02-13T08:18:47.199Z"
   },
   {
    "duration": 11,
    "start_time": "2024-02-13T08:18:47.497Z"
   },
   {
    "duration": 589,
    "start_time": "2024-02-13T08:18:47.510Z"
   },
   {
    "duration": 499,
    "start_time": "2024-02-13T08:18:48.101Z"
   },
   {
    "duration": 10,
    "start_time": "2024-02-13T08:18:48.603Z"
   },
   {
    "duration": 568,
    "start_time": "2024-02-13T08:18:48.615Z"
   },
   {
    "duration": 19,
    "start_time": "2024-02-13T08:18:49.185Z"
   },
   {
    "duration": 9,
    "start_time": "2024-02-13T08:18:49.206Z"
   },
   {
    "duration": 7,
    "start_time": "2024-02-13T08:18:49.279Z"
   },
   {
    "duration": 11,
    "start_time": "2024-02-13T08:18:49.289Z"
   },
   {
    "duration": 85,
    "start_time": "2024-02-13T08:18:49.302Z"
   },
   {
    "duration": 88,
    "start_time": "2024-02-13T08:18:49.392Z"
   },
   {
    "duration": 33,
    "start_time": "2024-02-13T08:18:49.482Z"
   },
   {
    "duration": 75,
    "start_time": "2024-02-13T08:18:49.517Z"
   },
   {
    "duration": 16,
    "start_time": "2024-02-13T08:18:49.594Z"
   },
   {
    "duration": 591,
    "start_time": "2024-02-13T08:18:49.612Z"
   },
   {
    "duration": 11,
    "start_time": "2024-02-13T08:18:50.205Z"
   },
   {
    "duration": 76,
    "start_time": "2024-02-13T08:18:50.218Z"
   },
   {
    "duration": 525,
    "start_time": "2024-02-13T08:18:50.296Z"
   },
   {
    "duration": 68,
    "start_time": "2024-02-13T08:18:50.823Z"
   },
   {
    "duration": 9,
    "start_time": "2024-02-13T08:18:50.898Z"
   },
   {
    "duration": 114,
    "start_time": "2024-02-13T08:18:50.908Z"
   },
   {
    "duration": 13,
    "start_time": "2024-02-13T08:18:51.081Z"
   },
   {
    "duration": 4,
    "start_time": "2024-02-13T08:18:51.096Z"
   },
   {
    "duration": 80,
    "start_time": "2024-02-13T08:18:51.102Z"
   },
   {
    "duration": 9,
    "start_time": "2024-02-13T08:18:51.184Z"
   },
   {
    "duration": 6,
    "start_time": "2024-02-13T08:18:51.196Z"
   },
   {
    "duration": 291,
    "start_time": "2024-02-13T08:18:51.204Z"
   },
   {
    "duration": 6,
    "start_time": "2024-02-13T08:18:51.497Z"
   },
   {
    "duration": 9,
    "start_time": "2024-02-13T08:18:51.506Z"
   },
   {
    "duration": 71,
    "start_time": "2024-02-13T08:18:51.517Z"
   },
   {
    "duration": 4900,
    "start_time": "2024-02-13T08:18:51.591Z"
   },
   {
    "duration": 8,
    "start_time": "2024-02-13T08:18:56.493Z"
   },
   {
    "duration": 10,
    "start_time": "2024-02-13T08:18:56.503Z"
   },
   {
    "duration": 104,
    "start_time": "2024-02-13T08:18:56.516Z"
   },
   {
    "duration": 66,
    "start_time": "2024-02-13T08:18:56.622Z"
   },
   {
    "duration": 7,
    "start_time": "2024-02-13T08:18:56.691Z"
   },
   {
    "duration": 678,
    "start_time": "2024-02-13T08:18:56.702Z"
   },
   {
    "duration": 10,
    "start_time": "2024-02-13T08:18:57.384Z"
   },
   {
    "duration": 5094,
    "start_time": "2024-02-13T08:21:10.004Z"
   },
   {
    "duration": 4987,
    "start_time": "2024-02-13T08:22:09.905Z"
   },
   {
    "duration": 537,
    "start_time": "2024-02-13T08:23:13.343Z"
   },
   {
    "duration": 543,
    "start_time": "2024-02-13T08:23:41.943Z"
   },
   {
    "duration": 518,
    "start_time": "2024-02-13T08:24:45.790Z"
   },
   {
    "duration": 2289,
    "start_time": "2024-02-13T08:24:58.130Z"
   },
   {
    "duration": 39,
    "start_time": "2024-02-13T08:25:00.480Z"
   },
   {
    "duration": 82,
    "start_time": "2024-02-13T08:25:00.522Z"
   },
   {
    "duration": 111,
    "start_time": "2024-02-13T08:25:00.607Z"
   },
   {
    "duration": 71,
    "start_time": "2024-02-13T08:25:00.720Z"
   },
   {
    "duration": 95,
    "start_time": "2024-02-13T08:25:00.794Z"
   },
   {
    "duration": 15,
    "start_time": "2024-02-13T08:25:00.891Z"
   },
   {
    "duration": 85,
    "start_time": "2024-02-13T08:25:00.908Z"
   },
   {
    "duration": 92,
    "start_time": "2024-02-13T08:25:00.995Z"
   },
   {
    "duration": 15,
    "start_time": "2024-02-13T08:25:01.091Z"
   },
   {
    "duration": 73,
    "start_time": "2024-02-13T08:25:01.108Z"
   },
   {
    "duration": 98,
    "start_time": "2024-02-13T08:25:01.183Z"
   },
   {
    "duration": 45,
    "start_time": "2024-02-13T08:25:01.283Z"
   },
   {
    "duration": 502,
    "start_time": "2024-02-13T08:25:01.381Z"
   },
   {
    "duration": 335,
    "start_time": "2024-02-13T08:25:01.885Z"
   },
   {
    "duration": 63,
    "start_time": "2024-02-13T08:25:02.222Z"
   },
   {
    "duration": 24,
    "start_time": "2024-02-13T08:25:02.287Z"
   },
   {
    "duration": 73,
    "start_time": "2024-02-13T08:25:02.312Z"
   },
   {
    "duration": 496,
    "start_time": "2024-02-13T08:25:02.386Z"
   },
   {
    "duration": 6,
    "start_time": "2024-02-13T08:25:02.884Z"
   },
   {
    "duration": 293,
    "start_time": "2024-02-13T08:25:02.892Z"
   },
   {
    "duration": 9,
    "start_time": "2024-02-13T08:25:03.187Z"
   },
   {
    "duration": 506,
    "start_time": "2024-02-13T08:25:03.197Z"
   },
   {
    "duration": 415,
    "start_time": "2024-02-13T08:25:03.705Z"
   },
   {
    "duration": 12,
    "start_time": "2024-02-13T08:25:04.179Z"
   },
   {
    "duration": 524,
    "start_time": "2024-02-13T08:25:04.193Z"
   },
   {
    "duration": 77,
    "start_time": "2024-02-13T08:25:04.718Z"
   },
   {
    "duration": 7,
    "start_time": "2024-02-13T08:25:04.801Z"
   },
   {
    "duration": 71,
    "start_time": "2024-02-13T08:25:04.809Z"
   },
   {
    "duration": 3,
    "start_time": "2024-02-13T08:25:04.882Z"
   },
   {
    "duration": 10,
    "start_time": "2024-02-13T08:25:04.886Z"
   },
   {
    "duration": 97,
    "start_time": "2024-02-13T08:25:04.898Z"
   },
   {
    "duration": 96,
    "start_time": "2024-02-13T08:25:04.997Z"
   },
   {
    "duration": 19,
    "start_time": "2024-02-13T08:25:05.095Z"
   },
   {
    "duration": 73,
    "start_time": "2024-02-13T08:25:05.115Z"
   },
   {
    "duration": 493,
    "start_time": "2024-02-13T08:25:05.189Z"
   },
   {
    "duration": 9,
    "start_time": "2024-02-13T08:25:05.684Z"
   },
   {
    "duration": 9,
    "start_time": "2024-02-13T08:25:05.694Z"
   },
   {
    "duration": 499,
    "start_time": "2024-02-13T08:25:05.706Z"
   },
   {
    "duration": 10,
    "start_time": "2024-02-13T08:25:06.207Z"
   },
   {
    "duration": 11,
    "start_time": "2024-02-13T08:25:06.281Z"
   },
   {
    "duration": 309,
    "start_time": "2024-02-13T08:25:06.294Z"
   },
   {
    "duration": 11,
    "start_time": "2024-02-13T08:25:06.605Z"
   },
   {
    "duration": 3,
    "start_time": "2024-02-13T08:25:06.679Z"
   },
   {
    "duration": 8,
    "start_time": "2024-02-13T08:25:06.684Z"
   },
   {
    "duration": 11,
    "start_time": "2024-02-13T08:25:06.694Z"
   },
   {
    "duration": 6,
    "start_time": "2024-02-13T08:25:06.707Z"
   },
   {
    "duration": 11,
    "start_time": "2024-02-13T08:25:06.780Z"
   },
   {
    "duration": 6,
    "start_time": "2024-02-13T08:25:06.793Z"
   },
   {
    "duration": 80,
    "start_time": "2024-02-13T08:25:06.801Z"
   },
   {
    "duration": 6,
    "start_time": "2024-02-13T08:25:06.883Z"
   },
   {
    "duration": 4303,
    "start_time": "2024-02-13T08:25:06.891Z"
   },
   {
    "duration": 6,
    "start_time": "2024-02-13T08:25:11.196Z"
   },
   {
    "duration": 10,
    "start_time": "2024-02-13T08:25:11.203Z"
   },
   {
    "duration": 93,
    "start_time": "2024-02-13T08:25:11.215Z"
   },
   {
    "duration": 73,
    "start_time": "2024-02-13T08:25:11.310Z"
   },
   {
    "duration": 7,
    "start_time": "2024-02-13T08:25:11.385Z"
   },
   {
    "duration": 589,
    "start_time": "2024-02-13T08:25:11.393Z"
   },
   {
    "duration": 7,
    "start_time": "2024-02-13T08:25:11.983Z"
   },
   {
    "duration": 1077,
    "start_time": "2024-02-13T13:53:56.344Z"
   },
   {
    "duration": 35,
    "start_time": "2024-02-13T13:53:57.422Z"
   },
   {
    "duration": 11,
    "start_time": "2024-02-13T13:53:57.459Z"
   },
   {
    "duration": 44,
    "start_time": "2024-02-13T13:53:57.472Z"
   },
   {
    "duration": 10,
    "start_time": "2024-02-13T13:53:57.518Z"
   },
   {
    "duration": 20,
    "start_time": "2024-02-13T13:53:57.529Z"
   },
   {
    "duration": 8,
    "start_time": "2024-02-13T13:53:57.551Z"
   },
   {
    "duration": 10,
    "start_time": "2024-02-13T13:53:57.562Z"
   },
   {
    "duration": 6,
    "start_time": "2024-02-13T13:53:57.573Z"
   },
   {
    "duration": 8,
    "start_time": "2024-02-13T13:53:57.581Z"
   },
   {
    "duration": 32,
    "start_time": "2024-02-13T13:53:57.590Z"
   },
   {
    "duration": 21,
    "start_time": "2024-02-13T13:53:57.623Z"
   },
   {
    "duration": 7,
    "start_time": "2024-02-13T13:53:57.646Z"
   },
   {
    "duration": 172,
    "start_time": "2024-02-13T13:53:57.655Z"
   },
   {
    "duration": 147,
    "start_time": "2024-02-13T13:53:57.828Z"
   },
   {
    "duration": 5,
    "start_time": "2024-02-13T13:53:57.977Z"
   },
   {
    "duration": 9,
    "start_time": "2024-02-13T13:53:57.984Z"
   },
   {
    "duration": 25,
    "start_time": "2024-02-13T13:53:57.995Z"
   },
   {
    "duration": 167,
    "start_time": "2024-02-13T13:53:58.022Z"
   },
   {
    "duration": 8,
    "start_time": "2024-02-13T13:53:58.191Z"
   },
   {
    "duration": 101,
    "start_time": "2024-02-13T13:53:58.200Z"
   },
   {
    "duration": 19,
    "start_time": "2024-02-13T13:53:58.303Z"
   },
   {
    "duration": 206,
    "start_time": "2024-02-13T13:53:58.325Z"
   },
   {
    "duration": 179,
    "start_time": "2024-02-13T13:53:58.533Z"
   },
   {
    "duration": 15,
    "start_time": "2024-02-13T13:53:58.714Z"
   },
   {
    "duration": 210,
    "start_time": "2024-02-13T13:53:58.731Z"
   },
   {
    "duration": 16,
    "start_time": "2024-02-13T13:53:58.943Z"
   },
   {
    "duration": 12,
    "start_time": "2024-02-13T13:53:58.960Z"
   },
   {
    "duration": 3,
    "start_time": "2024-02-13T13:53:58.973Z"
   },
   {
    "duration": 7,
    "start_time": "2024-02-13T13:53:58.977Z"
   },
   {
    "duration": 11,
    "start_time": "2024-02-13T13:53:58.985Z"
   },
   {
    "duration": 39,
    "start_time": "2024-02-13T13:53:58.997Z"
   },
   {
    "duration": 21,
    "start_time": "2024-02-13T13:53:59.038Z"
   },
   {
    "duration": 25,
    "start_time": "2024-02-13T13:53:59.061Z"
   },
   {
    "duration": 12,
    "start_time": "2024-02-13T13:53:59.089Z"
   },
   {
    "duration": 233,
    "start_time": "2024-02-13T13:53:59.102Z"
   },
   {
    "duration": 10,
    "start_time": "2024-02-13T13:53:59.337Z"
   },
   {
    "duration": 13,
    "start_time": "2024-02-13T13:53:59.349Z"
   },
   {
    "duration": 275,
    "start_time": "2024-02-13T13:53:59.364Z"
   },
   {
    "duration": 8,
    "start_time": "2024-02-13T13:53:59.641Z"
   },
   {
    "duration": 22,
    "start_time": "2024-02-13T13:53:59.650Z"
   },
   {
    "duration": 33,
    "start_time": "2024-02-13T13:53:59.674Z"
   },
   {
    "duration": 16,
    "start_time": "2024-02-13T13:53:59.709Z"
   },
   {
    "duration": 33,
    "start_time": "2024-02-13T13:53:59.727Z"
   },
   {
    "duration": 16,
    "start_time": "2024-02-13T13:53:59.762Z"
   },
   {
    "duration": 21,
    "start_time": "2024-02-13T13:53:59.779Z"
   },
   {
    "duration": 33,
    "start_time": "2024-02-13T13:53:59.802Z"
   },
   {
    "duration": 29,
    "start_time": "2024-02-13T13:53:59.837Z"
   },
   {
    "duration": 5,
    "start_time": "2024-02-13T13:53:59.868Z"
   },
   {
    "duration": 17,
    "start_time": "2024-02-13T13:53:59.875Z"
   },
   {
    "duration": 12,
    "start_time": "2024-02-13T13:53:59.894Z"
   },
   {
    "duration": 1598,
    "start_time": "2024-02-13T13:53:59.908Z"
   },
   {
    "duration": 5,
    "start_time": "2024-02-13T13:54:01.507Z"
   },
   {
    "duration": 70,
    "start_time": "2024-02-13T13:54:01.513Z"
   },
   {
    "duration": 73,
    "start_time": "2024-02-13T13:54:01.585Z"
   },
   {
    "duration": 24,
    "start_time": "2024-02-13T13:54:01.659Z"
   },
   {
    "duration": 33,
    "start_time": "2024-02-13T13:54:01.685Z"
   },
   {
    "duration": 243,
    "start_time": "2024-02-13T13:54:01.719Z"
   },
   {
    "duration": 6,
    "start_time": "2024-02-13T13:54:01.964Z"
   },
   {
    "duration": 5,
    "start_time": "2024-02-13T13:58:45.667Z"
   },
   {
    "duration": 50,
    "start_time": "2024-02-15T20:21:35.164Z"
   },
   {
    "duration": 1226,
    "start_time": "2024-04-10T06:20:00.097Z"
   },
   {
    "duration": 39,
    "start_time": "2024-04-10T06:20:01.326Z"
   },
   {
    "duration": 104,
    "start_time": "2024-04-10T06:20:01.366Z"
   },
   {
    "duration": 111,
    "start_time": "2024-04-10T06:20:01.472Z"
   },
   {
    "duration": 66,
    "start_time": "2024-04-10T06:20:01.586Z"
   },
   {
    "duration": 145,
    "start_time": "2024-04-10T06:20:01.653Z"
   },
   {
    "duration": 149,
    "start_time": "2024-04-10T06:20:01.800Z"
   },
   {
    "duration": 199,
    "start_time": "2024-04-10T06:20:01.951Z"
   },
   {
    "duration": 55,
    "start_time": "2024-04-10T06:20:02.152Z"
   },
   {
    "duration": 76,
    "start_time": "2024-04-10T06:20:02.209Z"
   },
   {
    "duration": 423,
    "start_time": "2024-04-10T06:20:02.287Z"
   },
   {
    "duration": 170,
    "start_time": "2024-04-10T06:20:02.712Z"
   },
   {
    "duration": 24,
    "start_time": "2024-04-10T06:20:02.884Z"
   },
   {
    "duration": 18,
    "start_time": "2024-04-10T06:20:02.912Z"
   },
   {
    "duration": 191,
    "start_time": "2024-04-10T06:20:02.933Z"
   },
   {
    "duration": 153,
    "start_time": "2024-04-10T06:20:03.127Z"
   },
   {
    "duration": 12,
    "start_time": "2024-04-10T06:20:03.281Z"
   },
   {
    "duration": 26,
    "start_time": "2024-04-10T06:20:03.294Z"
   },
   {
    "duration": 31,
    "start_time": "2024-04-10T06:20:03.322Z"
   },
   {
    "duration": 221,
    "start_time": "2024-04-10T06:20:03.356Z"
   },
   {
    "duration": 19,
    "start_time": "2024-04-10T06:20:03.579Z"
   },
   {
    "duration": 145,
    "start_time": "2024-04-10T06:20:03.600Z"
   },
   {
    "duration": 11,
    "start_time": "2024-04-10T06:20:03.747Z"
   },
   {
    "duration": 288,
    "start_time": "2024-04-10T06:20:03.760Z"
   },
   {
    "duration": 209,
    "start_time": "2024-04-10T06:20:04.050Z"
   },
   {
    "duration": 11,
    "start_time": "2024-04-10T06:20:04.261Z"
   },
   {
    "duration": 238,
    "start_time": "2024-04-10T06:20:04.274Z"
   },
   {
    "duration": 19,
    "start_time": "2024-04-10T06:20:04.514Z"
   },
   {
    "duration": 13,
    "start_time": "2024-04-10T06:20:04.535Z"
   },
   {
    "duration": 3,
    "start_time": "2024-04-10T06:20:04.550Z"
   },
   {
    "duration": 16,
    "start_time": "2024-04-10T06:20:04.554Z"
   },
   {
    "duration": 23,
    "start_time": "2024-04-10T06:20:04.572Z"
   },
   {
    "duration": 26,
    "start_time": "2024-04-10T06:20:04.596Z"
   },
   {
    "duration": 28,
    "start_time": "2024-04-10T06:20:04.624Z"
   },
   {
    "duration": 39,
    "start_time": "2024-04-10T06:20:04.654Z"
   },
   {
    "duration": 15,
    "start_time": "2024-04-10T06:20:04.695Z"
   },
   {
    "duration": 212,
    "start_time": "2024-04-10T06:20:04.712Z"
   },
   {
    "duration": 10,
    "start_time": "2024-04-10T06:20:04.926Z"
   },
   {
    "duration": 12,
    "start_time": "2024-04-10T06:20:04.937Z"
   },
   {
    "duration": 236,
    "start_time": "2024-04-10T06:20:04.951Z"
   },
   {
    "duration": 11,
    "start_time": "2024-04-10T06:20:05.196Z"
   },
   {
    "duration": 11,
    "start_time": "2024-04-10T06:20:05.209Z"
   },
   {
    "duration": 145,
    "start_time": "2024-04-10T06:20:05.222Z"
   },
   {
    "duration": 11,
    "start_time": "2024-04-10T06:20:05.369Z"
   },
   {
    "duration": 54,
    "start_time": "2024-04-10T06:20:05.381Z"
   },
   {
    "duration": 19,
    "start_time": "2024-04-10T06:20:05.437Z"
   },
   {
    "duration": 15,
    "start_time": "2024-04-10T06:20:05.458Z"
   },
   {
    "duration": 31,
    "start_time": "2024-04-10T06:20:05.475Z"
   },
   {
    "duration": 25,
    "start_time": "2024-04-10T06:20:05.507Z"
   },
   {
    "duration": 8,
    "start_time": "2024-04-10T06:20:05.534Z"
   },
   {
    "duration": 10,
    "start_time": "2024-04-10T06:20:05.544Z"
   },
   {
    "duration": 17,
    "start_time": "2024-04-10T06:20:05.556Z"
   },
   {
    "duration": 1902,
    "start_time": "2024-04-10T06:20:05.575Z"
   },
   {
    "duration": 6,
    "start_time": "2024-04-10T06:20:07.478Z"
   },
   {
    "duration": 7,
    "start_time": "2024-04-10T06:20:07.492Z"
   },
   {
    "duration": 28,
    "start_time": "2024-04-10T06:20:07.501Z"
   },
   {
    "duration": 17,
    "start_time": "2024-04-10T06:20:07.531Z"
   },
   {
    "duration": 13,
    "start_time": "2024-04-10T06:20:07.550Z"
   },
   {
    "duration": 264,
    "start_time": "2024-04-10T06:20:07.564Z"
   },
   {
    "duration": 7,
    "start_time": "2024-04-10T06:20:07.830Z"
   },
   {
    "duration": 33,
    "start_time": "2024-04-10T06:22:40.581Z"
   },
   {
    "duration": 1160,
    "start_time": "2024-04-10T06:23:55.137Z"
   },
   {
    "duration": 39,
    "start_time": "2024-04-10T06:23:56.298Z"
   },
   {
    "duration": 12,
    "start_time": "2024-04-10T06:23:56.338Z"
   },
   {
    "duration": 52,
    "start_time": "2024-04-10T06:23:56.352Z"
   },
   {
    "duration": 16,
    "start_time": "2024-04-10T06:23:56.406Z"
   },
   {
    "duration": 15,
    "start_time": "2024-04-10T06:23:56.424Z"
   },
   {
    "duration": 31,
    "start_time": "2024-04-10T06:23:56.440Z"
   },
   {
    "duration": 10,
    "start_time": "2024-04-10T06:23:56.473Z"
   },
   {
    "duration": 21,
    "start_time": "2024-04-10T06:23:56.485Z"
   },
   {
    "duration": 20,
    "start_time": "2024-04-10T06:23:56.509Z"
   },
   {
    "duration": 25,
    "start_time": "2024-04-10T06:23:56.531Z"
   },
   {
    "duration": 20,
    "start_time": "2024-04-10T06:23:56.557Z"
   },
   {
    "duration": 12,
    "start_time": "2024-04-10T06:23:56.579Z"
   },
   {
    "duration": 17,
    "start_time": "2024-04-10T06:23:56.593Z"
   },
   {
    "duration": 12,
    "start_time": "2024-04-10T06:23:56.612Z"
   },
   {
    "duration": 180,
    "start_time": "2024-04-10T06:23:56.626Z"
   },
   {
    "duration": 153,
    "start_time": "2024-04-10T06:23:56.808Z"
   },
   {
    "duration": 7,
    "start_time": "2024-04-10T06:23:56.963Z"
   },
   {
    "duration": 26,
    "start_time": "2024-04-10T06:23:56.971Z"
   },
   {
    "duration": 30,
    "start_time": "2024-04-10T06:23:56.998Z"
   },
   {
    "duration": 190,
    "start_time": "2024-04-10T06:23:57.029Z"
   },
   {
    "duration": 6,
    "start_time": "2024-04-10T06:23:57.220Z"
   },
   {
    "duration": 111,
    "start_time": "2024-04-10T06:23:57.228Z"
   },
   {
    "duration": 8,
    "start_time": "2024-04-10T06:23:57.341Z"
   },
   {
    "duration": 230,
    "start_time": "2024-04-10T06:23:57.351Z"
   },
   {
    "duration": 216,
    "start_time": "2024-04-10T06:23:57.583Z"
   },
   {
    "duration": 10,
    "start_time": "2024-04-10T06:23:57.801Z"
   },
   {
    "duration": 231,
    "start_time": "2024-04-10T06:23:57.816Z"
   },
   {
    "duration": 18,
    "start_time": "2024-04-10T06:23:58.048Z"
   },
   {
    "duration": 26,
    "start_time": "2024-04-10T06:23:58.068Z"
   },
   {
    "duration": 3,
    "start_time": "2024-04-10T06:23:58.096Z"
   },
   {
    "duration": 22,
    "start_time": "2024-04-10T06:23:58.100Z"
   },
   {
    "duration": 13,
    "start_time": "2024-04-10T06:23:58.124Z"
   },
   {
    "duration": 29,
    "start_time": "2024-04-10T06:23:58.139Z"
   },
   {
    "duration": 31,
    "start_time": "2024-04-10T06:23:58.169Z"
   },
   {
    "duration": 14,
    "start_time": "2024-04-10T06:23:58.202Z"
   },
   {
    "duration": 17,
    "start_time": "2024-04-10T06:23:58.218Z"
   },
   {
    "duration": 226,
    "start_time": "2024-04-10T06:23:58.237Z"
   },
   {
    "duration": 10,
    "start_time": "2024-04-10T06:23:58.465Z"
   },
   {
    "duration": 9,
    "start_time": "2024-04-10T06:23:58.491Z"
   },
   {
    "duration": 219,
    "start_time": "2024-04-10T06:23:58.502Z"
   },
   {
    "duration": 10,
    "start_time": "2024-04-10T06:23:58.723Z"
   },
   {
    "duration": 17,
    "start_time": "2024-04-10T06:23:58.735Z"
   },
   {
    "duration": 53,
    "start_time": "2024-04-10T06:23:58.754Z"
   },
   {
    "duration": 12,
    "start_time": "2024-04-10T06:23:58.809Z"
   },
   {
    "duration": 3,
    "start_time": "2024-04-10T06:23:58.823Z"
   },
   {
    "duration": 11,
    "start_time": "2024-04-10T06:23:58.828Z"
   },
   {
    "duration": 107,
    "start_time": "2024-04-10T06:23:58.840Z"
   },
   {
    "duration": 6,
    "start_time": "2024-04-10T06:23:58.949Z"
   },
   {
    "duration": 36,
    "start_time": "2024-04-10T06:23:58.957Z"
   },
   {
    "duration": 5,
    "start_time": "2024-04-10T06:23:58.995Z"
   },
   {
    "duration": 26,
    "start_time": "2024-04-10T06:23:59.001Z"
   },
   {
    "duration": 19,
    "start_time": "2024-04-10T06:23:59.029Z"
   },
   {
    "duration": 1712,
    "start_time": "2024-04-10T06:23:59.050Z"
   },
   {
    "duration": 5,
    "start_time": "2024-04-10T06:24:00.764Z"
   },
   {
    "duration": 102,
    "start_time": "2024-04-10T06:24:00.771Z"
   },
   {
    "duration": 74,
    "start_time": "2024-04-10T06:24:00.875Z"
   },
   {
    "duration": 488,
    "start_time": "2024-04-10T06:24:00.951Z"
   },
   {
    "duration": 198,
    "start_time": "2024-04-10T06:24:01.442Z"
   },
   {
    "duration": 279,
    "start_time": "2024-04-10T06:24:01.641Z"
   },
   {
    "duration": 6,
    "start_time": "2024-04-10T06:24:01.922Z"
   },
   {
    "duration": 6,
    "start_time": "2024-04-10T06:24:45.421Z"
   },
   {
    "duration": 5,
    "start_time": "2024-04-10T06:25:12.250Z"
   },
   {
    "duration": 1227,
    "start_time": "2024-04-10T06:26:41.365Z"
   },
   {
    "duration": 39,
    "start_time": "2024-04-10T06:26:42.594Z"
   },
   {
    "duration": 12,
    "start_time": "2024-04-10T06:26:42.634Z"
   },
   {
    "duration": 44,
    "start_time": "2024-04-10T06:26:42.648Z"
   },
   {
    "duration": 13,
    "start_time": "2024-04-10T06:26:42.695Z"
   },
   {
    "duration": 20,
    "start_time": "2024-04-10T06:26:42.710Z"
   },
   {
    "duration": 11,
    "start_time": "2024-04-10T06:26:42.731Z"
   },
   {
    "duration": 4,
    "start_time": "2024-04-10T06:26:42.744Z"
   },
   {
    "duration": 12,
    "start_time": "2024-04-10T06:26:42.750Z"
   },
   {
    "duration": 13,
    "start_time": "2024-04-10T06:26:42.792Z"
   },
   {
    "duration": 18,
    "start_time": "2024-04-10T06:26:42.807Z"
   },
   {
    "duration": 37,
    "start_time": "2024-04-10T06:26:42.826Z"
   },
   {
    "duration": 18,
    "start_time": "2024-04-10T06:26:42.865Z"
   },
   {
    "duration": 6,
    "start_time": "2024-04-10T06:26:42.886Z"
   },
   {
    "duration": 11,
    "start_time": "2024-04-10T06:26:42.894Z"
   },
   {
    "duration": 181,
    "start_time": "2024-04-10T06:26:42.907Z"
   },
   {
    "duration": 150,
    "start_time": "2024-04-10T06:26:43.091Z"
   },
   {
    "duration": 6,
    "start_time": "2024-04-10T06:26:43.243Z"
   },
   {
    "duration": 34,
    "start_time": "2024-04-10T06:26:43.251Z"
   },
   {
    "duration": 33,
    "start_time": "2024-04-10T06:26:43.287Z"
   },
   {
    "duration": 186,
    "start_time": "2024-04-10T06:26:43.321Z"
   },
   {
    "duration": 7,
    "start_time": "2024-04-10T06:26:43.509Z"
   },
   {
    "duration": 97,
    "start_time": "2024-04-10T06:26:43.518Z"
   },
   {
    "duration": 8,
    "start_time": "2024-04-10T06:26:43.617Z"
   },
   {
    "duration": 223,
    "start_time": "2024-04-10T06:26:43.627Z"
   },
   {
    "duration": 191,
    "start_time": "2024-04-10T06:26:43.852Z"
   },
   {
    "duration": 11,
    "start_time": "2024-04-10T06:26:44.044Z"
   },
   {
    "duration": 225,
    "start_time": "2024-04-10T06:26:44.057Z"
   },
   {
    "duration": 21,
    "start_time": "2024-04-10T06:26:44.283Z"
   },
   {
    "duration": 8,
    "start_time": "2024-04-10T06:26:44.305Z"
   },
   {
    "duration": 12,
    "start_time": "2024-04-10T06:26:44.314Z"
   },
   {
    "duration": 5,
    "start_time": "2024-04-10T06:26:44.328Z"
   },
   {
    "duration": 13,
    "start_time": "2024-04-10T06:26:44.335Z"
   },
   {
    "duration": 43,
    "start_time": "2024-04-10T06:26:44.350Z"
   },
   {
    "duration": 26,
    "start_time": "2024-04-10T06:26:44.394Z"
   },
   {
    "duration": 13,
    "start_time": "2024-04-10T06:26:44.422Z"
   },
   {
    "duration": 46,
    "start_time": "2024-04-10T06:26:44.437Z"
   },
   {
    "duration": 186,
    "start_time": "2024-04-10T06:26:44.485Z"
   },
   {
    "duration": 9,
    "start_time": "2024-04-10T06:26:44.672Z"
   },
   {
    "duration": 18,
    "start_time": "2024-04-10T06:26:44.683Z"
   },
   {
    "duration": 202,
    "start_time": "2024-04-10T06:26:44.705Z"
   },
   {
    "duration": 9,
    "start_time": "2024-04-10T06:26:44.908Z"
   },
   {
    "duration": 10,
    "start_time": "2024-04-10T06:26:44.919Z"
   },
   {
    "duration": 139,
    "start_time": "2024-04-10T06:26:44.931Z"
   },
   {
    "duration": 10,
    "start_time": "2024-04-10T06:26:45.071Z"
   },
   {
    "duration": 64,
    "start_time": "2024-04-10T06:26:45.092Z"
   },
   {
    "duration": 127,
    "start_time": "2024-04-10T06:26:45.158Z"
   },
   {
    "duration": 55,
    "start_time": "2024-04-10T06:26:45.286Z"
   },
   {
    "duration": 27,
    "start_time": "2024-04-10T06:26:45.343Z"
   },
   {
    "duration": 38,
    "start_time": "2024-04-10T06:26:45.372Z"
   },
   {
    "duration": 52,
    "start_time": "2024-04-10T06:26:45.412Z"
   },
   {
    "duration": 51,
    "start_time": "2024-04-10T06:26:45.466Z"
   },
   {
    "duration": 49,
    "start_time": "2024-04-10T06:26:45.518Z"
   },
   {
    "duration": 1778,
    "start_time": "2024-04-10T06:26:45.569Z"
   },
   {
    "duration": 5,
    "start_time": "2024-04-10T06:26:47.348Z"
   },
   {
    "duration": 15,
    "start_time": "2024-04-10T06:26:47.355Z"
   },
   {
    "duration": 51,
    "start_time": "2024-04-10T06:26:47.371Z"
   },
   {
    "duration": 7,
    "start_time": "2024-04-10T06:26:47.424Z"
   },
   {
    "duration": 38,
    "start_time": "2024-04-10T06:26:47.433Z"
   },
   {
    "duration": 278,
    "start_time": "2024-04-10T06:26:47.473Z"
   },
   {
    "duration": 5,
    "start_time": "2024-04-10T06:26:47.753Z"
   },
   {
    "duration": 5,
    "start_time": "2024-04-10T06:29:58.629Z"
   },
   {
    "duration": 1154,
    "start_time": "2024-04-10T06:30:06.732Z"
   },
   {
    "duration": 38,
    "start_time": "2024-04-10T06:30:07.888Z"
   },
   {
    "duration": 11,
    "start_time": "2024-04-10T06:30:07.928Z"
   },
   {
    "duration": 38,
    "start_time": "2024-04-10T06:30:07.941Z"
   },
   {
    "duration": 12,
    "start_time": "2024-04-10T06:30:07.980Z"
   },
   {
    "duration": 21,
    "start_time": "2024-04-10T06:30:07.994Z"
   },
   {
    "duration": 14,
    "start_time": "2024-04-10T06:30:08.017Z"
   },
   {
    "duration": 7,
    "start_time": "2024-04-10T06:30:08.033Z"
   },
   {
    "duration": 12,
    "start_time": "2024-04-10T06:30:08.042Z"
   },
   {
    "duration": 11,
    "start_time": "2024-04-10T06:30:08.057Z"
   },
   {
    "duration": 8,
    "start_time": "2024-04-10T06:30:08.092Z"
   },
   {
    "duration": 23,
    "start_time": "2024-04-10T06:30:08.101Z"
   },
   {
    "duration": 5,
    "start_time": "2024-04-10T06:30:08.126Z"
   },
   {
    "duration": 7,
    "start_time": "2024-04-10T06:30:08.133Z"
   },
   {
    "duration": 9,
    "start_time": "2024-04-10T06:30:08.142Z"
   },
   {
    "duration": 192,
    "start_time": "2024-04-10T06:30:08.153Z"
   },
   {
    "duration": 157,
    "start_time": "2024-04-10T06:30:08.346Z"
   },
   {
    "duration": 7,
    "start_time": "2024-04-10T06:30:08.505Z"
   },
   {
    "duration": 13,
    "start_time": "2024-04-10T06:30:08.514Z"
   },
   {
    "duration": 28,
    "start_time": "2024-04-10T06:30:08.529Z"
   },
   {
    "duration": 176,
    "start_time": "2024-04-10T06:30:08.559Z"
   },
   {
    "duration": 6,
    "start_time": "2024-04-10T06:30:08.737Z"
   },
   {
    "duration": 105,
    "start_time": "2024-04-10T06:30:08.745Z"
   },
   {
    "duration": 11,
    "start_time": "2024-04-10T06:30:08.851Z"
   },
   {
    "duration": 218,
    "start_time": "2024-04-10T06:30:08.864Z"
   },
   {
    "duration": 180,
    "start_time": "2024-04-10T06:30:09.091Z"
   },
   {
    "duration": 20,
    "start_time": "2024-04-10T06:30:09.273Z"
   },
   {
    "duration": 204,
    "start_time": "2024-04-10T06:30:09.297Z"
   },
   {
    "duration": 17,
    "start_time": "2024-04-10T06:30:09.502Z"
   },
   {
    "duration": 7,
    "start_time": "2024-04-10T06:30:09.521Z"
   },
   {
    "duration": 3,
    "start_time": "2024-04-10T06:30:09.529Z"
   },
   {
    "duration": 14,
    "start_time": "2024-04-10T06:30:09.534Z"
   },
   {
    "duration": 15,
    "start_time": "2024-04-10T06:30:09.550Z"
   },
   {
    "duration": 42,
    "start_time": "2024-04-10T06:30:09.567Z"
   },
   {
    "duration": 26,
    "start_time": "2024-04-10T06:30:09.610Z"
   },
   {
    "duration": 13,
    "start_time": "2024-04-10T06:30:09.638Z"
   },
   {
    "duration": 13,
    "start_time": "2024-04-10T06:30:09.653Z"
   },
   {
    "duration": 237,
    "start_time": "2024-04-10T06:30:09.668Z"
   },
   {
    "duration": 9,
    "start_time": "2024-04-10T06:30:09.907Z"
   },
   {
    "duration": 8,
    "start_time": "2024-04-10T06:30:09.917Z"
   },
   {
    "duration": 231,
    "start_time": "2024-04-10T06:30:09.927Z"
   },
   {
    "duration": 9,
    "start_time": "2024-04-10T06:30:10.160Z"
   },
   {
    "duration": 28,
    "start_time": "2024-04-10T06:30:10.171Z"
   },
   {
    "duration": 34,
    "start_time": "2024-04-10T06:30:10.200Z"
   },
   {
    "duration": 10,
    "start_time": "2024-04-10T06:30:10.236Z"
   },
   {
    "duration": 11,
    "start_time": "2024-04-10T06:30:10.248Z"
   },
   {
    "duration": 29,
    "start_time": "2024-04-10T06:30:10.261Z"
   },
   {
    "duration": 86,
    "start_time": "2024-04-10T06:30:10.292Z"
   },
   {
    "duration": 14,
    "start_time": "2024-04-10T06:30:10.380Z"
   },
   {
    "duration": 9,
    "start_time": "2024-04-10T06:30:10.395Z"
   },
   {
    "duration": 5,
    "start_time": "2024-04-10T06:30:10.406Z"
   },
   {
    "duration": 8,
    "start_time": "2024-04-10T06:30:10.413Z"
   },
   {
    "duration": 6,
    "start_time": "2024-04-10T06:30:10.423Z"
   },
   {
    "duration": 1786,
    "start_time": "2024-04-10T06:30:10.431Z"
   },
   {
    "duration": 5,
    "start_time": "2024-04-10T06:30:12.219Z"
   },
   {
    "duration": 22,
    "start_time": "2024-04-10T06:30:12.225Z"
   },
   {
    "duration": 29,
    "start_time": "2024-04-10T06:30:12.249Z"
   },
   {
    "duration": 15,
    "start_time": "2024-04-10T06:30:12.280Z"
   },
   {
    "duration": 5,
    "start_time": "2024-04-10T06:30:12.297Z"
   },
   {
    "duration": 244,
    "start_time": "2024-04-10T06:30:12.303Z"
   },
   {
    "duration": 6,
    "start_time": "2024-04-10T06:30:12.549Z"
   },
   {
    "duration": 9,
    "start_time": "2024-04-10T06:35:23.903Z"
   },
   {
    "duration": 7,
    "start_time": "2024-04-10T06:35:58.234Z"
   },
   {
    "duration": 125,
    "start_time": "2024-04-10T06:36:06.899Z"
   },
   {
    "duration": 6,
    "start_time": "2024-04-10T06:36:19.351Z"
   },
   {
    "duration": 7,
    "start_time": "2024-04-10T06:36:39.681Z"
   },
   {
    "duration": 8,
    "start_time": "2024-04-10T06:36:48.127Z"
   },
   {
    "duration": 8,
    "start_time": "2024-04-10T06:37:09.232Z"
   },
   {
    "duration": 145,
    "start_time": "2024-04-10T06:41:34.513Z"
   },
   {
    "duration": 146,
    "start_time": "2024-04-10T06:41:44.375Z"
   },
   {
    "duration": 1246,
    "start_time": "2024-04-10T06:41:50.065Z"
   },
   {
    "duration": 39,
    "start_time": "2024-04-10T06:41:51.313Z"
   },
   {
    "duration": 12,
    "start_time": "2024-04-10T06:41:51.354Z"
   },
   {
    "duration": 37,
    "start_time": "2024-04-10T06:41:51.369Z"
   },
   {
    "duration": 13,
    "start_time": "2024-04-10T06:41:51.408Z"
   },
   {
    "duration": 41,
    "start_time": "2024-04-10T06:41:51.423Z"
   },
   {
    "duration": 11,
    "start_time": "2024-04-10T06:41:51.467Z"
   },
   {
    "duration": 5,
    "start_time": "2024-04-10T06:41:51.480Z"
   },
   {
    "duration": 20,
    "start_time": "2024-04-10T06:41:51.487Z"
   },
   {
    "duration": 11,
    "start_time": "2024-04-10T06:41:51.511Z"
   },
   {
    "duration": 14,
    "start_time": "2024-04-10T06:41:51.524Z"
   },
   {
    "duration": 6,
    "start_time": "2024-04-10T06:41:51.540Z"
   },
   {
    "duration": 39,
    "start_time": "2024-04-10T06:41:51.547Z"
   },
   {
    "duration": 33,
    "start_time": "2024-04-10T06:41:51.588Z"
   },
   {
    "duration": 35,
    "start_time": "2024-04-10T06:41:51.624Z"
   },
   {
    "duration": 220,
    "start_time": "2024-04-10T06:41:51.660Z"
   },
   {
    "duration": 10,
    "start_time": "2024-04-10T06:41:51.882Z"
   },
   {
    "duration": 21,
    "start_time": "2024-04-10T06:41:51.894Z"
   },
   {
    "duration": 244,
    "start_time": "2024-04-10T06:41:51.917Z"
   },
   {
    "duration": 6,
    "start_time": "2024-04-10T06:41:52.163Z"
   },
   {
    "duration": 119,
    "start_time": "2024-04-10T06:41:52.171Z"
   },
   {
    "duration": 8,
    "start_time": "2024-04-10T06:41:52.292Z"
   },
   {
    "duration": 225,
    "start_time": "2024-04-10T06:41:52.301Z"
   },
   {
    "duration": 186,
    "start_time": "2024-04-10T06:41:52.527Z"
   },
   {
    "duration": 9,
    "start_time": "2024-04-10T06:41:52.715Z"
   },
   {
    "duration": 216,
    "start_time": "2024-04-10T06:41:52.725Z"
   },
   {
    "duration": 17,
    "start_time": "2024-04-10T06:41:52.943Z"
   },
   {
    "duration": 7,
    "start_time": "2024-04-10T06:41:52.964Z"
   },
   {
    "duration": 23,
    "start_time": "2024-04-10T06:41:52.972Z"
   },
   {
    "duration": 6,
    "start_time": "2024-04-10T06:41:52.996Z"
   },
   {
    "duration": 12,
    "start_time": "2024-04-10T06:41:53.004Z"
   },
   {
    "duration": 26,
    "start_time": "2024-04-10T06:41:53.018Z"
   },
   {
    "duration": 48,
    "start_time": "2024-04-10T06:41:53.045Z"
   },
   {
    "duration": 14,
    "start_time": "2024-04-10T06:41:53.094Z"
   },
   {
    "duration": 13,
    "start_time": "2024-04-10T06:41:53.110Z"
   },
   {
    "duration": 221,
    "start_time": "2024-04-10T06:41:53.125Z"
   },
   {
    "duration": 9,
    "start_time": "2024-04-10T06:41:53.348Z"
   },
   {
    "duration": 12,
    "start_time": "2024-04-10T06:41:53.358Z"
   },
   {
    "duration": 220,
    "start_time": "2024-04-10T06:41:53.371Z"
   },
   {
    "duration": 9,
    "start_time": "2024-04-10T06:41:53.593Z"
   },
   {
    "duration": 10,
    "start_time": "2024-04-10T06:41:53.604Z"
   },
   {
    "duration": 40,
    "start_time": "2024-04-10T06:41:53.615Z"
   },
   {
    "duration": 40,
    "start_time": "2024-04-10T06:41:53.657Z"
   },
   {
    "duration": 3,
    "start_time": "2024-04-10T06:41:53.698Z"
   },
   {
    "duration": 106,
    "start_time": "2024-04-10T06:41:53.702Z"
   },
   {
    "duration": 20,
    "start_time": "2024-04-10T06:41:53.810Z"
   },
   {
    "duration": 41,
    "start_time": "2024-04-10T06:41:53.832Z"
   },
   {
    "duration": 14,
    "start_time": "2024-04-10T06:41:53.874Z"
   },
   {
    "duration": 10,
    "start_time": "2024-04-10T06:41:53.890Z"
   },
   {
    "duration": 17,
    "start_time": "2024-04-10T06:41:53.902Z"
   },
   {
    "duration": 18,
    "start_time": "2024-04-10T06:41:53.921Z"
   },
   {
    "duration": 1715,
    "start_time": "2024-04-10T06:41:53.941Z"
   },
   {
    "duration": 4,
    "start_time": "2024-04-10T06:41:55.658Z"
   },
   {
    "duration": 23,
    "start_time": "2024-04-10T06:41:55.663Z"
   },
   {
    "duration": 163,
    "start_time": "2024-04-10T06:41:55.688Z"
   },
   {
    "duration": 5,
    "start_time": "2024-04-10T06:41:55.853Z"
   },
   {
    "duration": 9,
    "start_time": "2024-04-10T06:41:55.860Z"
   },
   {
    "duration": 285,
    "start_time": "2024-04-10T06:41:55.871Z"
   },
   {
    "duration": 6,
    "start_time": "2024-04-10T06:41:56.158Z"
   },
   {
    "duration": 89,
    "start_time": "2024-04-10T06:43:03.912Z"
   },
   {
    "duration": 128,
    "start_time": "2024-04-10T06:45:23.297Z"
   },
   {
    "duration": 94,
    "start_time": "2024-04-10T06:45:29.982Z"
   },
   {
    "duration": 85,
    "start_time": "2024-04-10T06:45:36.712Z"
   },
   {
    "duration": 92,
    "start_time": "2024-04-10T06:46:55.832Z"
   },
   {
    "duration": 1257,
    "start_time": "2024-04-10T07:16:54.850Z"
   },
   {
    "duration": 38,
    "start_time": "2024-04-10T07:16:56.109Z"
   },
   {
    "duration": 15,
    "start_time": "2024-04-10T07:16:56.149Z"
   },
   {
    "duration": 37,
    "start_time": "2024-04-10T07:16:56.167Z"
   },
   {
    "duration": 12,
    "start_time": "2024-04-10T07:16:56.205Z"
   },
   {
    "duration": 51,
    "start_time": "2024-04-10T07:16:56.219Z"
   },
   {
    "duration": 20,
    "start_time": "2024-04-10T07:16:56.272Z"
   },
   {
    "duration": 7,
    "start_time": "2024-04-10T07:16:56.294Z"
   },
   {
    "duration": 26,
    "start_time": "2024-04-10T07:16:56.303Z"
   },
   {
    "duration": 12,
    "start_time": "2024-04-10T07:16:56.333Z"
   },
   {
    "duration": 13,
    "start_time": "2024-04-10T07:16:56.347Z"
   },
   {
    "duration": 7,
    "start_time": "2024-04-10T07:16:56.362Z"
   },
   {
    "duration": 25,
    "start_time": "2024-04-10T07:16:56.370Z"
   },
   {
    "duration": 9,
    "start_time": "2024-04-10T07:16:56.397Z"
   },
   {
    "duration": 7,
    "start_time": "2024-04-10T07:16:56.408Z"
   },
   {
    "duration": 182,
    "start_time": "2024-04-10T07:16:56.417Z"
   },
   {
    "duration": 8,
    "start_time": "2024-04-10T07:16:56.601Z"
   },
   {
    "duration": 14,
    "start_time": "2024-04-10T07:16:56.611Z"
   },
   {
    "duration": 210,
    "start_time": "2024-04-10T07:16:56.626Z"
   },
   {
    "duration": 6,
    "start_time": "2024-04-10T07:16:56.838Z"
   },
   {
    "duration": 94,
    "start_time": "2024-04-10T07:16:56.846Z"
   },
   {
    "duration": 9,
    "start_time": "2024-04-10T07:16:56.942Z"
   },
   {
    "duration": 218,
    "start_time": "2024-04-10T07:16:56.952Z"
   },
   {
    "duration": 199,
    "start_time": "2024-04-10T07:16:57.172Z"
   },
   {
    "duration": 9,
    "start_time": "2024-04-10T07:16:57.372Z"
   },
   {
    "duration": 216,
    "start_time": "2024-04-10T07:16:57.383Z"
   },
   {
    "duration": 23,
    "start_time": "2024-04-10T07:16:57.602Z"
   },
   {
    "duration": 11,
    "start_time": "2024-04-10T07:16:57.631Z"
   },
   {
    "duration": 56,
    "start_time": "2024-04-10T07:16:57.645Z"
   },
   {
    "duration": 26,
    "start_time": "2024-04-10T07:16:57.703Z"
   },
   {
    "duration": 14,
    "start_time": "2024-04-10T07:16:57.730Z"
   },
   {
    "duration": 14,
    "start_time": "2024-04-10T07:16:57.746Z"
   },
   {
    "duration": 224,
    "start_time": "2024-04-10T07:16:57.761Z"
   },
   {
    "duration": 8,
    "start_time": "2024-04-10T07:16:57.992Z"
   },
   {
    "duration": 12,
    "start_time": "2024-04-10T07:16:58.002Z"
   },
   {
    "duration": 227,
    "start_time": "2024-04-10T07:16:58.016Z"
   },
   {
    "duration": 10,
    "start_time": "2024-04-10T07:16:58.244Z"
   },
   {
    "duration": 8,
    "start_time": "2024-04-10T07:16:58.257Z"
   },
   {
    "duration": 53,
    "start_time": "2024-04-10T07:16:58.267Z"
   },
   {
    "duration": 11,
    "start_time": "2024-04-10T07:16:58.321Z"
   },
   {
    "duration": 15,
    "start_time": "2024-04-10T07:16:58.334Z"
   },
   {
    "duration": 23,
    "start_time": "2024-04-10T07:16:58.351Z"
   },
   {
    "duration": 17,
    "start_time": "2024-04-10T07:16:58.376Z"
   },
   {
    "duration": 6,
    "start_time": "2024-04-10T07:16:58.395Z"
   },
   {
    "duration": 10,
    "start_time": "2024-04-10T07:16:58.402Z"
   },
   {
    "duration": 14,
    "start_time": "2024-04-10T07:16:58.414Z"
   },
   {
    "duration": 1747,
    "start_time": "2024-04-10T07:16:58.429Z"
   },
   {
    "duration": 4,
    "start_time": "2024-04-10T07:17:00.178Z"
   },
   {
    "duration": 215,
    "start_time": "2024-04-10T07:17:00.192Z"
   },
   {
    "duration": 388,
    "start_time": "2024-04-10T07:17:00.409Z"
   },
   {
    "duration": 172,
    "start_time": "2024-04-10T07:17:00.799Z"
   },
   {
    "duration": 51,
    "start_time": "2024-04-10T07:17:00.973Z"
   },
   {
    "duration": 287,
    "start_time": "2024-04-10T07:17:01.025Z"
   },
   {
    "duration": 6,
    "start_time": "2024-04-10T07:17:01.314Z"
   }
  ],
  "kernelspec": {
   "display_name": "Python 3 (ipykernel)",
   "language": "python",
   "name": "python3"
  },
  "language_info": {
   "codemirror_mode": {
    "name": "ipython",
    "version": 3
   },
   "file_extension": ".py",
   "mimetype": "text/x-python",
   "name": "python",
   "nbconvert_exporter": "python",
   "pygments_lexer": "ipython3",
   "version": "3.9.5"
  },
  "toc": {
   "base_numbering": 1,
   "nav_menu": {},
   "number_sections": true,
   "sideBar": true,
   "skip_h1_title": true,
   "title_cell": "Table of Contents",
   "title_sidebar": "Contents",
   "toc_cell": false,
   "toc_position": {},
   "toc_section_display": true,
   "toc_window_display": true
  }
 },
 "nbformat": 4,
 "nbformat_minor": 5
}
